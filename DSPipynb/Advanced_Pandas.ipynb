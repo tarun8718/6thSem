{
  "nbformat": 4,
  "nbformat_minor": 0,
  "metadata": {
    "kernelspec": {
      "display_name": "Python 3",
      "language": "python",
      "name": "python3"
    },
    "language_info": {
      "codemirror_mode": {
        "name": "ipython",
        "version": 3
      },
      "file_extension": ".py",
      "mimetype": "text/x-python",
      "name": "python",
      "nbconvert_exporter": "python",
      "pygments_lexer": "ipython3",
      "version": "3.5.1"
    },
    "colab": {
      "name": "Advanced Pandas.ipynb",
      "provenance": [],
      "collapsed_sections": []
    }
  },
  "cells": [
    {
      "cell_type": "markdown",
      "metadata": {
        "deletable": true,
        "editable": true,
        "id": "Ob0q_h02Dkjs"
      },
      "source": [
        "# Advanced pandas"
      ]
    },
    {
      "cell_type": "code",
      "metadata": {
        "deletable": true,
        "editable": true,
        "id": "-4nCbcUWDkjv"
      },
      "source": [
        "import numpy as np\n",
        "import pandas as pd\n",
        "np.random.seed(12345)\n",
        "import matplotlib.pyplot as plt\n",
        "plt.rc('figure', figsize=(10, 6))\n",
        "PREVIOUS_MAX_ROWS = pd.options.display.max_rows\n",
        "pd.options.display.max_rows = 20\n",
        "np.set_printoptions(precision=4, suppress=True)"
      ],
      "execution_count": null,
      "outputs": []
    },
    {
      "cell_type": "markdown",
      "metadata": {
        "deletable": true,
        "editable": true,
        "id": "TmEqiNV1Dkjw"
      },
      "source": [
        "## Categorical Data"
      ]
    },
    {
      "cell_type": "markdown",
      "metadata": {
        "deletable": true,
        "editable": true,
        "id": "8xeClr8xDkjx"
      },
      "source": [
        "### Background and Motivation"
      ]
    },
    {
      "cell_type": "code",
      "metadata": {
        "deletable": true,
        "editable": true,
        "id": "YojtvEp7Dkjx",
        "colab": {
          "base_uri": "https://localhost:8080/"
        },
        "outputId": "9ece98c5-3630-4fcc-d0f7-7d9b084b88f2"
      },
      "source": [
        "import numpy as np; import pandas as pd\n",
        "values = pd.Series(['apple', 'orange', 'apple',\n",
        "                    'apple'] * 2)\n",
        "print(values)\n",
        "print(pd.unique(values))               #Returns the unique values\n",
        "pd.value_counts(values)         #Returns the count of each unique value"
      ],
      "execution_count": null,
      "outputs": [
        {
          "output_type": "stream",
          "text": [
            "0     apple\n",
            "1    orange\n",
            "2     apple\n",
            "3     apple\n",
            "4     apple\n",
            "5    orange\n",
            "6     apple\n",
            "7     apple\n",
            "dtype: object\n",
            "['apple' 'orange']\n"
          ],
          "name": "stdout"
        },
        {
          "output_type": "execute_result",
          "data": {
            "text/plain": [
              "apple     6\n",
              "orange    2\n",
              "dtype: int64"
            ]
          },
          "metadata": {
            "tags": []
          },
          "execution_count": 55
        }
      ]
    },
    {
      "cell_type": "code",
      "metadata": {
        "deletable": true,
        "editable": true,
        "id": "VenfpYnnDkjy",
        "colab": {
          "base_uri": "https://localhost:8080/"
        },
        "outputId": "6100b70f-2979-45fd-9589-18604f7335ed"
      },
      "source": [
        "values = pd.Series([0, 1, 0, 0] * 2)\n",
        "dim = pd.Series(['apple', 'orange'])\n",
        "print(values)\n",
        "dim"
      ],
      "execution_count": null,
      "outputs": [
        {
          "output_type": "stream",
          "text": [
            "0    0\n",
            "1    1\n",
            "2    0\n",
            "3    0\n",
            "4    0\n",
            "5    1\n",
            "6    0\n",
            "7    0\n",
            "dtype: int64\n"
          ],
          "name": "stdout"
        },
        {
          "output_type": "execute_result",
          "data": {
            "text/plain": [
              "0     apple\n",
              "1    orange\n",
              "dtype: object"
            ]
          },
          "metadata": {
            "tags": []
          },
          "execution_count": 56
        }
      ]
    },
    {
      "cell_type": "code",
      "metadata": {
        "deletable": true,
        "editable": true,
        "id": "uGjC6YifDkjy",
        "colab": {
          "base_uri": "https://localhost:8080/"
        },
        "outputId": "11bfd729-4d93-4133-fa9e-0c8fd863b783"
      },
      "source": [
        "#Many data systems  have developed specialized approaches for representing data \n",
        "#with repeated values for more efficient storage and computation. \n",
        "#In data warehousing, a best practice is to use so called dimension tables \n",
        "#containing the distinct values and storing the primary observations \n",
        "#as integer keys referencing the dimension table:\n",
        "\n",
        "dim.take(values)\n",
        "\n",
        "#use the take method to restore the original Series of strings\n",
        "\n",
        "\n",
        "#This representation as integers is called the categorical or dictionary-encoded \n",
        "#representation. The array of distinct values can be called the categories, \n",
        "#dictionary, or levels of the data. The integer values that reference the \n",
        "#categories are called the category codes or simply codes."
      ],
      "execution_count": null,
      "outputs": [
        {
          "output_type": "execute_result",
          "data": {
            "text/plain": [
              "0     apple\n",
              "1    orange\n",
              "0     apple\n",
              "0     apple\n",
              "0     apple\n",
              "1    orange\n",
              "0     apple\n",
              "0     apple\n",
              "dtype: object"
            ]
          },
          "metadata": {
            "tags": []
          },
          "execution_count": 57
        }
      ]
    },
    {
      "cell_type": "markdown",
      "metadata": {
        "deletable": true,
        "editable": true,
        "id": "NbAvn71QDkjz"
      },
      "source": [
        "### Categorical Type in pandas"
      ]
    },
    {
      "cell_type": "code",
      "metadata": {
        "deletable": true,
        "editable": true,
        "id": "HsFLWBtDDkjz",
        "colab": {
          "base_uri": "https://localhost:8080/"
        },
        "outputId": "585a8f68-a183-41ba-d446-9cec2778a99c"
      },
      "source": [
        "fruits = ['apple', 'orange', 'apple', 'apple'] * 2\n",
        "N = len(fruits)\n",
        "df = pd.DataFrame({'fruit': fruits,\n",
        "                   'basket_id': np.arange(N),\n",
        "                   'count': np.random.randint(3, 15, size=N),\n",
        "                   'weight': np.random.uniform(0, 4, size=N)},\n",
        "                  columns=['basket_id', 'fruit', 'count', 'weight'])\n",
        "df\n",
        "\n",
        "type(df['fruit'])"
      ],
      "execution_count": null,
      "outputs": [
        {
          "output_type": "execute_result",
          "data": {
            "text/plain": [
              "pandas.core.series.Series"
            ]
          },
          "metadata": {
            "tags": []
          },
          "execution_count": 116
        }
      ]
    },
    {
      "cell_type": "code",
      "metadata": {
        "deletable": true,
        "editable": true,
        "id": "hnb9RT4NDkj0",
        "colab": {
          "base_uri": "https://localhost:8080/"
        },
        "outputId": "5c3eae03-adaa-4eb4-c6d6-1d1234024113"
      },
      "source": [
        "#df['fruit'] is an array of Python string objects. We can convert it to categorical\n",
        "#by calling:\n",
        "fruit_cat = df['fruit'].astype('category')\n",
        "fruit_cat"
      ],
      "execution_count": null,
      "outputs": [
        {
          "output_type": "execute_result",
          "data": {
            "text/plain": [
              "0     apple\n",
              "1    orange\n",
              "2     apple\n",
              "3     apple\n",
              "4     apple\n",
              "5    orange\n",
              "6     apple\n",
              "7     apple\n",
              "Name: fruit, dtype: category\n",
              "Categories (2, object): ['apple', 'orange']"
            ]
          },
          "metadata": {
            "tags": []
          },
          "execution_count": 59
        }
      ]
    },
    {
      "cell_type": "code",
      "metadata": {
        "deletable": true,
        "editable": true,
        "id": "19S0j0QwDkj1",
        "colab": {
          "base_uri": "https://localhost:8080/"
        },
        "outputId": "8e66c642-c555-493a-f439-21e55e0b0456"
      },
      "source": [
        "#The values for fruit_cat are not a NumPy array, \n",
        "#but an instance of pandas.Categorical:\n",
        "c = fruit_cat.values\n",
        "type(c)"
      ],
      "execution_count": null,
      "outputs": [
        {
          "output_type": "execute_result",
          "data": {
            "text/plain": [
              "pandas.core.arrays.categorical.Categorical"
            ]
          },
          "metadata": {
            "tags": []
          },
          "execution_count": 60
        }
      ]
    },
    {
      "cell_type": "code",
      "metadata": {
        "deletable": true,
        "editable": true,
        "id": "jU0PKJ1rDkj1",
        "colab": {
          "base_uri": "https://localhost:8080/"
        },
        "outputId": "fe569197-d8db-4af5-e64e-8a15c975ef50"
      },
      "source": [
        "#The Categorical object has categories and codes attributes:\n",
        "print(c.categories)\n",
        "c.codes"
      ],
      "execution_count": null,
      "outputs": [
        {
          "output_type": "stream",
          "text": [
            "Index(['apple', 'orange'], dtype='object')\n"
          ],
          "name": "stdout"
        },
        {
          "output_type": "execute_result",
          "data": {
            "text/plain": [
              "array([0, 1, 0, 0, 0, 1, 0, 0], dtype=int8)"
            ]
          },
          "metadata": {
            "tags": []
          },
          "execution_count": 117
        }
      ]
    },
    {
      "cell_type": "code",
      "metadata": {
        "deletable": true,
        "editable": true,
        "id": "_q2rgVjIDkj2",
        "colab": {
          "base_uri": "https://localhost:8080/"
        },
        "outputId": "56392799-f50b-431f-8467-13a60f764308"
      },
      "source": [
        "#You can convert a DataFrame column to categorical by assigning the converted result:\n",
        "df['fruit'] = df['fruit'].astype('category')\n",
        "df.fruit"
      ],
      "execution_count": null,
      "outputs": [
        {
          "output_type": "execute_result",
          "data": {
            "text/plain": [
              "0     apple\n",
              "1    orange\n",
              "2     apple\n",
              "3     apple\n",
              "4     apple\n",
              "5    orange\n",
              "6     apple\n",
              "7     apple\n",
              "Name: fruit, dtype: category\n",
              "Categories (2, object): ['apple', 'orange']"
            ]
          },
          "metadata": {
            "tags": []
          },
          "execution_count": 118
        }
      ]
    },
    {
      "cell_type": "code",
      "metadata": {
        "deletable": true,
        "editable": true,
        "id": "jangD-r0Dkj2",
        "colab": {
          "base_uri": "https://localhost:8080/"
        },
        "outputId": "7dee6a34-16b8-4894-f174-699d53a2cd14"
      },
      "source": [
        "#create pandas.Categorical directly from other types of Python\n",
        "#sequences:\n",
        "my_categories = pd.Categorical(['foo', 'bar', 'baz', 'foo', 'bar'])\n",
        "my_categories"
      ],
      "execution_count": null,
      "outputs": [
        {
          "output_type": "execute_result",
          "data": {
            "text/plain": [
              "['foo', 'bar', 'baz', 'foo', 'bar']\n",
              "Categories (3, object): ['bar', 'baz', 'foo']"
            ]
          },
          "metadata": {
            "tags": []
          },
          "execution_count": 63
        }
      ]
    },
    {
      "cell_type": "code",
      "metadata": {
        "deletable": true,
        "editable": true,
        "id": "eEh80YzQDkj2",
        "colab": {
          "base_uri": "https://localhost:8080/"
        },
        "outputId": "052c3fa1-dced-4937-aced-fede2f41d1ac"
      },
      "source": [
        "#If you have obtained categorical encoded data from another source, you can use the\n",
        "#alternative from_codes constructor:\n",
        "categories = ['foo', 'bar', 'baz']\n",
        "codes = [0, 1, 2, 0, 0, 1]\n",
        "my_cats_2 = pd.Categorical.from_codes(codes, categories)\n",
        "my_cats_2"
      ],
      "execution_count": null,
      "outputs": [
        {
          "output_type": "execute_result",
          "data": {
            "text/plain": [
              "['foo', 'bar', 'baz', 'foo', 'foo', 'bar']\n",
              "Categories (3, object): ['foo', 'bar', 'baz']"
            ]
          },
          "metadata": {
            "tags": []
          },
          "execution_count": 64
        }
      ]
    },
    {
      "cell_type": "code",
      "metadata": {
        "deletable": true,
        "editable": true,
        "id": "7ucxMkoBDkj3",
        "colab": {
          "base_uri": "https://localhost:8080/"
        },
        "outputId": "872b3d34-b6a3-4c50-88b4-53126f38269d"
      },
      "source": [
        "#Unless explicitly specified, categorical conversions assume no specific ordering of the\n",
        "#categories. So the categories array may be in a different order depending on the\n",
        "#ordering of the input data. When using from_codes or any of the other constructors,\n",
        "#you can indicate that the categories have a meaningful ordering:\n",
        "ordered_cat = pd.Categorical.from_codes(codes, categories,\n",
        "                                        ordered=True)\n",
        "ordered_cat\n",
        "\n",
        "#The output [foo < bar < baz] indicates that 'foo' precedes 'bar' in the ordering,\n",
        "#and so on. "
      ],
      "execution_count": null,
      "outputs": [
        {
          "output_type": "execute_result",
          "data": {
            "text/plain": [
              "['foo', 'bar', 'baz', 'foo', 'foo', 'bar']\n",
              "Categories (3, object): ['foo' < 'bar' < 'baz']"
            ]
          },
          "metadata": {
            "tags": []
          },
          "execution_count": 65
        }
      ]
    },
    {
      "cell_type": "code",
      "metadata": {
        "deletable": true,
        "editable": true,
        "id": "X9FtTpakDkj3",
        "colab": {
          "base_uri": "https://localhost:8080/"
        },
        "outputId": "418abcfa-9bda-4393-d3bb-85f740f33e87"
      },
      "source": [
        "#An unordered categorical instance can be made ordered with as_ordered:\n",
        "my_cats_2.as_ordered()\n",
        "\n",
        "\n",
        "\n",
        "#categorical data need not be strings,a categorical array can consist of any \n",
        "#immutable value types."
      ],
      "execution_count": null,
      "outputs": [
        {
          "output_type": "execute_result",
          "data": {
            "text/plain": [
              "['foo', 'bar', 'baz', 'foo', 'foo', 'bar']\n",
              "Categories (3, object): ['foo' < 'bar' < 'baz']"
            ]
          },
          "metadata": {
            "tags": []
          },
          "execution_count": 66
        }
      ]
    },
    {
      "cell_type": "markdown",
      "metadata": {
        "deletable": true,
        "editable": true,
        "id": "GD_-dSaDDkj4"
      },
      "source": [
        "### Computations with Categoricals"
      ]
    },
    {
      "cell_type": "code",
      "metadata": {
        "deletable": true,
        "editable": true,
        "id": "EcE6usLgDkj4",
        "colab": {
          "base_uri": "https://localhost:8080/"
        },
        "outputId": "608d3c06-69ef-42e2-a413-b5bf3883ae9e"
      },
      "source": [
        "np.random.seed(12345)\n",
        "draws = np.random.randn(1000)\n",
        "draws[:5]"
      ],
      "execution_count": null,
      "outputs": [
        {
          "output_type": "execute_result",
          "data": {
            "text/plain": [
              "array([-0.2047,  0.4789, -0.5194, -0.5557,  1.9658])"
            ]
          },
          "metadata": {
            "tags": []
          },
          "execution_count": 67
        }
      ]
    },
    {
      "cell_type": "code",
      "metadata": {
        "deletable": true,
        "editable": true,
        "id": "Dhfy-J_KDkj4",
        "colab": {
          "base_uri": "https://localhost:8080/"
        },
        "outputId": "c2619dda-6ca9-4d4c-a5f2-7ee73e7a8ebe"
      },
      "source": [
        "bins = pd.qcut(draws, 4)\n",
        "bins\n",
        "\n",
        "\n",
        "#pandas.qcut binning functio returns pandas.Categorical"
      ],
      "execution_count": null,
      "outputs": [
        {
          "output_type": "execute_result",
          "data": {
            "text/plain": [
              "[(-0.684, -0.0101], (-0.0101, 0.63], (-0.684, -0.0101], (-0.684, -0.0101], (0.63, 3.928], ..., (-0.0101, 0.63], (-0.684, -0.0101], (-2.9499999999999997, -0.684], (-0.0101, 0.63], (0.63, 3.928]]\n",
              "Length: 1000\n",
              "Categories (4, interval[float64]): [(-2.9499999999999997, -0.684] < (-0.684, -0.0101] < (-0.0101, 0.63] <\n",
              "                                    (0.63, 3.928]]"
            ]
          },
          "metadata": {
            "tags": []
          },
          "execution_count": 68
        }
      ]
    },
    {
      "cell_type": "code",
      "metadata": {
        "deletable": true,
        "editable": true,
        "id": "iIGKP5DQDkj5",
        "colab": {
          "base_uri": "https://localhost:8080/"
        },
        "outputId": "b5900c57-9ec6-4dde-f3c1-1321860f443d"
      },
      "source": [
        "# quartile names can be assigned with labels argument to qcut:\n",
        "bins = pd.qcut(draws, 4, labels=['Q1', 'Q2', 'Q3', 'Q4'])\n",
        "bins\n",
        "bins.codes[:10]"
      ],
      "execution_count": null,
      "outputs": [
        {
          "output_type": "execute_result",
          "data": {
            "text/plain": [
              "array([1, 2, 1, 1, 3, 3, 2, 2, 3, 3], dtype=int8)"
            ]
          },
          "metadata": {
            "tags": []
          },
          "execution_count": 69
        }
      ]
    },
    {
      "cell_type": "code",
      "metadata": {
        "deletable": true,
        "editable": true,
        "id": "Z4NZgdB2Dkj5",
        "colab": {
          "base_uri": "https://localhost:8080/",
          "height": 173
        },
        "outputId": "8d243867-05e8-48c8-9c6a-92ad3f0f0dd4"
      },
      "source": [
        "#use groupby to extract some summary statistics\n",
        "bins = pd.Series(bins, name='quartile')\n",
        "results = (pd.Series(draws)\n",
        "           .groupby(bins)\n",
        "           .agg(['count', 'min', 'max'])\n",
        "           .reset_index())\n",
        "results"
      ],
      "execution_count": null,
      "outputs": [
        {
          "output_type": "execute_result",
          "data": {
            "text/html": [
              "<div>\n",
              "<style scoped>\n",
              "    .dataframe tbody tr th:only-of-type {\n",
              "        vertical-align: middle;\n",
              "    }\n",
              "\n",
              "    .dataframe tbody tr th {\n",
              "        vertical-align: top;\n",
              "    }\n",
              "\n",
              "    .dataframe thead th {\n",
              "        text-align: right;\n",
              "    }\n",
              "</style>\n",
              "<table border=\"1\" class=\"dataframe\">\n",
              "  <thead>\n",
              "    <tr style=\"text-align: right;\">\n",
              "      <th></th>\n",
              "      <th>quartile</th>\n",
              "      <th>count</th>\n",
              "      <th>min</th>\n",
              "      <th>max</th>\n",
              "    </tr>\n",
              "  </thead>\n",
              "  <tbody>\n",
              "    <tr>\n",
              "      <th>0</th>\n",
              "      <td>Q1</td>\n",
              "      <td>250</td>\n",
              "      <td>-2.949343</td>\n",
              "      <td>-0.685484</td>\n",
              "    </tr>\n",
              "    <tr>\n",
              "      <th>1</th>\n",
              "      <td>Q2</td>\n",
              "      <td>250</td>\n",
              "      <td>-0.683066</td>\n",
              "      <td>-0.010115</td>\n",
              "    </tr>\n",
              "    <tr>\n",
              "      <th>2</th>\n",
              "      <td>Q3</td>\n",
              "      <td>250</td>\n",
              "      <td>-0.010032</td>\n",
              "      <td>0.628894</td>\n",
              "    </tr>\n",
              "    <tr>\n",
              "      <th>3</th>\n",
              "      <td>Q4</td>\n",
              "      <td>250</td>\n",
              "      <td>0.634238</td>\n",
              "      <td>3.927528</td>\n",
              "    </tr>\n",
              "  </tbody>\n",
              "</table>\n",
              "</div>"
            ],
            "text/plain": [
              "  quartile  count       min       max\n",
              "0       Q1    250 -2.949343 -0.685484\n",
              "1       Q2    250 -0.683066 -0.010115\n",
              "2       Q3    250 -0.010032  0.628894\n",
              "3       Q4    250  0.634238  3.927528"
            ]
          },
          "metadata": {
            "tags": []
          },
          "execution_count": 70
        }
      ]
    },
    {
      "cell_type": "code",
      "metadata": {
        "deletable": true,
        "editable": true,
        "id": "coCtmUvhDkj6",
        "colab": {
          "base_uri": "https://localhost:8080/"
        },
        "outputId": "98697423-f910-42d2-b3dd-571817f40b30"
      },
      "source": [
        "results['quartile']"
      ],
      "execution_count": null,
      "outputs": [
        {
          "output_type": "execute_result",
          "data": {
            "text/plain": [
              "0    Q1\n",
              "1    Q2\n",
              "2    Q3\n",
              "3    Q4\n",
              "Name: quartile, dtype: category\n",
              "Categories (4, object): ['Q1' < 'Q2' < 'Q3' < 'Q4']"
            ]
          },
          "metadata": {
            "tags": []
          },
          "execution_count": 71
        }
      ]
    },
    {
      "cell_type": "markdown",
      "metadata": {
        "deletable": true,
        "editable": true,
        "id": "79NHPYQnDkj6"
      },
      "source": [
        "#### Better performance with categoricals"
      ]
    },
    {
      "cell_type": "code",
      "metadata": {
        "deletable": true,
        "editable": true,
        "id": "0w_pUEcyDkj6"
      },
      "source": [
        "#If you do a lot of analytics on a particular dataset, converting to categorical \n",
        "#can yield substantial overall performance gains. A categorical version of a \n",
        "#DataFrame column will often use significantly less memory, too. Let’s consider \n",
        "#some Series with 10 million elements and a small number of distinct categories\n",
        "N = 10000000\n",
        "draws = pd.Series(np.random.randn(N))\n",
        "labels = pd.Series(['foo', 'bar', 'baz', 'qux'] * (N // 4))"
      ],
      "execution_count": null,
      "outputs": []
    },
    {
      "cell_type": "code",
      "metadata": {
        "colab": {
          "base_uri": "https://localhost:8080/"
        },
        "id": "VUtWq6PN9HSD",
        "outputId": "19213772-bc7f-4675-dde0-3a7e7e4466ff"
      },
      "source": [
        "print(5/2)\n",
        "print(5//2)"
      ],
      "execution_count": null,
      "outputs": [
        {
          "output_type": "stream",
          "text": [
            "2.5\n",
            "2\n"
          ],
          "name": "stdout"
        }
      ]
    },
    {
      "cell_type": "code",
      "metadata": {
        "deletable": true,
        "editable": true,
        "id": "a7HAupxcDkj7"
      },
      "source": [
        "#convert labels to categorical\n",
        "categories = labels.astype('category')"
      ],
      "execution_count": null,
      "outputs": []
    },
    {
      "cell_type": "code",
      "metadata": {
        "deletable": true,
        "editable": true,
        "id": "8qbH2fL0Dkj7",
        "colab": {
          "base_uri": "https://localhost:8080/"
        },
        "outputId": "93538aa6-ee4e-4089-8485-7b3f8a41a5d0"
      },
      "source": [
        "print(labels.memory_usage())\n",
        "categories.memory_usage()"
      ],
      "execution_count": null,
      "outputs": [
        {
          "output_type": "stream",
          "text": [
            "80000128\n"
          ],
          "name": "stdout"
        },
        {
          "output_type": "execute_result",
          "data": {
            "text/plain": [
              "10000320"
            ]
          },
          "metadata": {
            "tags": []
          },
          "execution_count": 125
        }
      ]
    },
    {
      "cell_type": "code",
      "metadata": {
        "deletable": true,
        "editable": true,
        "id": "80ATIFh2Dkj8",
        "colab": {
          "base_uri": "https://localhost:8080/"
        },
        "outputId": "f7a864fc-f050-407c-cce3-0e34cfe96e2c"
      },
      "source": [
        "#conversion to category is not free, of course, but it is a one-time cost\n",
        "%time _ = labels.astype('category')\n",
        "\n",
        "\n",
        "\n",
        "#GroupBy operations can be significantly faster with categoricals because the \n",
        "#underlying algorithms use the integer-based codes array instead of an array of \n",
        "#strings."
      ],
      "execution_count": null,
      "outputs": [
        {
          "output_type": "stream",
          "text": [
            "CPU times: user 476 ms, sys: 0 ns, total: 476 ms\n",
            "Wall time: 479 ms\n"
          ],
          "name": "stdout"
        }
      ]
    },
    {
      "cell_type": "markdown",
      "metadata": {
        "deletable": true,
        "editable": true,
        "id": "GLbVsvFfDkj8"
      },
      "source": [
        "### Categorical Methods"
      ]
    },
    {
      "cell_type": "code",
      "metadata": {
        "deletable": true,
        "editable": true,
        "id": "On0UlA6sDkj9",
        "colab": {
          "base_uri": "https://localhost:8080/"
        },
        "outputId": "c2ee6cee-dcd0-47d9-a935-96de6cbde8c8"
      },
      "source": [
        "#Series containing categorical data have several special methods\n",
        "s = pd.Series(['a', 'b', 'c', 'd'] * 2)\n",
        "cat_s = s.astype('category')\n",
        "cat_s"
      ],
      "execution_count": null,
      "outputs": [
        {
          "output_type": "execute_result",
          "data": {
            "text/plain": [
              "0    a\n",
              "1    b\n",
              "2    c\n",
              "3    d\n",
              "4    a\n",
              "5    b\n",
              "6    c\n",
              "7    d\n",
              "dtype: category\n",
              "Categories (4, object): ['a', 'b', 'c', 'd']"
            ]
          },
          "metadata": {
            "tags": []
          },
          "execution_count": 127
        }
      ]
    },
    {
      "cell_type": "code",
      "metadata": {
        "deletable": true,
        "editable": true,
        "id": "jk6jb-5UDkj9",
        "colab": {
          "base_uri": "https://localhost:8080/"
        },
        "outputId": "4cc4ff2b-6b14-42df-99ec-5e3dad8b56d6"
      },
      "source": [
        "#The special attribute cat provides access to categorical methods:\n",
        "print(cat_s.cat.codes)\n",
        "cat_s.cat.categories"
      ],
      "execution_count": null,
      "outputs": [
        {
          "output_type": "stream",
          "text": [
            "0    0\n",
            "1    1\n",
            "2    2\n",
            "3    3\n",
            "4    0\n",
            "5    1\n",
            "6    2\n",
            "7    3\n",
            "dtype: int8\n"
          ],
          "name": "stdout"
        },
        {
          "output_type": "execute_result",
          "data": {
            "text/plain": [
              "Index(['a', 'b', 'c', 'd'], dtype='object')"
            ]
          },
          "metadata": {
            "tags": []
          },
          "execution_count": 128
        }
      ]
    },
    {
      "cell_type": "code",
      "metadata": {
        "deletable": true,
        "editable": true,
        "id": "I5e1U288Dkj9",
        "colab": {
          "base_uri": "https://localhost:8080/"
        },
        "outputId": "f84eff55-d385-4ba2-a0dd-99397b8272a4"
      },
      "source": [
        "#Suppose that we know the actual set of categories for this data extends beyond the\n",
        "#four values observed in the data. We can use the set_categories method to change\n",
        "#them:\n",
        "actual_categories = ['a', 'b', 'c', 'd', 'e']\n",
        "cat_s2 = cat_s.cat.set_categories(actual_categories)\n",
        "cat_s2"
      ],
      "execution_count": null,
      "outputs": [
        {
          "output_type": "execute_result",
          "data": {
            "text/plain": [
              "0    a\n",
              "1    b\n",
              "2    c\n",
              "3    d\n",
              "4    a\n",
              "5    b\n",
              "6    c\n",
              "7    d\n",
              "dtype: category\n",
              "Categories (5, object): ['a', 'b', 'c', 'd', 'e']"
            ]
          },
          "metadata": {
            "tags": []
          },
          "execution_count": 129
        }
      ]
    },
    {
      "cell_type": "code",
      "metadata": {
        "deletable": true,
        "editable": true,
        "id": "2mHMTHX5Dkj-",
        "colab": {
          "base_uri": "https://localhost:8080/"
        },
        "outputId": "b810b88e-b952-48a5-9d1f-0bc150b35be6"
      },
      "source": [
        "print(cat_s.value_counts())\n",
        "cat_s2.value_counts()"
      ],
      "execution_count": null,
      "outputs": [
        {
          "output_type": "stream",
          "text": [
            "d    2\n",
            "c    2\n",
            "b    2\n",
            "a    2\n",
            "dtype: int64\n"
          ],
          "name": "stdout"
        },
        {
          "output_type": "execute_result",
          "data": {
            "text/plain": [
              "d    2\n",
              "c    2\n",
              "b    2\n",
              "a    2\n",
              "e    0\n",
              "dtype: int64"
            ]
          },
          "metadata": {
            "tags": []
          },
          "execution_count": 131
        }
      ]
    },
    {
      "cell_type": "code",
      "metadata": {
        "deletable": true,
        "editable": true,
        "id": "HXJqnh67Dkj-",
        "colab": {
          "base_uri": "https://localhost:8080/"
        },
        "outputId": "8df4c69e-7be9-4700-ec80-e94e28db1eb3"
      },
      "source": [
        "#In large datasets, categoricals are often used as a convenient tool for \n",
        "#memory savings and better performance. After you filter a large DataFrame or \n",
        "#Series, many of the categories may not appear in the data. To help with this, \n",
        "#we can use the remove_unused_categories method to trim unobserved categories:\n",
        "cat_s3 = cat_s[cat_s.isin(['a', 'b'])]\n",
        "cat_s3\n",
        "cat_s3.cat.remove_unused_categories()"
      ],
      "execution_count": null,
      "outputs": [
        {
          "output_type": "execute_result",
          "data": {
            "text/plain": [
              "0    a\n",
              "1    b\n",
              "4    a\n",
              "5    b\n",
              "dtype: category\n",
              "Categories (2, object): ['a', 'b']"
            ]
          },
          "metadata": {
            "tags": []
          },
          "execution_count": 132
        }
      ]
    },
    {
      "cell_type": "markdown",
      "metadata": {
        "id": "LNBgGUe3bbes"
      },
      "source": [
        "![image.png](data:image/png;base64,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)"
      ]
    },
    {
      "cell_type": "markdown",
      "metadata": {
        "deletable": true,
        "editable": true,
        "id": "oq0nF0H_Dkj-"
      },
      "source": [
        "#### Creating dummy variables for modeling"
      ]
    },
    {
      "cell_type": "code",
      "metadata": {
        "deletable": true,
        "editable": true,
        "id": "dbYRAKRjDkj_"
      },
      "source": [
        "cat_s = pd.Series(['a', 'b', 'c', 'd'] * 2, dtype='category')"
      ],
      "execution_count": null,
      "outputs": []
    },
    {
      "cell_type": "code",
      "metadata": {
        "deletable": true,
        "editable": true,
        "id": "4vEJ9tW3Dkj_",
        "colab": {
          "base_uri": "https://localhost:8080/",
          "height": 297
        },
        "outputId": "94de0beb-36c1-4c62-a129-a3129ed0c63a"
      },
      "source": [
        "#transform categorical data into dummy variables, also known as one-hot encoding. \n",
        "#This involves creating a DataFrame with a column for each distinct category; \n",
        "#these columns contain 1s for occurrences of a given category and 0 otherwise.\n",
        "pd.get_dummies(cat_s)"
      ],
      "execution_count": null,
      "outputs": [
        {
          "output_type": "execute_result",
          "data": {
            "text/html": [
              "<div>\n",
              "<style scoped>\n",
              "    .dataframe tbody tr th:only-of-type {\n",
              "        vertical-align: middle;\n",
              "    }\n",
              "\n",
              "    .dataframe tbody tr th {\n",
              "        vertical-align: top;\n",
              "    }\n",
              "\n",
              "    .dataframe thead th {\n",
              "        text-align: right;\n",
              "    }\n",
              "</style>\n",
              "<table border=\"1\" class=\"dataframe\">\n",
              "  <thead>\n",
              "    <tr style=\"text-align: right;\">\n",
              "      <th></th>\n",
              "      <th>a</th>\n",
              "      <th>b</th>\n",
              "      <th>c</th>\n",
              "      <th>d</th>\n",
              "    </tr>\n",
              "  </thead>\n",
              "  <tbody>\n",
              "    <tr>\n",
              "      <th>0</th>\n",
              "      <td>1</td>\n",
              "      <td>0</td>\n",
              "      <td>0</td>\n",
              "      <td>0</td>\n",
              "    </tr>\n",
              "    <tr>\n",
              "      <th>1</th>\n",
              "      <td>0</td>\n",
              "      <td>1</td>\n",
              "      <td>0</td>\n",
              "      <td>0</td>\n",
              "    </tr>\n",
              "    <tr>\n",
              "      <th>2</th>\n",
              "      <td>0</td>\n",
              "      <td>0</td>\n",
              "      <td>1</td>\n",
              "      <td>0</td>\n",
              "    </tr>\n",
              "    <tr>\n",
              "      <th>3</th>\n",
              "      <td>0</td>\n",
              "      <td>0</td>\n",
              "      <td>0</td>\n",
              "      <td>1</td>\n",
              "    </tr>\n",
              "    <tr>\n",
              "      <th>4</th>\n",
              "      <td>1</td>\n",
              "      <td>0</td>\n",
              "      <td>0</td>\n",
              "      <td>0</td>\n",
              "    </tr>\n",
              "    <tr>\n",
              "      <th>5</th>\n",
              "      <td>0</td>\n",
              "      <td>1</td>\n",
              "      <td>0</td>\n",
              "      <td>0</td>\n",
              "    </tr>\n",
              "    <tr>\n",
              "      <th>6</th>\n",
              "      <td>0</td>\n",
              "      <td>0</td>\n",
              "      <td>1</td>\n",
              "      <td>0</td>\n",
              "    </tr>\n",
              "    <tr>\n",
              "      <th>7</th>\n",
              "      <td>0</td>\n",
              "      <td>0</td>\n",
              "      <td>0</td>\n",
              "      <td>1</td>\n",
              "    </tr>\n",
              "  </tbody>\n",
              "</table>\n",
              "</div>"
            ],
            "text/plain": [
              "   a  b  c  d\n",
              "0  1  0  0  0\n",
              "1  0  1  0  0\n",
              "2  0  0  1  0\n",
              "3  0  0  0  1\n",
              "4  1  0  0  0\n",
              "5  0  1  0  0\n",
              "6  0  0  1  0\n",
              "7  0  0  0  1"
            ]
          },
          "metadata": {
            "tags": []
          },
          "execution_count": 134
        }
      ]
    },
    {
      "cell_type": "markdown",
      "metadata": {
        "deletable": true,
        "editable": true,
        "id": "edIesZi1Dkj_"
      },
      "source": [
        "## Advanced GroupBy Use"
      ]
    },
    {
      "cell_type": "markdown",
      "metadata": {
        "deletable": true,
        "editable": true,
        "id": "g3YZQLRSDkkA"
      },
      "source": [
        "### Group Transforms and \"Unwrapped\" GroupBys"
      ]
    },
    {
      "cell_type": "code",
      "metadata": {
        "deletable": true,
        "editable": true,
        "id": "AOn0IgfxDkkA",
        "colab": {
          "base_uri": "https://localhost:8080/",
          "height": 421
        },
        "outputId": "cf5bfaa0-5e07-4ef1-c21b-ac6a07489a98"
      },
      "source": [
        "df = pd.DataFrame({'key': ['a', 'b', 'c'] * 4,\n",
        "                   'value': np.arange(12.)})\n",
        "df"
      ],
      "execution_count": null,
      "outputs": [
        {
          "output_type": "execute_result",
          "data": {
            "text/html": [
              "<div>\n",
              "<style scoped>\n",
              "    .dataframe tbody tr th:only-of-type {\n",
              "        vertical-align: middle;\n",
              "    }\n",
              "\n",
              "    .dataframe tbody tr th {\n",
              "        vertical-align: top;\n",
              "    }\n",
              "\n",
              "    .dataframe thead th {\n",
              "        text-align: right;\n",
              "    }\n",
              "</style>\n",
              "<table border=\"1\" class=\"dataframe\">\n",
              "  <thead>\n",
              "    <tr style=\"text-align: right;\">\n",
              "      <th></th>\n",
              "      <th>key</th>\n",
              "      <th>value</th>\n",
              "    </tr>\n",
              "  </thead>\n",
              "  <tbody>\n",
              "    <tr>\n",
              "      <th>0</th>\n",
              "      <td>a</td>\n",
              "      <td>0.0</td>\n",
              "    </tr>\n",
              "    <tr>\n",
              "      <th>1</th>\n",
              "      <td>b</td>\n",
              "      <td>1.0</td>\n",
              "    </tr>\n",
              "    <tr>\n",
              "      <th>2</th>\n",
              "      <td>c</td>\n",
              "      <td>2.0</td>\n",
              "    </tr>\n",
              "    <tr>\n",
              "      <th>3</th>\n",
              "      <td>a</td>\n",
              "      <td>3.0</td>\n",
              "    </tr>\n",
              "    <tr>\n",
              "      <th>4</th>\n",
              "      <td>b</td>\n",
              "      <td>4.0</td>\n",
              "    </tr>\n",
              "    <tr>\n",
              "      <th>5</th>\n",
              "      <td>c</td>\n",
              "      <td>5.0</td>\n",
              "    </tr>\n",
              "    <tr>\n",
              "      <th>6</th>\n",
              "      <td>a</td>\n",
              "      <td>6.0</td>\n",
              "    </tr>\n",
              "    <tr>\n",
              "      <th>7</th>\n",
              "      <td>b</td>\n",
              "      <td>7.0</td>\n",
              "    </tr>\n",
              "    <tr>\n",
              "      <th>8</th>\n",
              "      <td>c</td>\n",
              "      <td>8.0</td>\n",
              "    </tr>\n",
              "    <tr>\n",
              "      <th>9</th>\n",
              "      <td>a</td>\n",
              "      <td>9.0</td>\n",
              "    </tr>\n",
              "    <tr>\n",
              "      <th>10</th>\n",
              "      <td>b</td>\n",
              "      <td>10.0</td>\n",
              "    </tr>\n",
              "    <tr>\n",
              "      <th>11</th>\n",
              "      <td>c</td>\n",
              "      <td>11.0</td>\n",
              "    </tr>\n",
              "  </tbody>\n",
              "</table>\n",
              "</div>"
            ],
            "text/plain": [
              "   key  value\n",
              "0    a    0.0\n",
              "1    b    1.0\n",
              "2    c    2.0\n",
              "3    a    3.0\n",
              "4    b    4.0\n",
              "5    c    5.0\n",
              "6    a    6.0\n",
              "7    b    7.0\n",
              "8    c    8.0\n",
              "9    a    9.0\n",
              "10   b   10.0\n",
              "11   c   11.0"
            ]
          },
          "metadata": {
            "tags": []
          },
          "execution_count": 135
        }
      ]
    },
    {
      "cell_type": "code",
      "metadata": {
        "deletable": true,
        "editable": true,
        "id": "ZUv5QHClDkkA",
        "colab": {
          "base_uri": "https://localhost:8080/"
        },
        "outputId": "39a77e25-8e87-4287-f947-324ef48c3437"
      },
      "source": [
        "g = df.groupby('key').value\n",
        "g.mean()"
      ],
      "execution_count": null,
      "outputs": [
        {
          "output_type": "execute_result",
          "data": {
            "text/plain": [
              "key\n",
              "a    4.5\n",
              "b    5.5\n",
              "c    6.5\n",
              "Name: value, dtype: float64"
            ]
          },
          "metadata": {
            "tags": []
          },
          "execution_count": 136
        }
      ]
    },
    {
      "cell_type": "code",
      "metadata": {
        "deletable": true,
        "editable": true,
        "id": "IaQCoNI9DkkB",
        "colab": {
          "base_uri": "https://localhost:8080/"
        },
        "outputId": "1881e12a-e812-4f96-9f8a-510fecc7ded1"
      },
      "source": [
        "#the apply method is used in grouped operations for performing transformations. \n",
        "#There is another built-in method called transform, which is similar\n",
        "#to apply but imposes more constraints on the kind of function you can use:\n",
        "#• It can produce a scalar value to be broadcast to the shape of the group\n",
        "#• It can produce an object of the same shape as the input group\n",
        "#• It must not mutate its input\n",
        "g.transform(lambda x: x.mean())"
      ],
      "execution_count": null,
      "outputs": [
        {
          "output_type": "execute_result",
          "data": {
            "text/plain": [
              "0     4.5\n",
              "1     5.5\n",
              "2     6.5\n",
              "3     4.5\n",
              "4     5.5\n",
              "5     6.5\n",
              "6     4.5\n",
              "7     5.5\n",
              "8     6.5\n",
              "9     4.5\n",
              "10    5.5\n",
              "11    6.5\n",
              "Name: value, dtype: float64"
            ]
          },
          "metadata": {
            "tags": []
          },
          "execution_count": 137
        }
      ]
    },
    {
      "cell_type": "code",
      "metadata": {
        "deletable": true,
        "editable": true,
        "id": "Y9FWMNtnDkkB",
        "colab": {
          "base_uri": "https://localhost:8080/"
        },
        "outputId": "a5665722-d9e1-49c8-88b7-77b2272816b7"
      },
      "source": [
        "g.transform('mean')"
      ],
      "execution_count": null,
      "outputs": [
        {
          "output_type": "execute_result",
          "data": {
            "text/plain": [
              "0     4.5\n",
              "1     5.5\n",
              "2     6.5\n",
              "3     4.5\n",
              "4     5.5\n",
              "5     6.5\n",
              "6     4.5\n",
              "7     5.5\n",
              "8     6.5\n",
              "9     4.5\n",
              "10    5.5\n",
              "11    6.5\n",
              "Name: value, dtype: float64"
            ]
          },
          "metadata": {
            "tags": []
          },
          "execution_count": 138
        }
      ]
    },
    {
      "cell_type": "code",
      "metadata": {
        "deletable": true,
        "editable": true,
        "id": "rX2noxyNDkkB",
        "colab": {
          "base_uri": "https://localhost:8080/"
        },
        "outputId": "3f7080d1-5d32-4823-b2a7-a97340607afb"
      },
      "source": [
        "g.transform(lambda x: x * 2)"
      ],
      "execution_count": null,
      "outputs": [
        {
          "output_type": "execute_result",
          "data": {
            "text/plain": [
              "0      0.0\n",
              "1      2.0\n",
              "2      4.0\n",
              "3      6.0\n",
              "4      8.0\n",
              "5     10.0\n",
              "6     12.0\n",
              "7     14.0\n",
              "8     16.0\n",
              "9     18.0\n",
              "10    20.0\n",
              "11    22.0\n",
              "Name: value, dtype: float64"
            ]
          },
          "metadata": {
            "tags": []
          },
          "execution_count": 139
        }
      ]
    },
    {
      "cell_type": "code",
      "metadata": {
        "deletable": true,
        "editable": true,
        "id": "ZIp6fWOEDkkC",
        "colab": {
          "base_uri": "https://localhost:8080/"
        },
        "outputId": "6ec455a1-b13f-42be-a294-2b91e4d3df9f"
      },
      "source": [
        "#compute the ranks in descending order for each group:\n",
        "g.transform(lambda x: x.rank(ascending=False))"
      ],
      "execution_count": null,
      "outputs": [
        {
          "output_type": "execute_result",
          "data": {
            "text/plain": [
              "0     4.0\n",
              "1     4.0\n",
              "2     4.0\n",
              "3     3.0\n",
              "4     3.0\n",
              "5     3.0\n",
              "6     2.0\n",
              "7     2.0\n",
              "8     2.0\n",
              "9     1.0\n",
              "10    1.0\n",
              "11    1.0\n",
              "Name: value, dtype: float64"
            ]
          },
          "metadata": {
            "tags": []
          },
          "execution_count": 141
        }
      ]
    },
    {
      "cell_type": "code",
      "metadata": {
        "deletable": true,
        "editable": true,
        "id": "kQpeORFeDkkC"
      },
      "source": [
        "def normalize(x):\n",
        "    return (x - x.mean()) / x.std()"
      ],
      "execution_count": null,
      "outputs": []
    },
    {
      "cell_type": "code",
      "metadata": {
        "deletable": true,
        "editable": true,
        "id": "KDttfNxjDkkC",
        "colab": {
          "base_uri": "https://localhost:8080/"
        },
        "outputId": "45aed541-dabd-42d1-db7c-39933cea64c2"
      },
      "source": [
        "print(g.transform(normalize))\n",
        "g.apply(normalize)"
      ],
      "execution_count": null,
      "outputs": [
        {
          "output_type": "stream",
          "text": [
            "0    -1.161895\n",
            "1    -1.161895\n",
            "2    -1.161895\n",
            "3    -0.387298\n",
            "4    -0.387298\n",
            "5    -0.387298\n",
            "6     0.387298\n",
            "7     0.387298\n",
            "8     0.387298\n",
            "9     1.161895\n",
            "10    1.161895\n",
            "11    1.161895\n",
            "Name: value, dtype: float64\n"
          ],
          "name": "stdout"
        },
        {
          "output_type": "execute_result",
          "data": {
            "text/plain": [
              "0    -1.161895\n",
              "1    -1.161895\n",
              "2    -1.161895\n",
              "3    -0.387298\n",
              "4    -0.387298\n",
              "5    -0.387298\n",
              "6     0.387298\n",
              "7     0.387298\n",
              "8     0.387298\n",
              "9     1.161895\n",
              "10    1.161895\n",
              "11    1.161895\n",
              "Name: value, dtype: float64"
            ]
          },
          "metadata": {
            "tags": []
          },
          "execution_count": 143
        }
      ]
    },
    {
      "cell_type": "code",
      "metadata": {
        "deletable": true,
        "editable": true,
        "id": "JPUtVRboDkkD",
        "colab": {
          "base_uri": "https://localhost:8080/"
        },
        "outputId": "699d23bf-57a1-47ad-e149-edd57cfbc0b4"
      },
      "source": [
        "g.transform('mean')\n",
        "normalized = (df['value'] - g.transform('mean')) / g.transform('std')\n",
        "normalized"
      ],
      "execution_count": null,
      "outputs": [
        {
          "output_type": "execute_result",
          "data": {
            "text/plain": [
              "0    -1.161895\n",
              "1    -1.161895\n",
              "2    -1.161895\n",
              "3    -0.387298\n",
              "4    -0.387298\n",
              "5    -0.387298\n",
              "6     0.387298\n",
              "7     0.387298\n",
              "8     0.387298\n",
              "9     1.161895\n",
              "10    1.161895\n",
              "11    1.161895\n",
              "Name: value, dtype: float64"
            ]
          },
          "metadata": {
            "tags": []
          },
          "execution_count": 144
        }
      ]
    },
    {
      "cell_type": "markdown",
      "metadata": {
        "deletable": true,
        "editable": true,
        "id": "28vP8yFhDkkD"
      },
      "source": [
        "### Grouped Time Resampling"
      ]
    },
    {
      "cell_type": "code",
      "metadata": {
        "deletable": true,
        "editable": true,
        "id": "RSaWV_kaDkkD",
        "colab": {
          "base_uri": "https://localhost:8080/",
          "height": 498
        },
        "outputId": "4fe93bef-5fbb-4dc0-aa11-268a6101dc10"
      },
      "source": [
        "#For time series data, the resample method is semantically a group operation \n",
        "#based on a time intervalization.\n",
        "N = 15\n",
        "times = pd.date_range('2017-05-20 00:00', freq='1min', periods=N)\n",
        "df = pd.DataFrame({'time': times,\n",
        "                   'value': np.arange(N)})\n",
        "df"
      ],
      "execution_count": null,
      "outputs": [
        {
          "output_type": "execute_result",
          "data": {
            "text/html": [
              "<div>\n",
              "<style scoped>\n",
              "    .dataframe tbody tr th:only-of-type {\n",
              "        vertical-align: middle;\n",
              "    }\n",
              "\n",
              "    .dataframe tbody tr th {\n",
              "        vertical-align: top;\n",
              "    }\n",
              "\n",
              "    .dataframe thead th {\n",
              "        text-align: right;\n",
              "    }\n",
              "</style>\n",
              "<table border=\"1\" class=\"dataframe\">\n",
              "  <thead>\n",
              "    <tr style=\"text-align: right;\">\n",
              "      <th></th>\n",
              "      <th>time</th>\n",
              "      <th>value</th>\n",
              "    </tr>\n",
              "  </thead>\n",
              "  <tbody>\n",
              "    <tr>\n",
              "      <th>0</th>\n",
              "      <td>2017-05-20 00:00:00</td>\n",
              "      <td>0</td>\n",
              "    </tr>\n",
              "    <tr>\n",
              "      <th>1</th>\n",
              "      <td>2017-05-20 00:01:00</td>\n",
              "      <td>1</td>\n",
              "    </tr>\n",
              "    <tr>\n",
              "      <th>2</th>\n",
              "      <td>2017-05-20 00:02:00</td>\n",
              "      <td>2</td>\n",
              "    </tr>\n",
              "    <tr>\n",
              "      <th>3</th>\n",
              "      <td>2017-05-20 00:03:00</td>\n",
              "      <td>3</td>\n",
              "    </tr>\n",
              "    <tr>\n",
              "      <th>4</th>\n",
              "      <td>2017-05-20 00:04:00</td>\n",
              "      <td>4</td>\n",
              "    </tr>\n",
              "    <tr>\n",
              "      <th>5</th>\n",
              "      <td>2017-05-20 00:05:00</td>\n",
              "      <td>5</td>\n",
              "    </tr>\n",
              "    <tr>\n",
              "      <th>6</th>\n",
              "      <td>2017-05-20 00:06:00</td>\n",
              "      <td>6</td>\n",
              "    </tr>\n",
              "    <tr>\n",
              "      <th>7</th>\n",
              "      <td>2017-05-20 00:07:00</td>\n",
              "      <td>7</td>\n",
              "    </tr>\n",
              "    <tr>\n",
              "      <th>8</th>\n",
              "      <td>2017-05-20 00:08:00</td>\n",
              "      <td>8</td>\n",
              "    </tr>\n",
              "    <tr>\n",
              "      <th>9</th>\n",
              "      <td>2017-05-20 00:09:00</td>\n",
              "      <td>9</td>\n",
              "    </tr>\n",
              "    <tr>\n",
              "      <th>10</th>\n",
              "      <td>2017-05-20 00:10:00</td>\n",
              "      <td>10</td>\n",
              "    </tr>\n",
              "    <tr>\n",
              "      <th>11</th>\n",
              "      <td>2017-05-20 00:11:00</td>\n",
              "      <td>11</td>\n",
              "    </tr>\n",
              "    <tr>\n",
              "      <th>12</th>\n",
              "      <td>2017-05-20 00:12:00</td>\n",
              "      <td>12</td>\n",
              "    </tr>\n",
              "    <tr>\n",
              "      <th>13</th>\n",
              "      <td>2017-05-20 00:13:00</td>\n",
              "      <td>13</td>\n",
              "    </tr>\n",
              "    <tr>\n",
              "      <th>14</th>\n",
              "      <td>2017-05-20 00:14:00</td>\n",
              "      <td>14</td>\n",
              "    </tr>\n",
              "  </tbody>\n",
              "</table>\n",
              "</div>"
            ],
            "text/plain": [
              "                  time  value\n",
              "0  2017-05-20 00:00:00      0\n",
              "1  2017-05-20 00:01:00      1\n",
              "2  2017-05-20 00:02:00      2\n",
              "3  2017-05-20 00:03:00      3\n",
              "4  2017-05-20 00:04:00      4\n",
              "5  2017-05-20 00:05:00      5\n",
              "6  2017-05-20 00:06:00      6\n",
              "7  2017-05-20 00:07:00      7\n",
              "8  2017-05-20 00:08:00      8\n",
              "9  2017-05-20 00:09:00      9\n",
              "10 2017-05-20 00:10:00     10\n",
              "11 2017-05-20 00:11:00     11\n",
              "12 2017-05-20 00:12:00     12\n",
              "13 2017-05-20 00:13:00     13\n",
              "14 2017-05-20 00:14:00     14"
            ]
          },
          "metadata": {
            "tags": []
          },
          "execution_count": 148
        }
      ]
    },
    {
      "cell_type": "code",
      "metadata": {
        "deletable": true,
        "editable": true,
        "id": "OTKnWs5MDkkE",
        "colab": {
          "base_uri": "https://localhost:8080/",
          "height": 168
        },
        "outputId": "f53842c6-b326-4741-94f4-41f543f3119a"
      },
      "source": [
        "#index by 'time' and then resample:\n",
        "df.set_index('time').resample('5min').count()"
      ],
      "execution_count": null,
      "outputs": [
        {
          "output_type": "execute_result",
          "data": {
            "text/html": [
              "<div>\n",
              "<style scoped>\n",
              "    .dataframe tbody tr th:only-of-type {\n",
              "        vertical-align: middle;\n",
              "    }\n",
              "\n",
              "    .dataframe tbody tr th {\n",
              "        vertical-align: top;\n",
              "    }\n",
              "\n",
              "    .dataframe thead th {\n",
              "        text-align: right;\n",
              "    }\n",
              "</style>\n",
              "<table border=\"1\" class=\"dataframe\">\n",
              "  <thead>\n",
              "    <tr style=\"text-align: right;\">\n",
              "      <th></th>\n",
              "      <th>value</th>\n",
              "    </tr>\n",
              "    <tr>\n",
              "      <th>time</th>\n",
              "      <th></th>\n",
              "    </tr>\n",
              "  </thead>\n",
              "  <tbody>\n",
              "    <tr>\n",
              "      <th>2017-05-20 00:00:00</th>\n",
              "      <td>5</td>\n",
              "    </tr>\n",
              "    <tr>\n",
              "      <th>2017-05-20 00:05:00</th>\n",
              "      <td>5</td>\n",
              "    </tr>\n",
              "    <tr>\n",
              "      <th>2017-05-20 00:10:00</th>\n",
              "      <td>5</td>\n",
              "    </tr>\n",
              "  </tbody>\n",
              "</table>\n",
              "</div>"
            ],
            "text/plain": [
              "                     value\n",
              "time                      \n",
              "2017-05-20 00:00:00      5\n",
              "2017-05-20 00:05:00      5\n",
              "2017-05-20 00:10:00      5"
            ]
          },
          "metadata": {
            "tags": []
          },
          "execution_count": 149
        }
      ]
    },
    {
      "cell_type": "code",
      "metadata": {
        "deletable": true,
        "editable": true,
        "id": "zbaLQdcFDkkE",
        "colab": {
          "base_uri": "https://localhost:8080/",
          "height": 258
        },
        "outputId": "b1c337c9-ca1c-4684-fd9c-182e98876acc"
      },
      "source": [
        "\n",
        "df2 = pd.DataFrame({'time': times.repeat(3),\n",
        "                    'key': np.tile(['a', 'b', 'c'], N),     #constructs a new array by repeating array – 'arr', the number of times we want to repeat as per repetitions\n",
        "                    'value': np.arange(N * 3.)})\n",
        "df2[:7]"
      ],
      "execution_count": null,
      "outputs": [
        {
          "output_type": "execute_result",
          "data": {
            "text/html": [
              "<div>\n",
              "<style scoped>\n",
              "    .dataframe tbody tr th:only-of-type {\n",
              "        vertical-align: middle;\n",
              "    }\n",
              "\n",
              "    .dataframe tbody tr th {\n",
              "        vertical-align: top;\n",
              "    }\n",
              "\n",
              "    .dataframe thead th {\n",
              "        text-align: right;\n",
              "    }\n",
              "</style>\n",
              "<table border=\"1\" class=\"dataframe\">\n",
              "  <thead>\n",
              "    <tr style=\"text-align: right;\">\n",
              "      <th></th>\n",
              "      <th>time</th>\n",
              "      <th>key</th>\n",
              "      <th>value</th>\n",
              "    </tr>\n",
              "  </thead>\n",
              "  <tbody>\n",
              "    <tr>\n",
              "      <th>0</th>\n",
              "      <td>2017-05-20 00:00:00</td>\n",
              "      <td>a</td>\n",
              "      <td>0.0</td>\n",
              "    </tr>\n",
              "    <tr>\n",
              "      <th>1</th>\n",
              "      <td>2017-05-20 00:00:00</td>\n",
              "      <td>b</td>\n",
              "      <td>1.0</td>\n",
              "    </tr>\n",
              "    <tr>\n",
              "      <th>2</th>\n",
              "      <td>2017-05-20 00:00:00</td>\n",
              "      <td>c</td>\n",
              "      <td>2.0</td>\n",
              "    </tr>\n",
              "    <tr>\n",
              "      <th>3</th>\n",
              "      <td>2017-05-20 00:01:00</td>\n",
              "      <td>a</td>\n",
              "      <td>3.0</td>\n",
              "    </tr>\n",
              "    <tr>\n",
              "      <th>4</th>\n",
              "      <td>2017-05-20 00:01:00</td>\n",
              "      <td>b</td>\n",
              "      <td>4.0</td>\n",
              "    </tr>\n",
              "    <tr>\n",
              "      <th>5</th>\n",
              "      <td>2017-05-20 00:01:00</td>\n",
              "      <td>c</td>\n",
              "      <td>5.0</td>\n",
              "    </tr>\n",
              "    <tr>\n",
              "      <th>6</th>\n",
              "      <td>2017-05-20 00:02:00</td>\n",
              "      <td>a</td>\n",
              "      <td>6.0</td>\n",
              "    </tr>\n",
              "  </tbody>\n",
              "</table>\n",
              "</div>"
            ],
            "text/plain": [
              "                 time key  value\n",
              "0 2017-05-20 00:00:00   a    0.0\n",
              "1 2017-05-20 00:00:00   b    1.0\n",
              "2 2017-05-20 00:00:00   c    2.0\n",
              "3 2017-05-20 00:01:00   a    3.0\n",
              "4 2017-05-20 00:01:00   b    4.0\n",
              "5 2017-05-20 00:01:00   c    5.0\n",
              "6 2017-05-20 00:02:00   a    6.0"
            ]
          },
          "metadata": {
            "tags": []
          },
          "execution_count": 150
        }
      ]
    },
    {
      "cell_type": "code",
      "metadata": {
        "deletable": true,
        "editable": true,
        "id": "KnmGijyRDkkE"
      },
      "source": [
        "time_key = pd.Grouper(freq='5min')      #TimeGrouper isnt working so go with Grouper"
      ],
      "execution_count": null,
      "outputs": []
    },
    {
      "cell_type": "code",
      "metadata": {
        "deletable": true,
        "editable": true,
        "id": "_Ikdhl0uDkkF",
        "colab": {
          "base_uri": "https://localhost:8080/",
          "height": 518
        },
        "outputId": "392f73b0-98ef-4c5a-a906-4c4b2428f0c8"
      },
      "source": [
        "resampled = (df2.set_index('time').groupby(['key', time_key]).sum())\n",
        "print(resampled)\n",
        "resampled.reset_index()"
      ],
      "execution_count": null,
      "outputs": [
        {
          "output_type": "stream",
          "text": [
            "                         value\n",
            "key time                      \n",
            "a   2017-05-20 00:00:00   30.0\n",
            "    2017-05-20 00:05:00  105.0\n",
            "    2017-05-20 00:10:00  180.0\n",
            "b   2017-05-20 00:00:00   35.0\n",
            "    2017-05-20 00:05:00  110.0\n",
            "    2017-05-20 00:10:00  185.0\n",
            "c   2017-05-20 00:00:00   40.0\n",
            "    2017-05-20 00:05:00  115.0\n",
            "    2017-05-20 00:10:00  190.0\n"
          ],
          "name": "stdout"
        },
        {
          "output_type": "execute_result",
          "data": {
            "text/html": [
              "<div>\n",
              "<style scoped>\n",
              "    .dataframe tbody tr th:only-of-type {\n",
              "        vertical-align: middle;\n",
              "    }\n",
              "\n",
              "    .dataframe tbody tr th {\n",
              "        vertical-align: top;\n",
              "    }\n",
              "\n",
              "    .dataframe thead th {\n",
              "        text-align: right;\n",
              "    }\n",
              "</style>\n",
              "<table border=\"1\" class=\"dataframe\">\n",
              "  <thead>\n",
              "    <tr style=\"text-align: right;\">\n",
              "      <th></th>\n",
              "      <th>key</th>\n",
              "      <th>time</th>\n",
              "      <th>value</th>\n",
              "    </tr>\n",
              "  </thead>\n",
              "  <tbody>\n",
              "    <tr>\n",
              "      <th>0</th>\n",
              "      <td>a</td>\n",
              "      <td>2017-05-20 00:00:00</td>\n",
              "      <td>30.0</td>\n",
              "    </tr>\n",
              "    <tr>\n",
              "      <th>1</th>\n",
              "      <td>a</td>\n",
              "      <td>2017-05-20 00:05:00</td>\n",
              "      <td>105.0</td>\n",
              "    </tr>\n",
              "    <tr>\n",
              "      <th>2</th>\n",
              "      <td>a</td>\n",
              "      <td>2017-05-20 00:10:00</td>\n",
              "      <td>180.0</td>\n",
              "    </tr>\n",
              "    <tr>\n",
              "      <th>3</th>\n",
              "      <td>b</td>\n",
              "      <td>2017-05-20 00:00:00</td>\n",
              "      <td>35.0</td>\n",
              "    </tr>\n",
              "    <tr>\n",
              "      <th>4</th>\n",
              "      <td>b</td>\n",
              "      <td>2017-05-20 00:05:00</td>\n",
              "      <td>110.0</td>\n",
              "    </tr>\n",
              "    <tr>\n",
              "      <th>5</th>\n",
              "      <td>b</td>\n",
              "      <td>2017-05-20 00:10:00</td>\n",
              "      <td>185.0</td>\n",
              "    </tr>\n",
              "    <tr>\n",
              "      <th>6</th>\n",
              "      <td>c</td>\n",
              "      <td>2017-05-20 00:00:00</td>\n",
              "      <td>40.0</td>\n",
              "    </tr>\n",
              "    <tr>\n",
              "      <th>7</th>\n",
              "      <td>c</td>\n",
              "      <td>2017-05-20 00:05:00</td>\n",
              "      <td>115.0</td>\n",
              "    </tr>\n",
              "    <tr>\n",
              "      <th>8</th>\n",
              "      <td>c</td>\n",
              "      <td>2017-05-20 00:10:00</td>\n",
              "      <td>190.0</td>\n",
              "    </tr>\n",
              "  </tbody>\n",
              "</table>\n",
              "</div>"
            ],
            "text/plain": [
              "  key                time  value\n",
              "0   a 2017-05-20 00:00:00   30.0\n",
              "1   a 2017-05-20 00:05:00  105.0\n",
              "2   a 2017-05-20 00:10:00  180.0\n",
              "3   b 2017-05-20 00:00:00   35.0\n",
              "4   b 2017-05-20 00:05:00  110.0\n",
              "5   b 2017-05-20 00:10:00  185.0\n",
              "6   c 2017-05-20 00:00:00   40.0\n",
              "7   c 2017-05-20 00:05:00  115.0\n",
              "8   c 2017-05-20 00:10:00  190.0"
            ]
          },
          "metadata": {
            "tags": []
          },
          "execution_count": 152
        }
      ]
    },
    {
      "cell_type": "markdown",
      "metadata": {
        "deletable": true,
        "editable": true,
        "id": "RHSDypu7DkkF"
      },
      "source": [
        "## Techniques for Method Chaining"
      ]
    },
    {
      "cell_type": "markdown",
      "metadata": {
        "deletable": true,
        "editable": true,
        "id": "0xavsSK1DkkF"
      },
      "source": [
        "```python\n",
        "df = load_data()\n",
        "df2 = df[df['col2'] < 0]\n",
        "df2['col1_demeaned'] = df2['col1'] - df2['col1'].mean()\n",
        "result = df2.groupby('key').col1_demeaned.std()\n",
        "```"
      ]
    },
    {
      "cell_type": "markdown",
      "metadata": {
        "deletable": true,
        "editable": true,
        "id": "If7TfinDDkkG"
      },
      "source": [
        "```python\n",
        "# Usual non-functional way\n",
        "df2 = df.copy()\n",
        "df2['k'] = v\n",
        "\n",
        "# Functional assign way\n",
        "df2 = df.assign(k=v)\n",
        "```"
      ]
    },
    {
      "cell_type": "markdown",
      "metadata": {
        "deletable": true,
        "editable": true,
        "id": "tcYQJuKQDkkG"
      },
      "source": [
        "```python\n",
        "result = (df2.assign(col1_demeaned=df2.col1 - df2.col2.mean())\n",
        "          .groupby('key')\n",
        "          .col1_demeaned.std())\n",
        "```"
      ]
    },
    {
      "cell_type": "markdown",
      "metadata": {
        "deletable": true,
        "editable": true,
        "id": "6QTXyXk_DkkH"
      },
      "source": [
        "```python\n",
        "df = load_data()\n",
        "df2 = df[df['col2'] < 0]\n",
        "```"
      ]
    },
    {
      "cell_type": "markdown",
      "metadata": {
        "deletable": true,
        "editable": true,
        "id": "bfqdIm25DkkH"
      },
      "source": [
        "```python\n",
        "df = (load_data()\n",
        "      [lambda x: x['col2'] < 0])\n",
        "```"
      ]
    },
    {
      "cell_type": "markdown",
      "metadata": {
        "deletable": true,
        "editable": true,
        "id": "1KFidhIJDkkI"
      },
      "source": [
        "```python\n",
        "result = (load_data()\n",
        "          [lambda x: x.col2 < 0]\n",
        "          .assign(col1_demeaned=lambda x: x.col1 - x.col1.mean())\n",
        "          .groupby('key')\n",
        "          .col1_demeaned.std())\n",
        "```"
      ]
    },
    {
      "cell_type": "markdown",
      "metadata": {
        "deletable": true,
        "editable": true,
        "id": "Xt3hJajwDkkI"
      },
      "source": [
        "### The pipe Method"
      ]
    },
    {
      "cell_type": "markdown",
      "metadata": {
        "deletable": true,
        "editable": true,
        "id": "wiXxXO2EDkkJ"
      },
      "source": [
        "```python\n",
        "a = f(df, arg1=v1)\n",
        "b = g(a, v2, arg3=v3)\n",
        "c = h(b, arg4=v4)\n",
        "```"
      ]
    },
    {
      "cell_type": "markdown",
      "metadata": {
        "deletable": true,
        "editable": true,
        "id": "g6hYovV2DkkJ"
      },
      "source": [
        "```python\n",
        "result = (df.pipe(f, arg1=v1)\n",
        "          .pipe(g, v2, arg3=v3)\n",
        "          .pipe(h, arg4=v4))\n",
        "```"
      ]
    },
    {
      "cell_type": "markdown",
      "metadata": {
        "deletable": true,
        "editable": true,
        "id": "opIKxtPKDkkJ"
      },
      "source": [
        "```python\n",
        "g = df.groupby(['key1', 'key2'])\n",
        "df['col1'] = df['col1'] - g.transform('mean')\n",
        "```"
      ]
    },
    {
      "cell_type": "markdown",
      "metadata": {
        "deletable": true,
        "editable": true,
        "id": "CHJT79cBDkkK"
      },
      "source": [
        "```python\n",
        "def group_demean(df, by, cols):\n",
        "    result = df.copy()\n",
        "    g = df.groupby(by)\n",
        "    for c in cols:\n",
        "        result[c] = df[c] - g[c].transform('mean')\n",
        "    return result\n",
        "```"
      ]
    },
    {
      "cell_type": "markdown",
      "metadata": {
        "deletable": true,
        "editable": true,
        "id": "HYmSpRvMDkkK"
      },
      "source": [
        "```python\n",
        "result = (df[df.col1 < 0]\n",
        "          .pipe(group_demean, ['key1', 'key2'], ['col1']))\n",
        "```"
      ]
    },
    {
      "cell_type": "code",
      "metadata": {
        "collapsed": true,
        "deletable": true,
        "editable": true,
        "id": "ltYJRKqzDkkK"
      },
      "source": [
        "pd.options.display.max_rows = PREVIOUS_MAX_ROWS"
      ],
      "execution_count": null,
      "outputs": []
    },
    {
      "cell_type": "markdown",
      "metadata": {
        "deletable": true,
        "editable": true,
        "id": "Np6jbCCsDkkL"
      },
      "source": [
        "## Conclusion"
      ]
    }
  ]
}