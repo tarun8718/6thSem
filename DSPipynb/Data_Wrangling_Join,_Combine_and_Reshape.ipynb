{
  "nbformat": 4,
  "nbformat_minor": 0,
  "metadata": {
    "kernelspec": {
      "display_name": "Python 3",
      "language": "python",
      "name": "python3"
    },
    "language_info": {
      "codemirror_mode": {
        "name": "ipython",
        "version": 3
      },
      "file_extension": ".py",
      "mimetype": "text/x-python",
      "name": "python",
      "nbconvert_exporter": "python",
      "pygments_lexer": "ipython3",
      "version": "3.6.0"
    },
    "colab": {
      "name": "Data Wrangling: Join, Combine and Reshape.ipynb",
      "provenance": [],
      "collapsed_sections": []
    }
  },
  "cells": [
    {
      "cell_type": "markdown",
      "metadata": {
        "deletable": true,
        "editable": true,
        "id": "KKV9dphrLbVW"
      },
      "source": [
        "# Data Wrangling: Join, Combine and Reshape"
      ]
    },
    {
      "cell_type": "markdown",
      "metadata": {
        "id": "uVFVyO0nVucC"
      },
      "source": [
        "# **T. Prathima**, Assistant Professor, Dept. of IT, CBIT(A)"
      ]
    },
    {
      "cell_type": "markdown",
      "metadata": {
        "id": "S0AjCyYkVvVb"
      },
      "source": [
        "Reference:\n",
        "Python for Data Analysis DATA WRANGLING WITH PANDAS, \n",
        "NUMPY, AND IPYTHON\n",
        "Author: Wes McKinney"
      ]
    },
    {
      "cell_type": "code",
      "metadata": {
        "deletable": true,
        "editable": true,
        "id": "jwEmepbALbVY"
      },
      "source": [
        "import numpy as np\n",
        "import pandas as pd\n",
        "pd.options.display.max_rows = 20\n",
        "np.random.seed(12345)\n",
        "import matplotlib.pyplot as plt\n",
        "plt.rc('figure', figsize=(10, 6))\n",
        "np.set_printoptions(precision=4, suppress=True)"
      ],
      "execution_count": null,
      "outputs": []
    },
    {
      "cell_type": "markdown",
      "metadata": {
        "deletable": true,
        "editable": true,
        "id": "Ennb1gYjLbVd"
      },
      "source": [
        "\n",
        "## Hierarchical Indexing"
      ]
    },
    {
      "cell_type": "code",
      "metadata": {
        "id": "bBo1m_VCZr2i"
      },
      "source": [
        "#Hierarchical indexing is an important feature of pandas that enables you to \n",
        "#have multiple (two or more) index levels on an axis. Somewhat abstractly, \n",
        "#it provides a way for you to work with higher dimensional data in a lower \n",
        "#dimensional form."
      ],
      "execution_count": null,
      "outputs": []
    },
    {
      "cell_type": "code",
      "metadata": {
        "deletable": true,
        "editable": true,
        "id": "HeZm-LohLbVe",
        "colab": {
          "base_uri": "https://localhost:8080/"
        },
        "outputId": "643cb56b-b465-4844-a9ca-5f82f8f4ea55"
      },
      "source": [
        "data = pd.Series(np.random.randn(9),\n",
        "                 index=[['a', 'a', 'a', 'b', 'b', 'c', 'c', 'd', 'd'],\n",
        "                        [  1,  2,   3,   1,    3,   1,   2,   2,   3]])\n",
        "data\n",
        "\n",
        "#pd.Series(data,index=[9,4,1,0])"
      ],
      "execution_count": null,
      "outputs": [
        {
          "output_type": "execute_result",
          "data": {
            "text/plain": [
              "a  1   -0.204708\n",
              "   2    0.478943\n",
              "   3   -0.519439\n",
              "b  1   -0.555730\n",
              "   3    1.965781\n",
              "c  1    1.393406\n",
              "   2    0.092908\n",
              "d  2    0.281746\n",
              "   3    0.769023\n",
              "dtype: float64"
            ]
          },
          "metadata": {
            "tags": []
          },
          "execution_count": 10
        }
      ]
    },
    {
      "cell_type": "code",
      "metadata": {
        "deletable": true,
        "editable": true,
        "id": "HRg8YgRPLbVj",
        "colab": {
          "base_uri": "https://localhost:8080/"
        },
        "outputId": "96573c31-4cc3-4ec5-8835-6971ebdfb642"
      },
      "source": [
        "#What you’re seeing is a Series with a MultiIndex as its index. The “gaps” in \n",
        "#the index display mean “use the label directly above”: \n",
        "data.index"
      ],
      "execution_count": null,
      "outputs": [
        {
          "output_type": "execute_result",
          "data": {
            "text/plain": [
              "MultiIndex([('a', 1),\n",
              "            ('a', 2),\n",
              "            ('a', 3),\n",
              "            ('b', 1),\n",
              "            ('b', 3),\n",
              "            ('c', 1),\n",
              "            ('c', 2),\n",
              "            ('d', 2),\n",
              "            ('d', 3)],\n",
              "           )"
            ]
          },
          "metadata": {
            "tags": []
          },
          "execution_count": 6
        }
      ]
    },
    {
      "cell_type": "code",
      "metadata": {
        "deletable": true,
        "editable": true,
        "id": "09LoDTYOLbVr",
        "colab": {
          "base_uri": "https://localhost:8080/"
        },
        "outputId": "bbb09fe9-1d3b-480e-d6e7-c2fdcdb45aa6"
      },
      "source": [
        "#With a hierarchically indexed object, so-called partial indexing is possible, \n",
        "#enabling you to concisely select subsets of the data\n",
        "print(data['b'])\n",
        "print(data['b':'c'])\n",
        "data.loc[['b', 'd']]"
      ],
      "execution_count": null,
      "outputs": [
        {
          "output_type": "stream",
          "text": [
            "1   -0.555730\n",
            "3    1.965781\n",
            "dtype: float64\n",
            "b  1   -0.555730\n",
            "   3    1.965781\n",
            "c  1    1.393406\n",
            "   2    0.092908\n",
            "dtype: float64\n"
          ],
          "name": "stdout"
        },
        {
          "output_type": "execute_result",
          "data": {
            "text/plain": [
              "b  1   -0.555730\n",
              "   3    1.965781\n",
              "d  2    0.281746\n",
              "   3    0.769023\n",
              "dtype: float64"
            ]
          },
          "metadata": {
            "tags": []
          },
          "execution_count": 11
        }
      ]
    },
    {
      "cell_type": "code",
      "metadata": {
        "deletable": true,
        "editable": true,
        "id": "BDtRoKfYLbVw",
        "colab": {
          "base_uri": "https://localhost:8080/"
        },
        "outputId": "acd0108f-5422-4b7f-a300-6bf3587b4668"
      },
      "source": [
        "#Selection is even possible from an “inner” level\n",
        "data.loc[:, 2]"
      ],
      "execution_count": null,
      "outputs": [
        {
          "output_type": "execute_result",
          "data": {
            "text/plain": [
              "a    0.478943\n",
              "c    0.092908\n",
              "d    0.281746\n",
              "dtype: float64"
            ]
          },
          "metadata": {
            "tags": []
          },
          "execution_count": 12
        }
      ]
    },
    {
      "cell_type": "code",
      "metadata": {
        "deletable": true,
        "editable": true,
        "id": "iIJ-0lcFLbV0",
        "colab": {
          "base_uri": "https://localhost:8080/",
          "height": 173
        },
        "outputId": "2f0b5397-4c64-47db-d817-98016d727ff3"
      },
      "source": [
        "#Hierarchical indexing plays an important role in reshaping data and group-based\n",
        "#operations like forming a pivot table. For example, you could rearrange the \n",
        "#data into a DataFrame using its unstack method\n",
        "data.unstack()"
      ],
      "execution_count": null,
      "outputs": [
        {
          "output_type": "execute_result",
          "data": {
            "text/html": [
              "<div>\n",
              "<style scoped>\n",
              "    .dataframe tbody tr th:only-of-type {\n",
              "        vertical-align: middle;\n",
              "    }\n",
              "\n",
              "    .dataframe tbody tr th {\n",
              "        vertical-align: top;\n",
              "    }\n",
              "\n",
              "    .dataframe thead th {\n",
              "        text-align: right;\n",
              "    }\n",
              "</style>\n",
              "<table border=\"1\" class=\"dataframe\">\n",
              "  <thead>\n",
              "    <tr style=\"text-align: right;\">\n",
              "      <th></th>\n",
              "      <th>1</th>\n",
              "      <th>2</th>\n",
              "      <th>3</th>\n",
              "    </tr>\n",
              "  </thead>\n",
              "  <tbody>\n",
              "    <tr>\n",
              "      <th>a</th>\n",
              "      <td>-0.204708</td>\n",
              "      <td>0.478943</td>\n",
              "      <td>-0.519439</td>\n",
              "    </tr>\n",
              "    <tr>\n",
              "      <th>b</th>\n",
              "      <td>-0.555730</td>\n",
              "      <td>NaN</td>\n",
              "      <td>1.965781</td>\n",
              "    </tr>\n",
              "    <tr>\n",
              "      <th>c</th>\n",
              "      <td>1.393406</td>\n",
              "      <td>0.092908</td>\n",
              "      <td>NaN</td>\n",
              "    </tr>\n",
              "    <tr>\n",
              "      <th>d</th>\n",
              "      <td>NaN</td>\n",
              "      <td>0.281746</td>\n",
              "      <td>0.769023</td>\n",
              "    </tr>\n",
              "  </tbody>\n",
              "</table>\n",
              "</div>"
            ],
            "text/plain": [
              "          1         2         3\n",
              "a -0.204708  0.478943 -0.519439\n",
              "b -0.555730       NaN  1.965781\n",
              "c  1.393406  0.092908       NaN\n",
              "d       NaN  0.281746  0.769023"
            ]
          },
          "metadata": {
            "tags": []
          },
          "execution_count": 8
        }
      ]
    },
    {
      "cell_type": "code",
      "metadata": {
        "deletable": true,
        "editable": true,
        "id": "vhKZpDe-LbV5",
        "colab": {
          "base_uri": "https://localhost:8080/",
          "height": 187
        },
        "outputId": "38898d6e-969d-4724-8d4f-504c90c0fae1"
      },
      "source": [
        "#The inverse operation of unstack is stack:\n",
        "data.unstack().stack()"
      ],
      "execution_count": null,
      "outputs": [
        {
          "output_type": "execute_result",
          "data": {
            "text/plain": [
              "a  1   -0.204708\n",
              "   2    0.478943\n",
              "   3   -0.519439\n",
              "b  1   -0.555730\n",
              "   3    1.965781\n",
              "c  1    1.393406\n",
              "   2    0.092908\n",
              "d  2    0.281746\n",
              "   3    0.769023\n",
              "dtype: float64"
            ]
          },
          "metadata": {
            "tags": []
          },
          "execution_count": 9
        }
      ]
    },
    {
      "cell_type": "code",
      "metadata": {
        "deletable": true,
        "editable": true,
        "id": "eB7PPMBELbV_",
        "colab": {
          "base_uri": "https://localhost:8080/",
          "height": 195
        },
        "outputId": "31c765e2-67cd-46b6-cd63-2d58fd69d49f"
      },
      "source": [
        "#With a DataFrame, either axis can have a hierarchical index:\n",
        "frame = pd.DataFrame(np.arange(12).reshape((4, 3)),                 #0,1,2,.....11\n",
        "                     index=[['a', 'a', 'b', 'b'], [1, 2, 1, 2]],\n",
        "                     columns=[['Ohio', 'Ohio', 'Colorado'],\n",
        "                              ['Green', 'Red', 'Green']])\n",
        "frame"
      ],
      "execution_count": null,
      "outputs": [
        {
          "output_type": "execute_result",
          "data": {
            "text/html": [
              "<div>\n",
              "<style scoped>\n",
              "    .dataframe tbody tr th:only-of-type {\n",
              "        vertical-align: middle;\n",
              "    }\n",
              "\n",
              "    .dataframe tbody tr th {\n",
              "        vertical-align: top;\n",
              "    }\n",
              "\n",
              "    .dataframe thead tr th {\n",
              "        text-align: left;\n",
              "    }\n",
              "</style>\n",
              "<table border=\"1\" class=\"dataframe\">\n",
              "  <thead>\n",
              "    <tr>\n",
              "      <th></th>\n",
              "      <th></th>\n",
              "      <th colspan=\"2\" halign=\"left\">Ohio</th>\n",
              "      <th>Colorado</th>\n",
              "    </tr>\n",
              "    <tr>\n",
              "      <th></th>\n",
              "      <th></th>\n",
              "      <th>Green</th>\n",
              "      <th>Red</th>\n",
              "      <th>Green</th>\n",
              "    </tr>\n",
              "  </thead>\n",
              "  <tbody>\n",
              "    <tr>\n",
              "      <th rowspan=\"2\" valign=\"top\">a</th>\n",
              "      <th>1</th>\n",
              "      <td>0</td>\n",
              "      <td>1</td>\n",
              "      <td>2</td>\n",
              "    </tr>\n",
              "    <tr>\n",
              "      <th>2</th>\n",
              "      <td>3</td>\n",
              "      <td>4</td>\n",
              "      <td>5</td>\n",
              "    </tr>\n",
              "    <tr>\n",
              "      <th rowspan=\"2\" valign=\"top\">b</th>\n",
              "      <th>1</th>\n",
              "      <td>6</td>\n",
              "      <td>7</td>\n",
              "      <td>8</td>\n",
              "    </tr>\n",
              "    <tr>\n",
              "      <th>2</th>\n",
              "      <td>9</td>\n",
              "      <td>10</td>\n",
              "      <td>11</td>\n",
              "    </tr>\n",
              "  </tbody>\n",
              "</table>\n",
              "</div>"
            ],
            "text/plain": [
              "     Ohio     Colorado\n",
              "    Green Red    Green\n",
              "a 1     0   1        2\n",
              "  2     3   4        5\n",
              "b 1     6   7        8\n",
              "  2     9  10       11"
            ]
          },
          "metadata": {
            "tags": []
          },
          "execution_count": 4
        }
      ]
    },
    {
      "cell_type": "code",
      "metadata": {
        "id": "uNGFX9Ao3WPP"
      },
      "source": [
        "#frame = pd.DataFrame(np.arange(12).reshape((4, 3)))\n",
        "#frame"
      ],
      "execution_count": null,
      "outputs": []
    },
    {
      "cell_type": "code",
      "metadata": {
        "deletable": true,
        "editable": true,
        "id": "6TwyHKEyLbWE",
        "colab": {
          "base_uri": "https://localhost:8080/",
          "height": 225
        },
        "outputId": "2239b424-f417-4fe7-ddd8-16b1b189a437"
      },
      "source": [
        "##The hierarchical levels can have names (as strings or any Python objects). \n",
        "#If so, these will show up in the console output:\n",
        "frame.index.names = ['key1', 'key2']\n",
        "frame.columns.names = ['state', 'color']\n",
        "frame\n",
        "\n",
        "\n",
        "#Be careful to distinguish the index names 'state' and 'color'\n",
        "#from the row labels."
      ],
      "execution_count": null,
      "outputs": [
        {
          "output_type": "execute_result",
          "data": {
            "text/html": [
              "<div>\n",
              "<style scoped>\n",
              "    .dataframe tbody tr th:only-of-type {\n",
              "        vertical-align: middle;\n",
              "    }\n",
              "\n",
              "    .dataframe tbody tr th {\n",
              "        vertical-align: top;\n",
              "    }\n",
              "\n",
              "    .dataframe thead tr th {\n",
              "        text-align: left;\n",
              "    }\n",
              "\n",
              "    .dataframe thead tr:last-of-type th {\n",
              "        text-align: right;\n",
              "    }\n",
              "</style>\n",
              "<table border=\"1\" class=\"dataframe\">\n",
              "  <thead>\n",
              "    <tr>\n",
              "      <th></th>\n",
              "      <th>state</th>\n",
              "      <th colspan=\"2\" halign=\"left\">Ohio</th>\n",
              "      <th>Colorado</th>\n",
              "    </tr>\n",
              "    <tr>\n",
              "      <th></th>\n",
              "      <th>color</th>\n",
              "      <th>Green</th>\n",
              "      <th>Red</th>\n",
              "      <th>Green</th>\n",
              "    </tr>\n",
              "    <tr>\n",
              "      <th>key1</th>\n",
              "      <th>key2</th>\n",
              "      <th></th>\n",
              "      <th></th>\n",
              "      <th></th>\n",
              "    </tr>\n",
              "  </thead>\n",
              "  <tbody>\n",
              "    <tr>\n",
              "      <th rowspan=\"2\" valign=\"top\">a</th>\n",
              "      <th>1</th>\n",
              "      <td>0</td>\n",
              "      <td>1</td>\n",
              "      <td>2</td>\n",
              "    </tr>\n",
              "    <tr>\n",
              "      <th>2</th>\n",
              "      <td>3</td>\n",
              "      <td>4</td>\n",
              "      <td>5</td>\n",
              "    </tr>\n",
              "    <tr>\n",
              "      <th rowspan=\"2\" valign=\"top\">b</th>\n",
              "      <th>1</th>\n",
              "      <td>6</td>\n",
              "      <td>7</td>\n",
              "      <td>8</td>\n",
              "    </tr>\n",
              "    <tr>\n",
              "      <th>2</th>\n",
              "      <td>9</td>\n",
              "      <td>10</td>\n",
              "      <td>11</td>\n",
              "    </tr>\n",
              "  </tbody>\n",
              "</table>\n",
              "</div>"
            ],
            "text/plain": [
              "state      Ohio     Colorado\n",
              "color     Green Red    Green\n",
              "key1 key2                   \n",
              "a    1        0   1        2\n",
              "     2        3   4        5\n",
              "b    1        6   7        8\n",
              "     2        9  10       11"
            ]
          },
          "metadata": {
            "tags": []
          },
          "execution_count": 6
        }
      ]
    },
    {
      "cell_type": "code",
      "metadata": {
        "deletable": true,
        "editable": true,
        "id": "udrWXEgwLbWK",
        "colab": {
          "base_uri": "https://localhost:8080/",
          "height": 195
        },
        "outputId": "6f35ba2c-53fc-47e0-b042-e8239cffe314"
      },
      "source": [
        "#With partial column indexing you can similarly select groups of columns:\n",
        "frame['Ohio']"
      ],
      "execution_count": null,
      "outputs": [
        {
          "output_type": "execute_result",
          "data": {
            "text/html": [
              "<div>\n",
              "<style scoped>\n",
              "    .dataframe tbody tr th:only-of-type {\n",
              "        vertical-align: middle;\n",
              "    }\n",
              "\n",
              "    .dataframe tbody tr th {\n",
              "        vertical-align: top;\n",
              "    }\n",
              "\n",
              "    .dataframe thead th {\n",
              "        text-align: right;\n",
              "    }\n",
              "</style>\n",
              "<table border=\"1\" class=\"dataframe\">\n",
              "  <thead>\n",
              "    <tr style=\"text-align: right;\">\n",
              "      <th></th>\n",
              "      <th>color</th>\n",
              "      <th>Green</th>\n",
              "      <th>Red</th>\n",
              "    </tr>\n",
              "    <tr>\n",
              "      <th>key1</th>\n",
              "      <th>key2</th>\n",
              "      <th></th>\n",
              "      <th></th>\n",
              "    </tr>\n",
              "  </thead>\n",
              "  <tbody>\n",
              "    <tr>\n",
              "      <th rowspan=\"2\" valign=\"top\">a</th>\n",
              "      <th>1</th>\n",
              "      <td>0</td>\n",
              "      <td>1</td>\n",
              "    </tr>\n",
              "    <tr>\n",
              "      <th>2</th>\n",
              "      <td>3</td>\n",
              "      <td>4</td>\n",
              "    </tr>\n",
              "    <tr>\n",
              "      <th rowspan=\"2\" valign=\"top\">b</th>\n",
              "      <th>1</th>\n",
              "      <td>6</td>\n",
              "      <td>7</td>\n",
              "    </tr>\n",
              "    <tr>\n",
              "      <th>2</th>\n",
              "      <td>9</td>\n",
              "      <td>10</td>\n",
              "    </tr>\n",
              "  </tbody>\n",
              "</table>\n",
              "</div>"
            ],
            "text/plain": [
              "color      Green  Red\n",
              "key1 key2            \n",
              "a    1         0    1\n",
              "     2         3    4\n",
              "b    1         6    7\n",
              "     2         9   10"
            ]
          },
          "metadata": {
            "tags": []
          },
          "execution_count": 7
        }
      ]
    },
    {
      "cell_type": "markdown",
      "metadata": {
        "deletable": true,
        "editable": true,
        "id": "U4ICSEqLLbWP"
      },
      "source": [
        "A MultiIndex can be created by itself and then reused; the columns in the preceding DataFrame with level names could be created like this:\n",
        "\n",
        "#MultiIndex.from_arrays([['Ohio', 'Ohio', 'Colorado'], ['Green', 'Red', 'Green']],names=['state', 'color'])"
      ]
    },
    {
      "cell_type": "markdown",
      "metadata": {
        "deletable": true,
        "editable": true,
        "id": "y7vF9XInLbWP"
      },
      "source": [
        "### Reordering and Sorting Levels"
      ]
    },
    {
      "cell_type": "code",
      "metadata": {
        "id": "8sjPYGIUbdvN"
      },
      "source": [
        "#At times you will need to rearrange the order of the levels on an axis or \n",
        "#sort the data by the values in one specific level. The swaplevel takes two \n",
        "#level numbers or names and returns a new object with the levels interchanged"
      ],
      "execution_count": null,
      "outputs": []
    },
    {
      "cell_type": "code",
      "metadata": {
        "deletable": true,
        "editable": true,
        "id": "U1N8Z6OlLbWQ",
        "colab": {
          "base_uri": "https://localhost:8080/",
          "height": 342
        },
        "outputId": "ee15a9ab-8e7c-4993-d8eb-cde5415dae6e"
      },
      "source": [
        "print(frame)\n",
        "frame.swaplevel('key1', 'key2')\n"
      ],
      "execution_count": null,
      "outputs": [
        {
          "output_type": "stream",
          "text": [
            "state      Ohio     Colorado\n",
            "color     Green Red    Green\n",
            "key1 key2                   \n",
            "a    1        0   1        2\n",
            "     2        3   4        5\n",
            "b    1        6   7        8\n",
            "     2        9  10       11\n"
          ],
          "name": "stdout"
        },
        {
          "output_type": "execute_result",
          "data": {
            "text/html": [
              "<div>\n",
              "<style scoped>\n",
              "    .dataframe tbody tr th:only-of-type {\n",
              "        vertical-align: middle;\n",
              "    }\n",
              "\n",
              "    .dataframe tbody tr th {\n",
              "        vertical-align: top;\n",
              "    }\n",
              "\n",
              "    .dataframe thead tr th {\n",
              "        text-align: left;\n",
              "    }\n",
              "\n",
              "    .dataframe thead tr:last-of-type th {\n",
              "        text-align: right;\n",
              "    }\n",
              "</style>\n",
              "<table border=\"1\" class=\"dataframe\">\n",
              "  <thead>\n",
              "    <tr>\n",
              "      <th></th>\n",
              "      <th>state</th>\n",
              "      <th colspan=\"2\" halign=\"left\">Ohio</th>\n",
              "      <th>Colorado</th>\n",
              "    </tr>\n",
              "    <tr>\n",
              "      <th></th>\n",
              "      <th>color</th>\n",
              "      <th>Green</th>\n",
              "      <th>Red</th>\n",
              "      <th>Green</th>\n",
              "    </tr>\n",
              "    <tr>\n",
              "      <th>key2</th>\n",
              "      <th>key1</th>\n",
              "      <th></th>\n",
              "      <th></th>\n",
              "      <th></th>\n",
              "    </tr>\n",
              "  </thead>\n",
              "  <tbody>\n",
              "    <tr>\n",
              "      <th>1</th>\n",
              "      <th>a</th>\n",
              "      <td>0</td>\n",
              "      <td>1</td>\n",
              "      <td>2</td>\n",
              "    </tr>\n",
              "    <tr>\n",
              "      <th>2</th>\n",
              "      <th>a</th>\n",
              "      <td>3</td>\n",
              "      <td>4</td>\n",
              "      <td>5</td>\n",
              "    </tr>\n",
              "    <tr>\n",
              "      <th>1</th>\n",
              "      <th>b</th>\n",
              "      <td>6</td>\n",
              "      <td>7</td>\n",
              "      <td>8</td>\n",
              "    </tr>\n",
              "    <tr>\n",
              "      <th>2</th>\n",
              "      <th>b</th>\n",
              "      <td>9</td>\n",
              "      <td>10</td>\n",
              "      <td>11</td>\n",
              "    </tr>\n",
              "  </tbody>\n",
              "</table>\n",
              "</div>"
            ],
            "text/plain": [
              "state      Ohio     Colorado\n",
              "color     Green Red    Green\n",
              "key2 key1                   \n",
              "1    a        0   1        2\n",
              "2    a        3   4        5\n",
              "1    b        6   7        8\n",
              "2    b        9  10       11"
            ]
          },
          "metadata": {
            "tags": []
          },
          "execution_count": 9
        }
      ]
    },
    {
      "cell_type": "code",
      "metadata": {
        "deletable": true,
        "editable": true,
        "id": "ejVl9OVVLbWW",
        "colab": {
          "base_uri": "https://localhost:8080/",
          "height": 460
        },
        "outputId": "4c8d60bf-76f4-48b3-9cc4-1063d19bb1a4"
      },
      "source": [
        "print(frame)\n",
        "print(frame.sort_index(level=1))\n",
        "frame.swaplevel(0, 1).sort_index(level=0)"
      ],
      "execution_count": null,
      "outputs": [
        {
          "output_type": "stream",
          "text": [
            "state      Ohio     Colorado\n",
            "color     Green Red    Green\n",
            "key1 key2                   \n",
            "a    1        0   1        2\n",
            "     2        3   4        5\n",
            "b    1        6   7        8\n",
            "     2        9  10       11\n",
            "state      Ohio     Colorado\n",
            "color     Green Red    Green\n",
            "key1 key2                   \n",
            "a    1        0   1        2\n",
            "b    1        6   7        8\n",
            "a    2        3   4        5\n",
            "b    2        9  10       11\n"
          ],
          "name": "stdout"
        },
        {
          "output_type": "execute_result",
          "data": {
            "text/html": [
              "<div>\n",
              "<style scoped>\n",
              "    .dataframe tbody tr th:only-of-type {\n",
              "        vertical-align: middle;\n",
              "    }\n",
              "\n",
              "    .dataframe tbody tr th {\n",
              "        vertical-align: top;\n",
              "    }\n",
              "\n",
              "    .dataframe thead tr th {\n",
              "        text-align: left;\n",
              "    }\n",
              "\n",
              "    .dataframe thead tr:last-of-type th {\n",
              "        text-align: right;\n",
              "    }\n",
              "</style>\n",
              "<table border=\"1\" class=\"dataframe\">\n",
              "  <thead>\n",
              "    <tr>\n",
              "      <th></th>\n",
              "      <th>state</th>\n",
              "      <th colspan=\"2\" halign=\"left\">Ohio</th>\n",
              "      <th>Colorado</th>\n",
              "    </tr>\n",
              "    <tr>\n",
              "      <th></th>\n",
              "      <th>color</th>\n",
              "      <th>Green</th>\n",
              "      <th>Red</th>\n",
              "      <th>Green</th>\n",
              "    </tr>\n",
              "    <tr>\n",
              "      <th>key2</th>\n",
              "      <th>key1</th>\n",
              "      <th></th>\n",
              "      <th></th>\n",
              "      <th></th>\n",
              "    </tr>\n",
              "  </thead>\n",
              "  <tbody>\n",
              "    <tr>\n",
              "      <th rowspan=\"2\" valign=\"top\">1</th>\n",
              "      <th>a</th>\n",
              "      <td>0</td>\n",
              "      <td>1</td>\n",
              "      <td>2</td>\n",
              "    </tr>\n",
              "    <tr>\n",
              "      <th>b</th>\n",
              "      <td>6</td>\n",
              "      <td>7</td>\n",
              "      <td>8</td>\n",
              "    </tr>\n",
              "    <tr>\n",
              "      <th rowspan=\"2\" valign=\"top\">2</th>\n",
              "      <th>a</th>\n",
              "      <td>3</td>\n",
              "      <td>4</td>\n",
              "      <td>5</td>\n",
              "    </tr>\n",
              "    <tr>\n",
              "      <th>b</th>\n",
              "      <td>9</td>\n",
              "      <td>10</td>\n",
              "      <td>11</td>\n",
              "    </tr>\n",
              "  </tbody>\n",
              "</table>\n",
              "</div>"
            ],
            "text/plain": [
              "state      Ohio     Colorado\n",
              "color     Green Red    Green\n",
              "key2 key1                   \n",
              "1    a        0   1        2\n",
              "     b        6   7        8\n",
              "2    a        3   4        5\n",
              "     b        9  10       11"
            ]
          },
          "metadata": {
            "tags": []
          },
          "execution_count": 10
        }
      ]
    },
    {
      "cell_type": "markdown",
      "metadata": {
        "deletable": true,
        "editable": true,
        "id": "fJ3cKWf5LbWb"
      },
      "source": [
        "### Summary Statistics by Level"
      ]
    },
    {
      "cell_type": "code",
      "metadata": {
        "deletable": true,
        "editable": true,
        "id": "bu8j8FkJLbWc",
        "colab": {
          "base_uri": "https://localhost:8080/",
          "height": 397
        },
        "outputId": "2f2b26d8-49fe-4861-96bd-1352b4e3398e"
      },
      "source": [
        "#Many descriptive and summary statistics on DataFrame and Series have a level\n",
        "#option in which you can specify the level you want to aggregate by on a particular\n",
        "#axis.\n",
        "print(frame)\n",
        "print(frame.sum(level='key2'))\n",
        "frame.sum(level='color', axis=1)"
      ],
      "execution_count": null,
      "outputs": [
        {
          "output_type": "stream",
          "text": [
            "state      Ohio     Colorado\n",
            "color     Green Red    Green\n",
            "key1 key2                   \n",
            "a    1        0   1        2\n",
            "     2        3   4        5\n",
            "b    1        6   7        8\n",
            "     2        9  10       11\n",
            "state  Ohio     Colorado\n",
            "color Green Red    Green\n",
            "key2                    \n",
            "1         6   8       10\n",
            "2        12  14       16\n"
          ],
          "name": "stdout"
        },
        {
          "output_type": "execute_result",
          "data": {
            "text/html": [
              "<div>\n",
              "<style scoped>\n",
              "    .dataframe tbody tr th:only-of-type {\n",
              "        vertical-align: middle;\n",
              "    }\n",
              "\n",
              "    .dataframe tbody tr th {\n",
              "        vertical-align: top;\n",
              "    }\n",
              "\n",
              "    .dataframe thead th {\n",
              "        text-align: right;\n",
              "    }\n",
              "</style>\n",
              "<table border=\"1\" class=\"dataframe\">\n",
              "  <thead>\n",
              "    <tr style=\"text-align: right;\">\n",
              "      <th></th>\n",
              "      <th>color</th>\n",
              "      <th>Green</th>\n",
              "      <th>Red</th>\n",
              "    </tr>\n",
              "    <tr>\n",
              "      <th>key1</th>\n",
              "      <th>key2</th>\n",
              "      <th></th>\n",
              "      <th></th>\n",
              "    </tr>\n",
              "  </thead>\n",
              "  <tbody>\n",
              "    <tr>\n",
              "      <th rowspan=\"2\" valign=\"top\">a</th>\n",
              "      <th>1</th>\n",
              "      <td>2</td>\n",
              "      <td>1</td>\n",
              "    </tr>\n",
              "    <tr>\n",
              "      <th>2</th>\n",
              "      <td>8</td>\n",
              "      <td>4</td>\n",
              "    </tr>\n",
              "    <tr>\n",
              "      <th rowspan=\"2\" valign=\"top\">b</th>\n",
              "      <th>1</th>\n",
              "      <td>14</td>\n",
              "      <td>7</td>\n",
              "    </tr>\n",
              "    <tr>\n",
              "      <th>2</th>\n",
              "      <td>20</td>\n",
              "      <td>10</td>\n",
              "    </tr>\n",
              "  </tbody>\n",
              "</table>\n",
              "</div>"
            ],
            "text/plain": [
              "color      Green  Red\n",
              "key1 key2            \n",
              "a    1         2    1\n",
              "     2         8    4\n",
              "b    1        14    7\n",
              "     2        20   10"
            ]
          },
          "metadata": {
            "tags": []
          },
          "execution_count": 11
        }
      ]
    },
    {
      "cell_type": "markdown",
      "metadata": {
        "deletable": true,
        "editable": true,
        "id": "Z_kDGjdeLbWg"
      },
      "source": [
        "### Indexing with a DataFrame's columns"
      ]
    },
    {
      "cell_type": "code",
      "metadata": {
        "deletable": true,
        "editable": true,
        "id": "MUa5iNNDLbWh",
        "colab": {
          "base_uri": "https://localhost:8080/",
          "height": 254
        },
        "outputId": "1db725a6-9c75-4666-ad05-3ff2bda7ed9b"
      },
      "source": [
        "#It’s not unusual to want to use one or more columns from a DataFrame as the row\n",
        "#index; alternatively, you may wish to move the row index into the DataFrame’s \n",
        "#columns.\n",
        "frame = pd.DataFrame({'a': range(7), 'b': range(7, 0, -1),\n",
        "                      'c': ['one', 'one', 'one', 'two', 'two',\n",
        "                            'two', 'two'],\n",
        "                      'd': [0, 1, 2, 0, 1, 2, 3]})\n",
        "frame"
      ],
      "execution_count": null,
      "outputs": [
        {
          "output_type": "execute_result",
          "data": {
            "text/html": [
              "<div>\n",
              "<style scoped>\n",
              "    .dataframe tbody tr th:only-of-type {\n",
              "        vertical-align: middle;\n",
              "    }\n",
              "\n",
              "    .dataframe tbody tr th {\n",
              "        vertical-align: top;\n",
              "    }\n",
              "\n",
              "    .dataframe thead th {\n",
              "        text-align: right;\n",
              "    }\n",
              "</style>\n",
              "<table border=\"1\" class=\"dataframe\">\n",
              "  <thead>\n",
              "    <tr style=\"text-align: right;\">\n",
              "      <th></th>\n",
              "      <th>a</th>\n",
              "      <th>b</th>\n",
              "      <th>c</th>\n",
              "      <th>d</th>\n",
              "    </tr>\n",
              "  </thead>\n",
              "  <tbody>\n",
              "    <tr>\n",
              "      <th>0</th>\n",
              "      <td>0</td>\n",
              "      <td>7</td>\n",
              "      <td>one</td>\n",
              "      <td>0</td>\n",
              "    </tr>\n",
              "    <tr>\n",
              "      <th>1</th>\n",
              "      <td>1</td>\n",
              "      <td>6</td>\n",
              "      <td>one</td>\n",
              "      <td>1</td>\n",
              "    </tr>\n",
              "    <tr>\n",
              "      <th>2</th>\n",
              "      <td>2</td>\n",
              "      <td>5</td>\n",
              "      <td>one</td>\n",
              "      <td>2</td>\n",
              "    </tr>\n",
              "    <tr>\n",
              "      <th>3</th>\n",
              "      <td>3</td>\n",
              "      <td>4</td>\n",
              "      <td>two</td>\n",
              "      <td>0</td>\n",
              "    </tr>\n",
              "    <tr>\n",
              "      <th>4</th>\n",
              "      <td>4</td>\n",
              "      <td>3</td>\n",
              "      <td>two</td>\n",
              "      <td>1</td>\n",
              "    </tr>\n",
              "    <tr>\n",
              "      <th>5</th>\n",
              "      <td>5</td>\n",
              "      <td>2</td>\n",
              "      <td>two</td>\n",
              "      <td>2</td>\n",
              "    </tr>\n",
              "    <tr>\n",
              "      <th>6</th>\n",
              "      <td>6</td>\n",
              "      <td>1</td>\n",
              "      <td>two</td>\n",
              "      <td>3</td>\n",
              "    </tr>\n",
              "  </tbody>\n",
              "</table>\n",
              "</div>"
            ],
            "text/plain": [
              "   a  b    c  d\n",
              "0  0  7  one  0\n",
              "1  1  6  one  1\n",
              "2  2  5  one  2\n",
              "3  3  4  two  0\n",
              "4  4  3  two  1\n",
              "5  5  2  two  2\n",
              "6  6  1  two  3"
            ]
          },
          "metadata": {
            "tags": []
          },
          "execution_count": 12
        }
      ]
    },
    {
      "cell_type": "code",
      "metadata": {
        "deletable": true,
        "editable": true,
        "id": "AC1VAKk5LbWl",
        "colab": {
          "base_uri": "https://localhost:8080/",
          "height": 284
        },
        "outputId": "367cf7d2-5169-49d6-b396-c61a5867967a"
      },
      "source": [
        "#DataFrame’s set_index function will create a new DataFrame using one or more of\n",
        "#its columns as the index:\n",
        "frame2 = frame.set_index(['c', 'd'])\n",
        "frame2"
      ],
      "execution_count": null,
      "outputs": [
        {
          "output_type": "execute_result",
          "data": {
            "text/html": [
              "<div>\n",
              "<style scoped>\n",
              "    .dataframe tbody tr th:only-of-type {\n",
              "        vertical-align: middle;\n",
              "    }\n",
              "\n",
              "    .dataframe tbody tr th {\n",
              "        vertical-align: top;\n",
              "    }\n",
              "\n",
              "    .dataframe thead th {\n",
              "        text-align: right;\n",
              "    }\n",
              "</style>\n",
              "<table border=\"1\" class=\"dataframe\">\n",
              "  <thead>\n",
              "    <tr style=\"text-align: right;\">\n",
              "      <th></th>\n",
              "      <th></th>\n",
              "      <th>a</th>\n",
              "      <th>b</th>\n",
              "    </tr>\n",
              "    <tr>\n",
              "      <th>c</th>\n",
              "      <th>d</th>\n",
              "      <th></th>\n",
              "      <th></th>\n",
              "    </tr>\n",
              "  </thead>\n",
              "  <tbody>\n",
              "    <tr>\n",
              "      <th rowspan=\"3\" valign=\"top\">one</th>\n",
              "      <th>0</th>\n",
              "      <td>0</td>\n",
              "      <td>7</td>\n",
              "    </tr>\n",
              "    <tr>\n",
              "      <th>1</th>\n",
              "      <td>1</td>\n",
              "      <td>6</td>\n",
              "    </tr>\n",
              "    <tr>\n",
              "      <th>2</th>\n",
              "      <td>2</td>\n",
              "      <td>5</td>\n",
              "    </tr>\n",
              "    <tr>\n",
              "      <th rowspan=\"4\" valign=\"top\">two</th>\n",
              "      <th>0</th>\n",
              "      <td>3</td>\n",
              "      <td>4</td>\n",
              "    </tr>\n",
              "    <tr>\n",
              "      <th>1</th>\n",
              "      <td>4</td>\n",
              "      <td>3</td>\n",
              "    </tr>\n",
              "    <tr>\n",
              "      <th>2</th>\n",
              "      <td>5</td>\n",
              "      <td>2</td>\n",
              "    </tr>\n",
              "    <tr>\n",
              "      <th>3</th>\n",
              "      <td>6</td>\n",
              "      <td>1</td>\n",
              "    </tr>\n",
              "  </tbody>\n",
              "</table>\n",
              "</div>"
            ],
            "text/plain": [
              "       a  b\n",
              "c   d      \n",
              "one 0  0  7\n",
              "    1  1  6\n",
              "    2  2  5\n",
              "two 0  3  4\n",
              "    1  4  3\n",
              "    2  5  2\n",
              "    3  6  1"
            ]
          },
          "metadata": {
            "tags": []
          },
          "execution_count": 14
        }
      ]
    },
    {
      "cell_type": "code",
      "metadata": {
        "deletable": true,
        "editable": true,
        "id": "SPe-TQp9LbWq",
        "colab": {
          "base_uri": "https://localhost:8080/",
          "height": 297
        },
        "outputId": "243a80f2-833a-4dc4-cad4-8dbc926ec4e0"
      },
      "source": [
        "#By default the columns are removed from the DataFrame, though you can leave \n",
        "#them in:\n",
        "frame.set_index(['c', 'd'], drop=False)"
      ],
      "execution_count": null,
      "outputs": [
        {
          "output_type": "execute_result",
          "data": {
            "text/html": [
              "<div>\n",
              "<style scoped>\n",
              "    .dataframe tbody tr th:only-of-type {\n",
              "        vertical-align: middle;\n",
              "    }\n",
              "\n",
              "    .dataframe tbody tr th {\n",
              "        vertical-align: top;\n",
              "    }\n",
              "\n",
              "    .dataframe thead th {\n",
              "        text-align: right;\n",
              "    }\n",
              "</style>\n",
              "<table border=\"1\" class=\"dataframe\">\n",
              "  <thead>\n",
              "    <tr style=\"text-align: right;\">\n",
              "      <th></th>\n",
              "      <th></th>\n",
              "      <th>a</th>\n",
              "      <th>b</th>\n",
              "      <th>c</th>\n",
              "      <th>d</th>\n",
              "    </tr>\n",
              "    <tr>\n",
              "      <th>c</th>\n",
              "      <th>d</th>\n",
              "      <th></th>\n",
              "      <th></th>\n",
              "      <th></th>\n",
              "      <th></th>\n",
              "    </tr>\n",
              "  </thead>\n",
              "  <tbody>\n",
              "    <tr>\n",
              "      <th rowspan=\"3\" valign=\"top\">one</th>\n",
              "      <th>0</th>\n",
              "      <td>0</td>\n",
              "      <td>7</td>\n",
              "      <td>one</td>\n",
              "      <td>0</td>\n",
              "    </tr>\n",
              "    <tr>\n",
              "      <th>1</th>\n",
              "      <td>1</td>\n",
              "      <td>6</td>\n",
              "      <td>one</td>\n",
              "      <td>1</td>\n",
              "    </tr>\n",
              "    <tr>\n",
              "      <th>2</th>\n",
              "      <td>2</td>\n",
              "      <td>5</td>\n",
              "      <td>one</td>\n",
              "      <td>2</td>\n",
              "    </tr>\n",
              "    <tr>\n",
              "      <th rowspan=\"4\" valign=\"top\">two</th>\n",
              "      <th>0</th>\n",
              "      <td>3</td>\n",
              "      <td>4</td>\n",
              "      <td>two</td>\n",
              "      <td>0</td>\n",
              "    </tr>\n",
              "    <tr>\n",
              "      <th>1</th>\n",
              "      <td>4</td>\n",
              "      <td>3</td>\n",
              "      <td>two</td>\n",
              "      <td>1</td>\n",
              "    </tr>\n",
              "    <tr>\n",
              "      <th>2</th>\n",
              "      <td>5</td>\n",
              "      <td>2</td>\n",
              "      <td>two</td>\n",
              "      <td>2</td>\n",
              "    </tr>\n",
              "    <tr>\n",
              "      <th>3</th>\n",
              "      <td>6</td>\n",
              "      <td>1</td>\n",
              "      <td>two</td>\n",
              "      <td>3</td>\n",
              "    </tr>\n",
              "  </tbody>\n",
              "</table>\n",
              "</div>"
            ],
            "text/plain": [
              "       a  b    c  d\n",
              "c   d              \n",
              "one 0  0  7  one  0\n",
              "    1  1  6  one  1\n",
              "    2  2  5  one  2\n",
              "two 0  3  4  two  0\n",
              "    1  4  3  two  1\n",
              "    2  5  2  two  2\n",
              "    3  6  1  two  3"
            ]
          },
          "metadata": {
            "tags": []
          },
          "execution_count": 20
        }
      ]
    },
    {
      "cell_type": "code",
      "metadata": {
        "deletable": true,
        "editable": true,
        "id": "MCAU8dHjLbWv",
        "colab": {
          "base_uri": "https://localhost:8080/",
          "height": 266
        },
        "outputId": "764d8bd1-14c0-4107-ec10-916853d9c03a"
      },
      "source": [
        "#reset_index, on the other hand, does the opposite of set_index; the hierarchical\n",
        "#index levels are moved into the columns:\n",
        "frame2.reset_index()"
      ],
      "execution_count": null,
      "outputs": [
        {
          "output_type": "execute_result",
          "data": {
            "text/html": [
              "<div>\n",
              "<style scoped>\n",
              "    .dataframe tbody tr th:only-of-type {\n",
              "        vertical-align: middle;\n",
              "    }\n",
              "\n",
              "    .dataframe tbody tr th {\n",
              "        vertical-align: top;\n",
              "    }\n",
              "\n",
              "    .dataframe thead th {\n",
              "        text-align: right;\n",
              "    }\n",
              "</style>\n",
              "<table border=\"1\" class=\"dataframe\">\n",
              "  <thead>\n",
              "    <tr style=\"text-align: right;\">\n",
              "      <th></th>\n",
              "      <th>c</th>\n",
              "      <th>d</th>\n",
              "      <th>a</th>\n",
              "      <th>b</th>\n",
              "    </tr>\n",
              "  </thead>\n",
              "  <tbody>\n",
              "    <tr>\n",
              "      <th>0</th>\n",
              "      <td>one</td>\n",
              "      <td>0</td>\n",
              "      <td>0</td>\n",
              "      <td>7</td>\n",
              "    </tr>\n",
              "    <tr>\n",
              "      <th>1</th>\n",
              "      <td>one</td>\n",
              "      <td>1</td>\n",
              "      <td>1</td>\n",
              "      <td>6</td>\n",
              "    </tr>\n",
              "    <tr>\n",
              "      <th>2</th>\n",
              "      <td>one</td>\n",
              "      <td>2</td>\n",
              "      <td>2</td>\n",
              "      <td>5</td>\n",
              "    </tr>\n",
              "    <tr>\n",
              "      <th>3</th>\n",
              "      <td>two</td>\n",
              "      <td>0</td>\n",
              "      <td>3</td>\n",
              "      <td>4</td>\n",
              "    </tr>\n",
              "    <tr>\n",
              "      <th>4</th>\n",
              "      <td>two</td>\n",
              "      <td>1</td>\n",
              "      <td>4</td>\n",
              "      <td>3</td>\n",
              "    </tr>\n",
              "    <tr>\n",
              "      <th>5</th>\n",
              "      <td>two</td>\n",
              "      <td>2</td>\n",
              "      <td>5</td>\n",
              "      <td>2</td>\n",
              "    </tr>\n",
              "    <tr>\n",
              "      <th>6</th>\n",
              "      <td>two</td>\n",
              "      <td>3</td>\n",
              "      <td>6</td>\n",
              "      <td>1</td>\n",
              "    </tr>\n",
              "  </tbody>\n",
              "</table>\n",
              "</div>"
            ],
            "text/plain": [
              "     c  d  a  b\n",
              "0  one  0  0  7\n",
              "1  one  1  1  6\n",
              "2  one  2  2  5\n",
              "3  two  0  3  4\n",
              "4  two  1  4  3\n",
              "5  two  2  5  2\n",
              "6  two  3  6  1"
            ]
          },
          "metadata": {
            "tags": []
          },
          "execution_count": 21
        }
      ]
    },
    {
      "cell_type": "markdown",
      "metadata": {
        "deletable": true,
        "editable": true,
        "id": "NrGEo35iLbWz"
      },
      "source": [
        "## Combining and Merging Datasets"
      ]
    },
    {
      "cell_type": "code",
      "metadata": {
        "id": "ABTLRpIOVs4G"
      },
      "source": [
        "#Data contained in pandas objects can be combined together in a number of ways:\n",
        "#i. pandas.merge connects rows in DataFrames based on one or more keys. This\n",
        "#will be familiar to users of SQL or other relational databases, as it implements\n",
        "#database join operations.\n",
        "#ii. pandas.concat concatenates or “stacks” together objects along an axis.\n",
        "#iii. The combine_first instance method enables splicing together overlapping data\n",
        "#to fill in missing values in one object with values from another."
      ],
      "execution_count": null,
      "outputs": []
    },
    {
      "cell_type": "markdown",
      "metadata": {
        "deletable": true,
        "editable": true,
        "id": "R3Rkd5BOLbW0"
      },
      "source": [
        "### Database-Style DataFrame Joins"
      ]
    },
    {
      "cell_type": "code",
      "metadata": {
        "id": "k3AsHhwTQRWh"
      },
      "source": [
        "#Merge or join operations combine datasets by linking rows using one or more \n",
        "#keys. These operations are central to relational databases (e.g., SQL-based). \n",
        "#The merge function in pandas is the main entry point for using these algorithms \n",
        "#on your data."
      ],
      "execution_count": null,
      "outputs": []
    },
    {
      "cell_type": "code",
      "metadata": {
        "deletable": true,
        "editable": true,
        "id": "w00DITjWLbW1",
        "colab": {
          "base_uri": "https://localhost:8080/",
          "height": 278
        },
        "outputId": "be0eee75-2ee3-4068-8f6b-960aea1e9db8"
      },
      "source": [
        "df1 = pd.DataFrame({'key': ['b', 'b', 'a', 'c', 'a', 'a', 'b'],\n",
        "                    'data1': range(7)})\n",
        "df2 = pd.DataFrame({'key': ['a', 'b', 'd'],\n",
        "                    'data2': range(3)})\n",
        "print(df1)\n",
        "df2"
      ],
      "execution_count": null,
      "outputs": [
        {
          "output_type": "stream",
          "text": [
            "  key  data1\n",
            "0   b      0\n",
            "1   b      1\n",
            "2   a      2\n",
            "3   c      3\n",
            "4   a      4\n",
            "5   a      5\n",
            "6   b      6\n"
          ],
          "name": "stdout"
        },
        {
          "output_type": "execute_result",
          "data": {
            "text/html": [
              "<div>\n",
              "<style scoped>\n",
              "    .dataframe tbody tr th:only-of-type {\n",
              "        vertical-align: middle;\n",
              "    }\n",
              "\n",
              "    .dataframe tbody tr th {\n",
              "        vertical-align: top;\n",
              "    }\n",
              "\n",
              "    .dataframe thead th {\n",
              "        text-align: right;\n",
              "    }\n",
              "</style>\n",
              "<table border=\"1\" class=\"dataframe\">\n",
              "  <thead>\n",
              "    <tr style=\"text-align: right;\">\n",
              "      <th></th>\n",
              "      <th>key</th>\n",
              "      <th>data2</th>\n",
              "    </tr>\n",
              "  </thead>\n",
              "  <tbody>\n",
              "    <tr>\n",
              "      <th>0</th>\n",
              "      <td>a</td>\n",
              "      <td>0</td>\n",
              "    </tr>\n",
              "    <tr>\n",
              "      <th>1</th>\n",
              "      <td>b</td>\n",
              "      <td>1</td>\n",
              "    </tr>\n",
              "    <tr>\n",
              "      <th>2</th>\n",
              "      <td>d</td>\n",
              "      <td>2</td>\n",
              "    </tr>\n",
              "  </tbody>\n",
              "</table>\n",
              "</div>"
            ],
            "text/plain": [
              "  key  data2\n",
              "0   a      0\n",
              "1   b      1\n",
              "2   d      2"
            ]
          },
          "metadata": {
            "tags": []
          },
          "execution_count": 17
        }
      ]
    },
    {
      "cell_type": "code",
      "metadata": {
        "deletable": true,
        "editable": true,
        "id": "slUqg_2_LbW5",
        "colab": {
          "base_uri": "https://localhost:8080/",
          "height": 235
        },
        "outputId": "502d7dc1-5d77-4211-bf09-edea8543586d"
      },
      "source": [
        "#This is an example of a many-to-one join; the data in df1 has multiple rows \n",
        "#labeled a and b, whereas df2 has only one row for each value in the key column. \n",
        "#Calling merge with these objects we obtain:\n",
        "pd.merge(df1, df2)"
      ],
      "execution_count": null,
      "outputs": [
        {
          "output_type": "execute_result",
          "data": {
            "text/html": [
              "<div>\n",
              "<style scoped>\n",
              "    .dataframe tbody tr th:only-of-type {\n",
              "        vertical-align: middle;\n",
              "    }\n",
              "\n",
              "    .dataframe tbody tr th {\n",
              "        vertical-align: top;\n",
              "    }\n",
              "\n",
              "    .dataframe thead th {\n",
              "        text-align: right;\n",
              "    }\n",
              "</style>\n",
              "<table border=\"1\" class=\"dataframe\">\n",
              "  <thead>\n",
              "    <tr style=\"text-align: right;\">\n",
              "      <th></th>\n",
              "      <th>key</th>\n",
              "      <th>data1</th>\n",
              "      <th>data2</th>\n",
              "    </tr>\n",
              "  </thead>\n",
              "  <tbody>\n",
              "    <tr>\n",
              "      <th>0</th>\n",
              "      <td>b</td>\n",
              "      <td>0</td>\n",
              "      <td>1</td>\n",
              "    </tr>\n",
              "    <tr>\n",
              "      <th>1</th>\n",
              "      <td>b</td>\n",
              "      <td>1</td>\n",
              "      <td>1</td>\n",
              "    </tr>\n",
              "    <tr>\n",
              "      <th>2</th>\n",
              "      <td>b</td>\n",
              "      <td>6</td>\n",
              "      <td>1</td>\n",
              "    </tr>\n",
              "    <tr>\n",
              "      <th>3</th>\n",
              "      <td>a</td>\n",
              "      <td>2</td>\n",
              "      <td>0</td>\n",
              "    </tr>\n",
              "    <tr>\n",
              "      <th>4</th>\n",
              "      <td>a</td>\n",
              "      <td>4</td>\n",
              "      <td>0</td>\n",
              "    </tr>\n",
              "    <tr>\n",
              "      <th>5</th>\n",
              "      <td>a</td>\n",
              "      <td>5</td>\n",
              "      <td>0</td>\n",
              "    </tr>\n",
              "  </tbody>\n",
              "</table>\n",
              "</div>"
            ],
            "text/plain": [
              "  key  data1  data2\n",
              "0   b      0      1\n",
              "1   b      1      1\n",
              "2   b      6      1\n",
              "3   a      2      0\n",
              "4   a      4      0\n",
              "5   a      5      0"
            ]
          },
          "metadata": {
            "tags": []
          },
          "execution_count": 18
        }
      ]
    },
    {
      "cell_type": "code",
      "metadata": {
        "deletable": true,
        "editable": true,
        "id": "GCZmmFynLbW-",
        "colab": {
          "base_uri": "https://localhost:8080/",
          "height": 235
        },
        "outputId": "d152b495-1f4a-4746-8f39-730c3c0fdabe"
      },
      "source": [
        "#in the previous cell which column to join on isnt specified. If that information\n",
        "# is not specified, merge uses the overlapping column names as the keys. It’s a  \n",
        "#good practice to specify explicitly, though:\n",
        "pd.merge(df1, df2, on='key') "
      ],
      "execution_count": null,
      "outputs": [
        {
          "output_type": "execute_result",
          "data": {
            "text/html": [
              "<div>\n",
              "<style scoped>\n",
              "    .dataframe tbody tr th:only-of-type {\n",
              "        vertical-align: middle;\n",
              "    }\n",
              "\n",
              "    .dataframe tbody tr th {\n",
              "        vertical-align: top;\n",
              "    }\n",
              "\n",
              "    .dataframe thead th {\n",
              "        text-align: right;\n",
              "    }\n",
              "</style>\n",
              "<table border=\"1\" class=\"dataframe\">\n",
              "  <thead>\n",
              "    <tr style=\"text-align: right;\">\n",
              "      <th></th>\n",
              "      <th>key</th>\n",
              "      <th>data1</th>\n",
              "      <th>data2</th>\n",
              "    </tr>\n",
              "  </thead>\n",
              "  <tbody>\n",
              "    <tr>\n",
              "      <th>0</th>\n",
              "      <td>b</td>\n",
              "      <td>0</td>\n",
              "      <td>1</td>\n",
              "    </tr>\n",
              "    <tr>\n",
              "      <th>1</th>\n",
              "      <td>b</td>\n",
              "      <td>1</td>\n",
              "      <td>1</td>\n",
              "    </tr>\n",
              "    <tr>\n",
              "      <th>2</th>\n",
              "      <td>b</td>\n",
              "      <td>6</td>\n",
              "      <td>1</td>\n",
              "    </tr>\n",
              "    <tr>\n",
              "      <th>3</th>\n",
              "      <td>a</td>\n",
              "      <td>2</td>\n",
              "      <td>0</td>\n",
              "    </tr>\n",
              "    <tr>\n",
              "      <th>4</th>\n",
              "      <td>a</td>\n",
              "      <td>4</td>\n",
              "      <td>0</td>\n",
              "    </tr>\n",
              "    <tr>\n",
              "      <th>5</th>\n",
              "      <td>a</td>\n",
              "      <td>5</td>\n",
              "      <td>0</td>\n",
              "    </tr>\n",
              "  </tbody>\n",
              "</table>\n",
              "</div>"
            ],
            "text/plain": [
              "  key  data1  data2\n",
              "0   b      0      1\n",
              "1   b      1      1\n",
              "2   b      6      1\n",
              "3   a      2      0\n",
              "4   a      4      0\n",
              "5   a      5      0"
            ]
          },
          "metadata": {
            "tags": []
          },
          "execution_count": 19
        }
      ]
    },
    {
      "cell_type": "code",
      "metadata": {
        "deletable": true,
        "editable": true,
        "id": "ImNJ-JgELbXC",
        "colab": {
          "base_uri": "https://localhost:8080/",
          "height": 439
        },
        "outputId": "cb164e42-c455-434e-a879-eb976d4f6e0a"
      },
      "source": [
        "#If  column names are different in each object, you can specify them separately:\n",
        "df3 = pd.DataFrame({'lkey': ['b', 'b', 'a', 'c', 'a', 'a', 'b'],\n",
        "                    'data1': range(7)})\n",
        "df4 = pd.DataFrame({'rkey': ['a', 'b', 'd'],\n",
        "                    'data2': range(3)})\n",
        "print(df3)\n",
        "print(df4)\n",
        "pd.merge(df3, df4, left_on='lkey', right_on='rkey')\n",
        "\n",
        "#You may notice that the 'c' and 'd' values and associated data are missing \n",
        "#from the result. By default merge does an 'inner' join; the keys in the result \n",
        "#are the intersection, or the common set found in both tables. Other possible \n",
        "#options are 'left', 'right', and 'outer'. "
      ],
      "execution_count": null,
      "outputs": [
        {
          "output_type": "stream",
          "text": [
            "  lkey  data1\n",
            "0    b      0\n",
            "1    b      1\n",
            "2    a      2\n",
            "3    c      3\n",
            "4    a      4\n",
            "5    a      5\n",
            "6    b      6\n",
            "  rkey  data2\n",
            "0    a      0\n",
            "1    b      1\n",
            "2    d      2\n"
          ],
          "name": "stdout"
        },
        {
          "output_type": "execute_result",
          "data": {
            "text/html": [
              "<div>\n",
              "<style scoped>\n",
              "    .dataframe tbody tr th:only-of-type {\n",
              "        vertical-align: middle;\n",
              "    }\n",
              "\n",
              "    .dataframe tbody tr th {\n",
              "        vertical-align: top;\n",
              "    }\n",
              "\n",
              "    .dataframe thead th {\n",
              "        text-align: right;\n",
              "    }\n",
              "</style>\n",
              "<table border=\"1\" class=\"dataframe\">\n",
              "  <thead>\n",
              "    <tr style=\"text-align: right;\">\n",
              "      <th></th>\n",
              "      <th>lkey</th>\n",
              "      <th>data1</th>\n",
              "      <th>rkey</th>\n",
              "      <th>data2</th>\n",
              "    </tr>\n",
              "  </thead>\n",
              "  <tbody>\n",
              "    <tr>\n",
              "      <th>0</th>\n",
              "      <td>b</td>\n",
              "      <td>0</td>\n",
              "      <td>b</td>\n",
              "      <td>1</td>\n",
              "    </tr>\n",
              "    <tr>\n",
              "      <th>1</th>\n",
              "      <td>b</td>\n",
              "      <td>1</td>\n",
              "      <td>b</td>\n",
              "      <td>1</td>\n",
              "    </tr>\n",
              "    <tr>\n",
              "      <th>2</th>\n",
              "      <td>b</td>\n",
              "      <td>6</td>\n",
              "      <td>b</td>\n",
              "      <td>1</td>\n",
              "    </tr>\n",
              "    <tr>\n",
              "      <th>3</th>\n",
              "      <td>a</td>\n",
              "      <td>2</td>\n",
              "      <td>a</td>\n",
              "      <td>0</td>\n",
              "    </tr>\n",
              "    <tr>\n",
              "      <th>4</th>\n",
              "      <td>a</td>\n",
              "      <td>4</td>\n",
              "      <td>a</td>\n",
              "      <td>0</td>\n",
              "    </tr>\n",
              "    <tr>\n",
              "      <th>5</th>\n",
              "      <td>a</td>\n",
              "      <td>5</td>\n",
              "      <td>a</td>\n",
              "      <td>0</td>\n",
              "    </tr>\n",
              "  </tbody>\n",
              "</table>\n",
              "</div>"
            ],
            "text/plain": [
              "  lkey  data1 rkey  data2\n",
              "0    b      0    b      1\n",
              "1    b      1    b      1\n",
              "2    b      6    b      1\n",
              "3    a      2    a      0\n",
              "4    a      4    a      0\n",
              "5    a      5    a      0"
            ]
          },
          "metadata": {
            "tags": []
          },
          "execution_count": 27
        }
      ]
    },
    {
      "cell_type": "code",
      "metadata": {
        "deletable": true,
        "editable": true,
        "id": "c2l0XzgxLbXG",
        "colab": {
          "base_uri": "https://localhost:8080/",
          "height": 501
        },
        "outputId": "caf5397d-f642-4d6d-ac48-128d92414baf"
      },
      "source": [
        "#The outer join takes the union of the keys, combining the\n",
        "#effect of applying both left and right joins:\n",
        "print(df1)\n",
        "print(df2)\n",
        "pd.merge(df1, df2, how='outer')"
      ],
      "execution_count": null,
      "outputs": [
        {
          "output_type": "stream",
          "text": [
            "  key  data1\n",
            "0   b      0\n",
            "1   b      1\n",
            "2   a      2\n",
            "3   c      3\n",
            "4   a      4\n",
            "5   a      5\n",
            "6   b      6\n",
            "  key  data2\n",
            "0   a      0\n",
            "1   b      1\n",
            "2   d      2\n"
          ],
          "name": "stdout"
        },
        {
          "output_type": "execute_result",
          "data": {
            "text/html": [
              "<div>\n",
              "<style scoped>\n",
              "    .dataframe tbody tr th:only-of-type {\n",
              "        vertical-align: middle;\n",
              "    }\n",
              "\n",
              "    .dataframe tbody tr th {\n",
              "        vertical-align: top;\n",
              "    }\n",
              "\n",
              "    .dataframe thead th {\n",
              "        text-align: right;\n",
              "    }\n",
              "</style>\n",
              "<table border=\"1\" class=\"dataframe\">\n",
              "  <thead>\n",
              "    <tr style=\"text-align: right;\">\n",
              "      <th></th>\n",
              "      <th>key</th>\n",
              "      <th>data1</th>\n",
              "      <th>data2</th>\n",
              "    </tr>\n",
              "  </thead>\n",
              "  <tbody>\n",
              "    <tr>\n",
              "      <th>0</th>\n",
              "      <td>b</td>\n",
              "      <td>0.0</td>\n",
              "      <td>1.0</td>\n",
              "    </tr>\n",
              "    <tr>\n",
              "      <th>1</th>\n",
              "      <td>b</td>\n",
              "      <td>1.0</td>\n",
              "      <td>1.0</td>\n",
              "    </tr>\n",
              "    <tr>\n",
              "      <th>2</th>\n",
              "      <td>b</td>\n",
              "      <td>6.0</td>\n",
              "      <td>1.0</td>\n",
              "    </tr>\n",
              "    <tr>\n",
              "      <th>3</th>\n",
              "      <td>a</td>\n",
              "      <td>2.0</td>\n",
              "      <td>0.0</td>\n",
              "    </tr>\n",
              "    <tr>\n",
              "      <th>4</th>\n",
              "      <td>a</td>\n",
              "      <td>4.0</td>\n",
              "      <td>0.0</td>\n",
              "    </tr>\n",
              "    <tr>\n",
              "      <th>5</th>\n",
              "      <td>a</td>\n",
              "      <td>5.0</td>\n",
              "      <td>0.0</td>\n",
              "    </tr>\n",
              "    <tr>\n",
              "      <th>6</th>\n",
              "      <td>c</td>\n",
              "      <td>3.0</td>\n",
              "      <td>NaN</td>\n",
              "    </tr>\n",
              "    <tr>\n",
              "      <th>7</th>\n",
              "      <td>d</td>\n",
              "      <td>NaN</td>\n",
              "      <td>2.0</td>\n",
              "    </tr>\n",
              "  </tbody>\n",
              "</table>\n",
              "</div>"
            ],
            "text/plain": [
              "  key  data1  data2\n",
              "0   b    0.0    1.0\n",
              "1   b    1.0    1.0\n",
              "2   b    6.0    1.0\n",
              "3   a    2.0    0.0\n",
              "4   a    4.0    0.0\n",
              "5   a    5.0    0.0\n",
              "6   c    3.0    NaN\n",
              "7   d    NaN    2.0"
            ]
          },
          "metadata": {
            "tags": []
          },
          "execution_count": 28
        }
      ]
    },
    {
      "cell_type": "markdown",
      "metadata": {
        "id": "-KEUwUJB_txQ"
      },
      "source": [
        "![image.png](data:image/png;base64,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)"
      ]
    },
    {
      "cell_type": "code",
      "metadata": {
        "deletable": true,
        "editable": true,
        "id": "SBowt7QJLbXK",
        "colab": {
          "base_uri": "https://localhost:8080/",
          "height": 611
        },
        "outputId": "f3a420e7-bbef-4427-a454-36d5f44bfe12"
      },
      "source": [
        "#Many-to-many merges have well-defined:\n",
        "df1 = pd.DataFrame({'key': ['b', 'b', 'a', 'c', 'a', 'b'],\n",
        "                    'data1': range(6)})\n",
        "df2 = pd.DataFrame({'key': ['a', 'b', 'a', 'b', 'd'],\n",
        "                    'data2': range(5)})\n",
        "print(df1)\n",
        "print(df2)\n",
        "pd.merge(df1, df2, on='key', how='left')"
      ],
      "execution_count": null,
      "outputs": [
        {
          "output_type": "stream",
          "text": [
            "  key  data1\n",
            "0   b      0\n",
            "1   b      1\n",
            "2   a      2\n",
            "3   c      3\n",
            "4   a      4\n",
            "5   b      5\n",
            "  key  data2\n",
            "0   a      0\n",
            "1   b      1\n",
            "2   a      2\n",
            "3   b      3\n",
            "4   d      4\n"
          ],
          "name": "stdout"
        },
        {
          "output_type": "execute_result",
          "data": {
            "text/html": [
              "<div>\n",
              "<style scoped>\n",
              "    .dataframe tbody tr th:only-of-type {\n",
              "        vertical-align: middle;\n",
              "    }\n",
              "\n",
              "    .dataframe tbody tr th {\n",
              "        vertical-align: top;\n",
              "    }\n",
              "\n",
              "    .dataframe thead th {\n",
              "        text-align: right;\n",
              "    }\n",
              "</style>\n",
              "<table border=\"1\" class=\"dataframe\">\n",
              "  <thead>\n",
              "    <tr style=\"text-align: right;\">\n",
              "      <th></th>\n",
              "      <th>key</th>\n",
              "      <th>data1</th>\n",
              "      <th>data2</th>\n",
              "    </tr>\n",
              "  </thead>\n",
              "  <tbody>\n",
              "    <tr>\n",
              "      <th>0</th>\n",
              "      <td>b</td>\n",
              "      <td>0</td>\n",
              "      <td>1.0</td>\n",
              "    </tr>\n",
              "    <tr>\n",
              "      <th>1</th>\n",
              "      <td>b</td>\n",
              "      <td>0</td>\n",
              "      <td>3.0</td>\n",
              "    </tr>\n",
              "    <tr>\n",
              "      <th>2</th>\n",
              "      <td>b</td>\n",
              "      <td>1</td>\n",
              "      <td>1.0</td>\n",
              "    </tr>\n",
              "    <tr>\n",
              "      <th>3</th>\n",
              "      <td>b</td>\n",
              "      <td>1</td>\n",
              "      <td>3.0</td>\n",
              "    </tr>\n",
              "    <tr>\n",
              "      <th>4</th>\n",
              "      <td>a</td>\n",
              "      <td>2</td>\n",
              "      <td>0.0</td>\n",
              "    </tr>\n",
              "    <tr>\n",
              "      <th>5</th>\n",
              "      <td>a</td>\n",
              "      <td>2</td>\n",
              "      <td>2.0</td>\n",
              "    </tr>\n",
              "    <tr>\n",
              "      <th>6</th>\n",
              "      <td>c</td>\n",
              "      <td>3</td>\n",
              "      <td>NaN</td>\n",
              "    </tr>\n",
              "    <tr>\n",
              "      <th>7</th>\n",
              "      <td>a</td>\n",
              "      <td>4</td>\n",
              "      <td>0.0</td>\n",
              "    </tr>\n",
              "    <tr>\n",
              "      <th>8</th>\n",
              "      <td>a</td>\n",
              "      <td>4</td>\n",
              "      <td>2.0</td>\n",
              "    </tr>\n",
              "    <tr>\n",
              "      <th>9</th>\n",
              "      <td>b</td>\n",
              "      <td>5</td>\n",
              "      <td>1.0</td>\n",
              "    </tr>\n",
              "    <tr>\n",
              "      <th>10</th>\n",
              "      <td>b</td>\n",
              "      <td>5</td>\n",
              "      <td>3.0</td>\n",
              "    </tr>\n",
              "  </tbody>\n",
              "</table>\n",
              "</div>"
            ],
            "text/plain": [
              "   key  data1  data2\n",
              "0    b      0    1.0\n",
              "1    b      0    3.0\n",
              "2    b      1    1.0\n",
              "3    b      1    3.0\n",
              "4    a      2    0.0\n",
              "5    a      2    2.0\n",
              "6    c      3    NaN\n",
              "7    a      4    0.0\n",
              "8    a      4    2.0\n",
              "9    b      5    1.0\n",
              "10   b      5    3.0"
            ]
          },
          "metadata": {
            "tags": []
          },
          "execution_count": 29
        }
      ]
    },
    {
      "cell_type": "code",
      "metadata": {
        "deletable": true,
        "editable": true,
        "id": "yVuCtoikLbXO",
        "colab": {
          "base_uri": "https://localhost:8080/",
          "height": 359
        },
        "outputId": "b997b1b4-9a22-4257-a435-6cb203292478"
      },
      "source": [
        "#Many-to-many joins form the Cartesian product of the rows. Since there were \n",
        "#three 'b' rows in the left DataFrame and two in the right one, there are six \n",
        "#'b' rows in the result. The join method only affects the distinct key values \n",
        "#appearing in the result: \n",
        "pd.merge(df1, df2, how='inner')"
      ],
      "execution_count": null,
      "outputs": [
        {
          "output_type": "execute_result",
          "data": {
            "text/html": [
              "<div>\n",
              "<style scoped>\n",
              "    .dataframe tbody tr th:only-of-type {\n",
              "        vertical-align: middle;\n",
              "    }\n",
              "\n",
              "    .dataframe tbody tr th {\n",
              "        vertical-align: top;\n",
              "    }\n",
              "\n",
              "    .dataframe thead th {\n",
              "        text-align: right;\n",
              "    }\n",
              "</style>\n",
              "<table border=\"1\" class=\"dataframe\">\n",
              "  <thead>\n",
              "    <tr style=\"text-align: right;\">\n",
              "      <th></th>\n",
              "      <th>key</th>\n",
              "      <th>data1</th>\n",
              "      <th>data2</th>\n",
              "    </tr>\n",
              "  </thead>\n",
              "  <tbody>\n",
              "    <tr>\n",
              "      <th>0</th>\n",
              "      <td>b</td>\n",
              "      <td>0</td>\n",
              "      <td>1</td>\n",
              "    </tr>\n",
              "    <tr>\n",
              "      <th>1</th>\n",
              "      <td>b</td>\n",
              "      <td>0</td>\n",
              "      <td>3</td>\n",
              "    </tr>\n",
              "    <tr>\n",
              "      <th>2</th>\n",
              "      <td>b</td>\n",
              "      <td>1</td>\n",
              "      <td>1</td>\n",
              "    </tr>\n",
              "    <tr>\n",
              "      <th>3</th>\n",
              "      <td>b</td>\n",
              "      <td>1</td>\n",
              "      <td>3</td>\n",
              "    </tr>\n",
              "    <tr>\n",
              "      <th>4</th>\n",
              "      <td>b</td>\n",
              "      <td>5</td>\n",
              "      <td>1</td>\n",
              "    </tr>\n",
              "    <tr>\n",
              "      <th>5</th>\n",
              "      <td>b</td>\n",
              "      <td>5</td>\n",
              "      <td>3</td>\n",
              "    </tr>\n",
              "    <tr>\n",
              "      <th>6</th>\n",
              "      <td>a</td>\n",
              "      <td>2</td>\n",
              "      <td>0</td>\n",
              "    </tr>\n",
              "    <tr>\n",
              "      <th>7</th>\n",
              "      <td>a</td>\n",
              "      <td>2</td>\n",
              "      <td>2</td>\n",
              "    </tr>\n",
              "    <tr>\n",
              "      <th>8</th>\n",
              "      <td>a</td>\n",
              "      <td>4</td>\n",
              "      <td>0</td>\n",
              "    </tr>\n",
              "    <tr>\n",
              "      <th>9</th>\n",
              "      <td>a</td>\n",
              "      <td>4</td>\n",
              "      <td>2</td>\n",
              "    </tr>\n",
              "  </tbody>\n",
              "</table>\n",
              "</div>"
            ],
            "text/plain": [
              "  key  data1  data2\n",
              "0   b      0      1\n",
              "1   b      0      3\n",
              "2   b      1      1\n",
              "3   b      1      3\n",
              "4   b      5      1\n",
              "5   b      5      3\n",
              "6   a      2      0\n",
              "7   a      2      2\n",
              "8   a      4      0\n",
              "9   a      4      2"
            ]
          },
          "metadata": {
            "tags": []
          },
          "execution_count": 30
        }
      ]
    },
    {
      "cell_type": "code",
      "metadata": {
        "deletable": true,
        "editable": true,
        "id": "rPoJg4HyLbXU",
        "colab": {
          "base_uri": "https://localhost:8080/",
          "height": 362
        },
        "outputId": "a46cb478-85a0-4e9d-9a28-c357eda07807"
      },
      "source": [
        "#To merge with multiple keys, pass a list of column names:\n",
        "left = pd.DataFrame({'key1': ['foo', 'foo', 'bar'],\n",
        "                     'key2': ['one', 'two', 'one'],\n",
        "                     'lval': [1, 2, 3]})\n",
        "right = pd.DataFrame({'key1': ['foo', 'foo', 'bar', 'bar'],\n",
        "                      'key2': ['one', 'one', 'one', 'two'],\n",
        "                      'rval': [4, 5, 6, 7]})\n",
        "print(left)\n",
        "print(right)\n",
        "pd.merge(left, right, on=['key1', 'key2'], how='outer')"
      ],
      "execution_count": null,
      "outputs": [
        {
          "output_type": "stream",
          "text": [
            "  key1 key2  lval\n",
            "0  foo  one     1\n",
            "1  foo  two     2\n",
            "2  bar  one     3\n",
            "  key1 key2  rval\n",
            "0  foo  one     4\n",
            "1  foo  one     5\n",
            "2  bar  one     6\n",
            "3  bar  two     7\n"
          ],
          "name": "stdout"
        },
        {
          "output_type": "execute_result",
          "data": {
            "text/html": [
              "<div>\n",
              "<style scoped>\n",
              "    .dataframe tbody tr th:only-of-type {\n",
              "        vertical-align: middle;\n",
              "    }\n",
              "\n",
              "    .dataframe tbody tr th {\n",
              "        vertical-align: top;\n",
              "    }\n",
              "\n",
              "    .dataframe thead th {\n",
              "        text-align: right;\n",
              "    }\n",
              "</style>\n",
              "<table border=\"1\" class=\"dataframe\">\n",
              "  <thead>\n",
              "    <tr style=\"text-align: right;\">\n",
              "      <th></th>\n",
              "      <th>key1</th>\n",
              "      <th>key2</th>\n",
              "      <th>lval</th>\n",
              "      <th>rval</th>\n",
              "    </tr>\n",
              "  </thead>\n",
              "  <tbody>\n",
              "    <tr>\n",
              "      <th>0</th>\n",
              "      <td>foo</td>\n",
              "      <td>one</td>\n",
              "      <td>1.0</td>\n",
              "      <td>4.0</td>\n",
              "    </tr>\n",
              "    <tr>\n",
              "      <th>1</th>\n",
              "      <td>foo</td>\n",
              "      <td>one</td>\n",
              "      <td>1.0</td>\n",
              "      <td>5.0</td>\n",
              "    </tr>\n",
              "    <tr>\n",
              "      <th>2</th>\n",
              "      <td>foo</td>\n",
              "      <td>two</td>\n",
              "      <td>2.0</td>\n",
              "      <td>NaN</td>\n",
              "    </tr>\n",
              "    <tr>\n",
              "      <th>3</th>\n",
              "      <td>bar</td>\n",
              "      <td>one</td>\n",
              "      <td>3.0</td>\n",
              "      <td>6.0</td>\n",
              "    </tr>\n",
              "    <tr>\n",
              "      <th>4</th>\n",
              "      <td>bar</td>\n",
              "      <td>two</td>\n",
              "      <td>NaN</td>\n",
              "      <td>7.0</td>\n",
              "    </tr>\n",
              "  </tbody>\n",
              "</table>\n",
              "</div>"
            ],
            "text/plain": [
              "  key1 key2  lval  rval\n",
              "0  foo  one   1.0   4.0\n",
              "1  foo  one   1.0   5.0\n",
              "2  foo  two   2.0   NaN\n",
              "3  bar  one   3.0   6.0\n",
              "4  bar  two   NaN   7.0"
            ]
          },
          "metadata": {
            "tags": []
          },
          "execution_count": 20
        }
      ]
    },
    {
      "cell_type": "code",
      "metadata": {
        "deletable": true,
        "editable": true,
        "id": "fUhWjdWlLbXY",
        "colab": {
          "base_uri": "https://localhost:8080/",
          "height": 519
        },
        "outputId": "4075fe85-e136-49fe-9a77-2c377ade4426"
      },
      "source": [
        "#A last issue to consider in merge operations is the treatment of overlapping \n",
        "#column names. While you can address the overlap manually merge has a suffixes \n",
        "#option for specifying strings to append to overlapping names in the left and\n",
        "# right DataFrame objects\n",
        "print(left)\n",
        "print(right)\n",
        "print(pd.merge(left, right, on='key1'))\n",
        "pd.merge(left, right, on='key1', suffixes=('_left', '_right'))"
      ],
      "execution_count": null,
      "outputs": [
        {
          "output_type": "stream",
          "text": [
            "  key1 key2  lval\n",
            "0  foo  one     1\n",
            "1  foo  two     2\n",
            "2  bar  one     3\n",
            "  key1 key2  rval\n",
            "0  foo  one     4\n",
            "1  foo  one     5\n",
            "2  bar  one     6\n",
            "3  bar  two     7\n",
            "  key1 key2_x  lval key2_y  rval\n",
            "0  foo    one     1    one     4\n",
            "1  foo    one     1    one     5\n",
            "2  foo    two     2    one     4\n",
            "3  foo    two     2    one     5\n",
            "4  bar    one     3    one     6\n",
            "5  bar    one     3    two     7\n"
          ],
          "name": "stdout"
        },
        {
          "output_type": "execute_result",
          "data": {
            "text/html": [
              "<div>\n",
              "<style scoped>\n",
              "    .dataframe tbody tr th:only-of-type {\n",
              "        vertical-align: middle;\n",
              "    }\n",
              "\n",
              "    .dataframe tbody tr th {\n",
              "        vertical-align: top;\n",
              "    }\n",
              "\n",
              "    .dataframe thead th {\n",
              "        text-align: right;\n",
              "    }\n",
              "</style>\n",
              "<table border=\"1\" class=\"dataframe\">\n",
              "  <thead>\n",
              "    <tr style=\"text-align: right;\">\n",
              "      <th></th>\n",
              "      <th>key1</th>\n",
              "      <th>key2_left</th>\n",
              "      <th>lval</th>\n",
              "      <th>key2_right</th>\n",
              "      <th>rval</th>\n",
              "    </tr>\n",
              "  </thead>\n",
              "  <tbody>\n",
              "    <tr>\n",
              "      <th>0</th>\n",
              "      <td>foo</td>\n",
              "      <td>one</td>\n",
              "      <td>1</td>\n",
              "      <td>one</td>\n",
              "      <td>4</td>\n",
              "    </tr>\n",
              "    <tr>\n",
              "      <th>1</th>\n",
              "      <td>foo</td>\n",
              "      <td>one</td>\n",
              "      <td>1</td>\n",
              "      <td>one</td>\n",
              "      <td>5</td>\n",
              "    </tr>\n",
              "    <tr>\n",
              "      <th>2</th>\n",
              "      <td>foo</td>\n",
              "      <td>two</td>\n",
              "      <td>2</td>\n",
              "      <td>one</td>\n",
              "      <td>4</td>\n",
              "    </tr>\n",
              "    <tr>\n",
              "      <th>3</th>\n",
              "      <td>foo</td>\n",
              "      <td>two</td>\n",
              "      <td>2</td>\n",
              "      <td>one</td>\n",
              "      <td>5</td>\n",
              "    </tr>\n",
              "    <tr>\n",
              "      <th>4</th>\n",
              "      <td>bar</td>\n",
              "      <td>one</td>\n",
              "      <td>3</td>\n",
              "      <td>one</td>\n",
              "      <td>6</td>\n",
              "    </tr>\n",
              "    <tr>\n",
              "      <th>5</th>\n",
              "      <td>bar</td>\n",
              "      <td>one</td>\n",
              "      <td>3</td>\n",
              "      <td>two</td>\n",
              "      <td>7</td>\n",
              "    </tr>\n",
              "  </tbody>\n",
              "</table>\n",
              "</div>"
            ],
            "text/plain": [
              "  key1 key2_left  lval key2_right  rval\n",
              "0  foo       one     1        one     4\n",
              "1  foo       one     1        one     5\n",
              "2  foo       two     2        one     4\n",
              "3  foo       two     2        one     5\n",
              "4  bar       one     3        one     6\n",
              "5  bar       one     3        two     7"
            ]
          },
          "metadata": {
            "tags": []
          },
          "execution_count": 21
        }
      ]
    },
    {
      "cell_type": "markdown",
      "metadata": {
        "id": "lRzd5f-KgYxD"
      },
      "source": [
        "![image.png](data:image/png;base64,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)"
      ]
    },
    {
      "cell_type": "markdown",
      "metadata": {
        "deletable": true,
        "editable": true,
        "id": "8AD4pwZ-LbXb"
      },
      "source": [
        "### Merging on Index"
      ]
    },
    {
      "cell_type": "code",
      "metadata": {
        "id": "aWHe2CmFgqbB"
      },
      "source": [
        "##Joining using the DataFrame’s row index \n",
        "#In some cases, the merge key(s) in a DataFrame will be found in its index. \n",
        "#In this case, you can pass left_index=True or right_index=True (or both) to \n",
        "#indicate that the index should be used as the merge key:"
      ],
      "execution_count": null,
      "outputs": []
    },
    {
      "cell_type": "code",
      "metadata": {
        "deletable": true,
        "editable": true,
        "id": "bd44dt4_LbXc",
        "colab": {
          "base_uri": "https://localhost:8080/",
          "height": 380
        },
        "outputId": "5194f659-c293-4342-f579-1a4fa4c45496"
      },
      "source": [
        "left1 = pd.DataFrame({'key': ['a', 'b', 'a', 'a', 'b', 'c'],\n",
        "                      'value': range(6)})\n",
        "\n",
        "right1 = pd.DataFrame({'group_val': [3.5, 7]}, index=['a', 'b'])\n",
        "print(left1)\n",
        "print(right1)\n",
        "pd.merge(left1, right1, left_on='key', right_index=True)"
      ],
      "execution_count": null,
      "outputs": [
        {
          "output_type": "stream",
          "text": [
            "  key  value\n",
            "0   a      0\n",
            "1   b      1\n",
            "2   a      2\n",
            "3   a      3\n",
            "4   b      4\n",
            "5   c      5\n",
            "   group_val\n",
            "a        3.5\n",
            "b        7.0\n"
          ],
          "name": "stdout"
        },
        {
          "output_type": "execute_result",
          "data": {
            "text/html": [
              "<div>\n",
              "<style scoped>\n",
              "    .dataframe tbody tr th:only-of-type {\n",
              "        vertical-align: middle;\n",
              "    }\n",
              "\n",
              "    .dataframe tbody tr th {\n",
              "        vertical-align: top;\n",
              "    }\n",
              "\n",
              "    .dataframe thead th {\n",
              "        text-align: right;\n",
              "    }\n",
              "</style>\n",
              "<table border=\"1\" class=\"dataframe\">\n",
              "  <thead>\n",
              "    <tr style=\"text-align: right;\">\n",
              "      <th></th>\n",
              "      <th>key</th>\n",
              "      <th>value</th>\n",
              "      <th>group_val</th>\n",
              "    </tr>\n",
              "  </thead>\n",
              "  <tbody>\n",
              "    <tr>\n",
              "      <th>0</th>\n",
              "      <td>a</td>\n",
              "      <td>0</td>\n",
              "      <td>3.5</td>\n",
              "    </tr>\n",
              "    <tr>\n",
              "      <th>2</th>\n",
              "      <td>a</td>\n",
              "      <td>2</td>\n",
              "      <td>3.5</td>\n",
              "    </tr>\n",
              "    <tr>\n",
              "      <th>3</th>\n",
              "      <td>a</td>\n",
              "      <td>3</td>\n",
              "      <td>3.5</td>\n",
              "    </tr>\n",
              "    <tr>\n",
              "      <th>1</th>\n",
              "      <td>b</td>\n",
              "      <td>1</td>\n",
              "      <td>7.0</td>\n",
              "    </tr>\n",
              "    <tr>\n",
              "      <th>4</th>\n",
              "      <td>b</td>\n",
              "      <td>4</td>\n",
              "      <td>7.0</td>\n",
              "    </tr>\n",
              "  </tbody>\n",
              "</table>\n",
              "</div>"
            ],
            "text/plain": [
              "  key  value  group_val\n",
              "0   a      0        3.5\n",
              "2   a      2        3.5\n",
              "3   a      3        3.5\n",
              "1   b      1        7.0\n",
              "4   b      4        7.0"
            ]
          },
          "metadata": {
            "tags": []
          },
          "execution_count": 23
        }
      ]
    },
    {
      "cell_type": "code",
      "metadata": {
        "deletable": true,
        "editable": true,
        "id": "J0up4f_iLbXf",
        "colab": {
          "base_uri": "https://localhost:8080/",
          "height": 235
        },
        "outputId": "476d0522-d6a3-4c20-dcf5-c2d117a89ab7"
      },
      "source": [
        "#Since the default merge method is to intersect the join keys, you can instead \n",
        "#form the union of them with an outer join:\n",
        "pd.merge(left1, right1, left_on='key', right_index=True, how='outer')"
      ],
      "execution_count": null,
      "outputs": [
        {
          "output_type": "execute_result",
          "data": {
            "text/html": [
              "<div>\n",
              "<style scoped>\n",
              "    .dataframe tbody tr th:only-of-type {\n",
              "        vertical-align: middle;\n",
              "    }\n",
              "\n",
              "    .dataframe tbody tr th {\n",
              "        vertical-align: top;\n",
              "    }\n",
              "\n",
              "    .dataframe thead th {\n",
              "        text-align: right;\n",
              "    }\n",
              "</style>\n",
              "<table border=\"1\" class=\"dataframe\">\n",
              "  <thead>\n",
              "    <tr style=\"text-align: right;\">\n",
              "      <th></th>\n",
              "      <th>key</th>\n",
              "      <th>value</th>\n",
              "      <th>group_val</th>\n",
              "    </tr>\n",
              "  </thead>\n",
              "  <tbody>\n",
              "    <tr>\n",
              "      <th>0</th>\n",
              "      <td>a</td>\n",
              "      <td>0</td>\n",
              "      <td>3.5</td>\n",
              "    </tr>\n",
              "    <tr>\n",
              "      <th>2</th>\n",
              "      <td>a</td>\n",
              "      <td>2</td>\n",
              "      <td>3.5</td>\n",
              "    </tr>\n",
              "    <tr>\n",
              "      <th>3</th>\n",
              "      <td>a</td>\n",
              "      <td>3</td>\n",
              "      <td>3.5</td>\n",
              "    </tr>\n",
              "    <tr>\n",
              "      <th>1</th>\n",
              "      <td>b</td>\n",
              "      <td>1</td>\n",
              "      <td>7.0</td>\n",
              "    </tr>\n",
              "    <tr>\n",
              "      <th>4</th>\n",
              "      <td>b</td>\n",
              "      <td>4</td>\n",
              "      <td>7.0</td>\n",
              "    </tr>\n",
              "    <tr>\n",
              "      <th>5</th>\n",
              "      <td>c</td>\n",
              "      <td>5</td>\n",
              "      <td>NaN</td>\n",
              "    </tr>\n",
              "  </tbody>\n",
              "</table>\n",
              "</div>"
            ],
            "text/plain": [
              "  key  value  group_val\n",
              "0   a      0        3.5\n",
              "2   a      2        3.5\n",
              "3   a      3        3.5\n",
              "1   b      1        7.0\n",
              "4   b      4        7.0\n",
              "5   c      5        NaN"
            ]
          },
          "metadata": {
            "tags": []
          },
          "execution_count": 35
        }
      ]
    },
    {
      "cell_type": "code",
      "metadata": {
        "deletable": true,
        "editable": true,
        "id": "UfMRA7MaLbXj",
        "colab": {
          "base_uri": "https://localhost:8080/"
        },
        "outputId": "21c08505-fbe8-44d9-fa4f-0b5328fa9414"
      },
      "source": [
        "#With hierarchically indexed data, things are more complicated, as joining on \n",
        "#index is implicitly a multiple-key merge:\n",
        "lefth = pd.DataFrame({'key1': ['Ohio', 'Ohio', 'Ohio',\n",
        "                               'Nevada', 'Nevada'],\n",
        "                      'key2': [2000, 2001, 2002, 2001, 2002],\n",
        "                      'data': np.arange(5.)})\n",
        "righth = pd.DataFrame(np.arange(12).reshape((6, 2)),\n",
        "                      index=[['Nevada', 'Nevada', 'Ohio', 'Ohio',\n",
        "                              'Ohio', 'Ohio'],\n",
        "                             [2001, 2000, 2000, 2000, 2001, 2002]],\n",
        "                      columns=['event1', 'event2'])\n",
        "print(lefth)\n",
        "print(righth)"
      ],
      "execution_count": null,
      "outputs": [
        {
          "output_type": "stream",
          "text": [
            "     key1  key2  data\n",
            "0    Ohio  2000   0.0\n",
            "1    Ohio  2001   1.0\n",
            "2    Ohio  2002   2.0\n",
            "3  Nevada  2001   3.0\n",
            "4  Nevada  2002   4.0\n",
            "             event1  event2\n",
            "Nevada 2001       0       1\n",
            "       2000       2       3\n",
            "Ohio   2000       4       5\n",
            "       2000       6       7\n",
            "       2001       8       9\n",
            "       2002      10      11\n"
          ],
          "name": "stdout"
        }
      ]
    },
    {
      "cell_type": "code",
      "metadata": {
        "deletable": true,
        "editable": true,
        "id": "bT5g0ahmLbXn",
        "colab": {
          "base_uri": "https://localhost:8080/",
          "height": 367
        },
        "outputId": "496498a3-2adb-4da1-b2a0-6bbba6d452dc"
      },
      "source": [
        "#In this case, you have to indicate multiple columns to merge on as a list \n",
        "#(note the handling of duplicate index values with how='outer'):\n",
        "print(pd.merge(lefth, righth, left_on=['key1', 'key2'], right_index=True))\n",
        "\n",
        "#Since the default merge method is to intersect the join keys, you can instead \n",
        "#form the union of them with an outer join:\n",
        "pd.merge(lefth, righth, left_on=['key1', 'key2'],right_index=True, how='outer')"
      ],
      "execution_count": null,
      "outputs": [
        {
          "output_type": "stream",
          "text": [
            "     key1  key2  data  event1  event2\n",
            "0    Ohio  2000   0.0       4       5\n",
            "0    Ohio  2000   0.0       6       7\n",
            "1    Ohio  2001   1.0       8       9\n",
            "2    Ohio  2002   2.0      10      11\n",
            "3  Nevada  2001   3.0       0       1\n"
          ],
          "name": "stdout"
        },
        {
          "output_type": "execute_result",
          "data": {
            "text/html": [
              "<div>\n",
              "<style scoped>\n",
              "    .dataframe tbody tr th:only-of-type {\n",
              "        vertical-align: middle;\n",
              "    }\n",
              "\n",
              "    .dataframe tbody tr th {\n",
              "        vertical-align: top;\n",
              "    }\n",
              "\n",
              "    .dataframe thead th {\n",
              "        text-align: right;\n",
              "    }\n",
              "</style>\n",
              "<table border=\"1\" class=\"dataframe\">\n",
              "  <thead>\n",
              "    <tr style=\"text-align: right;\">\n",
              "      <th></th>\n",
              "      <th>key1</th>\n",
              "      <th>key2</th>\n",
              "      <th>data</th>\n",
              "      <th>event1</th>\n",
              "      <th>event2</th>\n",
              "    </tr>\n",
              "  </thead>\n",
              "  <tbody>\n",
              "    <tr>\n",
              "      <th>0</th>\n",
              "      <td>Ohio</td>\n",
              "      <td>2000</td>\n",
              "      <td>0.0</td>\n",
              "      <td>4.0</td>\n",
              "      <td>5.0</td>\n",
              "    </tr>\n",
              "    <tr>\n",
              "      <th>0</th>\n",
              "      <td>Ohio</td>\n",
              "      <td>2000</td>\n",
              "      <td>0.0</td>\n",
              "      <td>6.0</td>\n",
              "      <td>7.0</td>\n",
              "    </tr>\n",
              "    <tr>\n",
              "      <th>1</th>\n",
              "      <td>Ohio</td>\n",
              "      <td>2001</td>\n",
              "      <td>1.0</td>\n",
              "      <td>8.0</td>\n",
              "      <td>9.0</td>\n",
              "    </tr>\n",
              "    <tr>\n",
              "      <th>2</th>\n",
              "      <td>Ohio</td>\n",
              "      <td>2002</td>\n",
              "      <td>2.0</td>\n",
              "      <td>10.0</td>\n",
              "      <td>11.0</td>\n",
              "    </tr>\n",
              "    <tr>\n",
              "      <th>3</th>\n",
              "      <td>Nevada</td>\n",
              "      <td>2001</td>\n",
              "      <td>3.0</td>\n",
              "      <td>0.0</td>\n",
              "      <td>1.0</td>\n",
              "    </tr>\n",
              "    <tr>\n",
              "      <th>4</th>\n",
              "      <td>Nevada</td>\n",
              "      <td>2002</td>\n",
              "      <td>4.0</td>\n",
              "      <td>NaN</td>\n",
              "      <td>NaN</td>\n",
              "    </tr>\n",
              "    <tr>\n",
              "      <th>4</th>\n",
              "      <td>Nevada</td>\n",
              "      <td>2000</td>\n",
              "      <td>NaN</td>\n",
              "      <td>2.0</td>\n",
              "      <td>3.0</td>\n",
              "    </tr>\n",
              "  </tbody>\n",
              "</table>\n",
              "</div>"
            ],
            "text/plain": [
              "     key1  key2  data  event1  event2\n",
              "0    Ohio  2000   0.0     4.0     5.0\n",
              "0    Ohio  2000   0.0     6.0     7.0\n",
              "1    Ohio  2001   1.0     8.0     9.0\n",
              "2    Ohio  2002   2.0    10.0    11.0\n",
              "3  Nevada  2001   3.0     0.0     1.0\n",
              "4  Nevada  2002   4.0     NaN     NaN\n",
              "4  Nevada  2000   NaN     2.0     3.0"
            ]
          },
          "metadata": {
            "tags": []
          },
          "execution_count": 26
        }
      ]
    },
    {
      "cell_type": "code",
      "metadata": {
        "deletable": true,
        "editable": true,
        "id": "LhqiGPjMLbXr",
        "colab": {
          "base_uri": "https://localhost:8080/",
          "height": 362
        },
        "outputId": "3d292806-cb3a-494e-c51a-5cbd4ec65f43"
      },
      "source": [
        "#Using the indexes of both sides of the merge is also possible:\n",
        "left2 = pd.DataFrame([[1., 2.], [3., 4.], [5., 6.]],\n",
        "                     index=['a', 'c', 'e'],\n",
        "                     columns=['Ohio', 'Nevada'])\n",
        "right2 = pd.DataFrame([[7., 8.], [9., 10.], [11., 12.], [13, 14]],\n",
        "                      index=['b', 'c', 'd', 'e'],\n",
        "                      columns=['Missouri', 'Alabama'])\n",
        "print(left2)\n",
        "print(right2)\n",
        "pd.merge(left2, right2, how='outer', left_index=True, right_index=True)"
      ],
      "execution_count": null,
      "outputs": [
        {
          "output_type": "stream",
          "text": [
            "   Ohio  Nevada\n",
            "a   1.0     2.0\n",
            "c   3.0     4.0\n",
            "e   5.0     6.0\n",
            "   Missouri  Alabama\n",
            "b       7.0      8.0\n",
            "c       9.0     10.0\n",
            "d      11.0     12.0\n",
            "e      13.0     14.0\n"
          ],
          "name": "stdout"
        },
        {
          "output_type": "execute_result",
          "data": {
            "text/html": [
              "<div>\n",
              "<style scoped>\n",
              "    .dataframe tbody tr th:only-of-type {\n",
              "        vertical-align: middle;\n",
              "    }\n",
              "\n",
              "    .dataframe tbody tr th {\n",
              "        vertical-align: top;\n",
              "    }\n",
              "\n",
              "    .dataframe thead th {\n",
              "        text-align: right;\n",
              "    }\n",
              "</style>\n",
              "<table border=\"1\" class=\"dataframe\">\n",
              "  <thead>\n",
              "    <tr style=\"text-align: right;\">\n",
              "      <th></th>\n",
              "      <th>Ohio</th>\n",
              "      <th>Nevada</th>\n",
              "      <th>Missouri</th>\n",
              "      <th>Alabama</th>\n",
              "    </tr>\n",
              "  </thead>\n",
              "  <tbody>\n",
              "    <tr>\n",
              "      <th>a</th>\n",
              "      <td>1.0</td>\n",
              "      <td>2.0</td>\n",
              "      <td>NaN</td>\n",
              "      <td>NaN</td>\n",
              "    </tr>\n",
              "    <tr>\n",
              "      <th>b</th>\n",
              "      <td>NaN</td>\n",
              "      <td>NaN</td>\n",
              "      <td>7.0</td>\n",
              "      <td>8.0</td>\n",
              "    </tr>\n",
              "    <tr>\n",
              "      <th>c</th>\n",
              "      <td>3.0</td>\n",
              "      <td>4.0</td>\n",
              "      <td>9.0</td>\n",
              "      <td>10.0</td>\n",
              "    </tr>\n",
              "    <tr>\n",
              "      <th>d</th>\n",
              "      <td>NaN</td>\n",
              "      <td>NaN</td>\n",
              "      <td>11.0</td>\n",
              "      <td>12.0</td>\n",
              "    </tr>\n",
              "    <tr>\n",
              "      <th>e</th>\n",
              "      <td>5.0</td>\n",
              "      <td>6.0</td>\n",
              "      <td>13.0</td>\n",
              "      <td>14.0</td>\n",
              "    </tr>\n",
              "  </tbody>\n",
              "</table>\n",
              "</div>"
            ],
            "text/plain": [
              "   Ohio  Nevada  Missouri  Alabama\n",
              "a   1.0     2.0       NaN      NaN\n",
              "b   NaN     NaN       7.0      8.0\n",
              "c   3.0     4.0       9.0     10.0\n",
              "d   NaN     NaN      11.0     12.0\n",
              "e   5.0     6.0      13.0     14.0"
            ]
          },
          "metadata": {
            "tags": []
          },
          "execution_count": 27
        }
      ]
    },
    {
      "cell_type": "code",
      "metadata": {
        "deletable": true,
        "editable": true,
        "id": "pi1-4ZigLbXw",
        "colab": {
          "base_uri": "https://localhost:8080/",
          "height": 204
        },
        "outputId": "4ec4c8a1-68a5-4ba7-84e6-e774d4fc5df8"
      },
      "source": [
        "#DataFrame has a convenient join instance for merging by index. It can also be \n",
        "#used to combine together many DataFrame objects having the same or similar \n",
        "#indexes but non-overlapping columns. Previous example, can be written:\n",
        "left2.join(right2, how='outer')"
      ],
      "execution_count": null,
      "outputs": [
        {
          "output_type": "execute_result",
          "data": {
            "text/html": [
              "<div>\n",
              "<style scoped>\n",
              "    .dataframe tbody tr th:only-of-type {\n",
              "        vertical-align: middle;\n",
              "    }\n",
              "\n",
              "    .dataframe tbody tr th {\n",
              "        vertical-align: top;\n",
              "    }\n",
              "\n",
              "    .dataframe thead th {\n",
              "        text-align: right;\n",
              "    }\n",
              "</style>\n",
              "<table border=\"1\" class=\"dataframe\">\n",
              "  <thead>\n",
              "    <tr style=\"text-align: right;\">\n",
              "      <th></th>\n",
              "      <th>Ohio</th>\n",
              "      <th>Nevada</th>\n",
              "      <th>Missouri</th>\n",
              "      <th>Alabama</th>\n",
              "    </tr>\n",
              "  </thead>\n",
              "  <tbody>\n",
              "    <tr>\n",
              "      <th>a</th>\n",
              "      <td>1.0</td>\n",
              "      <td>2.0</td>\n",
              "      <td>NaN</td>\n",
              "      <td>NaN</td>\n",
              "    </tr>\n",
              "    <tr>\n",
              "      <th>b</th>\n",
              "      <td>NaN</td>\n",
              "      <td>NaN</td>\n",
              "      <td>7.0</td>\n",
              "      <td>8.0</td>\n",
              "    </tr>\n",
              "    <tr>\n",
              "      <th>c</th>\n",
              "      <td>3.0</td>\n",
              "      <td>4.0</td>\n",
              "      <td>9.0</td>\n",
              "      <td>10.0</td>\n",
              "    </tr>\n",
              "    <tr>\n",
              "      <th>d</th>\n",
              "      <td>NaN</td>\n",
              "      <td>NaN</td>\n",
              "      <td>11.0</td>\n",
              "      <td>12.0</td>\n",
              "    </tr>\n",
              "    <tr>\n",
              "      <th>e</th>\n",
              "      <td>5.0</td>\n",
              "      <td>6.0</td>\n",
              "      <td>13.0</td>\n",
              "      <td>14.0</td>\n",
              "    </tr>\n",
              "  </tbody>\n",
              "</table>\n",
              "</div>"
            ],
            "text/plain": [
              "   Ohio  Nevada  Missouri  Alabama\n",
              "a   1.0     2.0       NaN      NaN\n",
              "b   NaN     NaN       7.0      8.0\n",
              "c   3.0     4.0       9.0     10.0\n",
              "d   NaN     NaN      11.0     12.0\n",
              "e   5.0     6.0      13.0     14.0"
            ]
          },
          "metadata": {
            "tags": []
          },
          "execution_count": 39
        }
      ]
    },
    {
      "cell_type": "code",
      "metadata": {
        "deletable": true,
        "editable": true,
        "id": "tprsW9TpLbX0",
        "colab": {
          "base_uri": "https://localhost:8080/",
          "height": 410
        },
        "outputId": "6d239999-cb05-458a-eabd-edcd8743c1a7"
      },
      "source": [
        "#It also supports joining the index of the passed DataFrame on one of the \n",
        "#columns of the calling DataFrame:\n",
        "print(left1)\n",
        "print(right1)\n",
        "left1.join(right1, on='key')"
      ],
      "execution_count": null,
      "outputs": [
        {
          "output_type": "stream",
          "text": [
            "  key  value\n",
            "0   a      0\n",
            "1   b      1\n",
            "2   a      2\n",
            "3   a      3\n",
            "4   b      4\n",
            "5   c      5\n",
            "   group_val\n",
            "a        3.5\n",
            "b        7.0\n"
          ],
          "name": "stdout"
        },
        {
          "output_type": "execute_result",
          "data": {
            "text/html": [
              "<div>\n",
              "<style scoped>\n",
              "    .dataframe tbody tr th:only-of-type {\n",
              "        vertical-align: middle;\n",
              "    }\n",
              "\n",
              "    .dataframe tbody tr th {\n",
              "        vertical-align: top;\n",
              "    }\n",
              "\n",
              "    .dataframe thead th {\n",
              "        text-align: right;\n",
              "    }\n",
              "</style>\n",
              "<table border=\"1\" class=\"dataframe\">\n",
              "  <thead>\n",
              "    <tr style=\"text-align: right;\">\n",
              "      <th></th>\n",
              "      <th>key</th>\n",
              "      <th>value</th>\n",
              "      <th>group_val</th>\n",
              "    </tr>\n",
              "  </thead>\n",
              "  <tbody>\n",
              "    <tr>\n",
              "      <th>0</th>\n",
              "      <td>a</td>\n",
              "      <td>0</td>\n",
              "      <td>3.5</td>\n",
              "    </tr>\n",
              "    <tr>\n",
              "      <th>1</th>\n",
              "      <td>b</td>\n",
              "      <td>1</td>\n",
              "      <td>7.0</td>\n",
              "    </tr>\n",
              "    <tr>\n",
              "      <th>2</th>\n",
              "      <td>a</td>\n",
              "      <td>2</td>\n",
              "      <td>3.5</td>\n",
              "    </tr>\n",
              "    <tr>\n",
              "      <th>3</th>\n",
              "      <td>a</td>\n",
              "      <td>3</td>\n",
              "      <td>3.5</td>\n",
              "    </tr>\n",
              "    <tr>\n",
              "      <th>4</th>\n",
              "      <td>b</td>\n",
              "      <td>4</td>\n",
              "      <td>7.0</td>\n",
              "    </tr>\n",
              "    <tr>\n",
              "      <th>5</th>\n",
              "      <td>c</td>\n",
              "      <td>5</td>\n",
              "      <td>NaN</td>\n",
              "    </tr>\n",
              "  </tbody>\n",
              "</table>\n",
              "</div>"
            ],
            "text/plain": [
              "  key  value  group_val\n",
              "0   a      0        3.5\n",
              "1   b      1        7.0\n",
              "2   a      2        3.5\n",
              "3   a      3        3.5\n",
              "4   b      4        7.0\n",
              "5   c      5        NaN"
            ]
          },
          "metadata": {
            "tags": []
          },
          "execution_count": 28
        }
      ]
    },
    {
      "cell_type": "code",
      "metadata": {
        "deletable": true,
        "editable": true,
        "id": "PLqMvQ8PLbX4",
        "colab": {
          "base_uri": "https://localhost:8080/",
          "height": 388
        },
        "outputId": "a41104bb-05b7-49c4-d807-35477b81783e"
      },
      "source": [
        "#for simple index-on-index merges, you can pass a list of DataFrames to join\n",
        "\n",
        "another = pd.DataFrame([[7., 8.], [9., 10.], [11., 12.], [16., 17.]],\n",
        "                       index=['a', 'c', 'e', 'f'],\n",
        "                       columns=['New York', 'Oregon'])\n",
        "print(another)\n",
        "print(left2.join([right2, another]))\n",
        "left2.join([right2, another], how='outer')"
      ],
      "execution_count": null,
      "outputs": [
        {
          "output_type": "stream",
          "text": [
            "   New York  Oregon\n",
            "a       7.0     8.0\n",
            "c       9.0    10.0\n",
            "e      11.0    12.0\n",
            "f      16.0    17.0\n",
            "   Ohio  Nevada  Missouri  Alabama  New York  Oregon\n",
            "a   1.0     2.0       NaN      NaN       7.0     8.0\n",
            "c   3.0     4.0       9.0     10.0       9.0    10.0\n",
            "e   5.0     6.0      13.0     14.0      11.0    12.0\n"
          ],
          "name": "stdout"
        },
        {
          "output_type": "execute_result",
          "data": {
            "text/html": [
              "<div>\n",
              "<style scoped>\n",
              "    .dataframe tbody tr th:only-of-type {\n",
              "        vertical-align: middle;\n",
              "    }\n",
              "\n",
              "    .dataframe tbody tr th {\n",
              "        vertical-align: top;\n",
              "    }\n",
              "\n",
              "    .dataframe thead th {\n",
              "        text-align: right;\n",
              "    }\n",
              "</style>\n",
              "<table border=\"1\" class=\"dataframe\">\n",
              "  <thead>\n",
              "    <tr style=\"text-align: right;\">\n",
              "      <th></th>\n",
              "      <th>Ohio</th>\n",
              "      <th>Nevada</th>\n",
              "      <th>Missouri</th>\n",
              "      <th>Alabama</th>\n",
              "      <th>New York</th>\n",
              "      <th>Oregon</th>\n",
              "    </tr>\n",
              "  </thead>\n",
              "  <tbody>\n",
              "    <tr>\n",
              "      <th>a</th>\n",
              "      <td>1.0</td>\n",
              "      <td>2.0</td>\n",
              "      <td>NaN</td>\n",
              "      <td>NaN</td>\n",
              "      <td>7.0</td>\n",
              "      <td>8.0</td>\n",
              "    </tr>\n",
              "    <tr>\n",
              "      <th>c</th>\n",
              "      <td>3.0</td>\n",
              "      <td>4.0</td>\n",
              "      <td>9.0</td>\n",
              "      <td>10.0</td>\n",
              "      <td>9.0</td>\n",
              "      <td>10.0</td>\n",
              "    </tr>\n",
              "    <tr>\n",
              "      <th>e</th>\n",
              "      <td>5.0</td>\n",
              "      <td>6.0</td>\n",
              "      <td>13.0</td>\n",
              "      <td>14.0</td>\n",
              "      <td>11.0</td>\n",
              "      <td>12.0</td>\n",
              "    </tr>\n",
              "    <tr>\n",
              "      <th>b</th>\n",
              "      <td>NaN</td>\n",
              "      <td>NaN</td>\n",
              "      <td>7.0</td>\n",
              "      <td>8.0</td>\n",
              "      <td>NaN</td>\n",
              "      <td>NaN</td>\n",
              "    </tr>\n",
              "    <tr>\n",
              "      <th>d</th>\n",
              "      <td>NaN</td>\n",
              "      <td>NaN</td>\n",
              "      <td>11.0</td>\n",
              "      <td>12.0</td>\n",
              "      <td>NaN</td>\n",
              "      <td>NaN</td>\n",
              "    </tr>\n",
              "    <tr>\n",
              "      <th>f</th>\n",
              "      <td>NaN</td>\n",
              "      <td>NaN</td>\n",
              "      <td>NaN</td>\n",
              "      <td>NaN</td>\n",
              "      <td>16.0</td>\n",
              "      <td>17.0</td>\n",
              "    </tr>\n",
              "  </tbody>\n",
              "</table>\n",
              "</div>"
            ],
            "text/plain": [
              "   Ohio  Nevada  Missouri  Alabama  New York  Oregon\n",
              "a   1.0     2.0       NaN      NaN       7.0     8.0\n",
              "c   3.0     4.0       9.0     10.0       9.0    10.0\n",
              "e   5.0     6.0      13.0     14.0      11.0    12.0\n",
              "b   NaN     NaN       7.0      8.0       NaN     NaN\n",
              "d   NaN     NaN      11.0     12.0       NaN     NaN\n",
              "f   NaN     NaN       NaN      NaN      16.0    17.0"
            ]
          },
          "metadata": {
            "tags": []
          },
          "execution_count": 41
        }
      ]
    },
    {
      "cell_type": "markdown",
      "metadata": {
        "deletable": true,
        "editable": true,
        "id": "mXmTDRy_LbX8"
      },
      "source": [
        "### Concatenating Along an Axis"
      ]
    },
    {
      "cell_type": "code",
      "metadata": {
        "id": "BFW25mnmCFDP"
      },
      "source": [
        "#Another kind of data combination operation is referred to interchangeably as \n",
        "#concatenation, binding, or stacking. NumPy’s concatenate function can do this \n",
        "#with NumPy arrays:"
      ],
      "execution_count": null,
      "outputs": []
    },
    {
      "cell_type": "code",
      "metadata": {
        "deletable": true,
        "editable": true,
        "id": "9F38w_i0LbX9",
        "colab": {
          "base_uri": "https://localhost:8080/"
        },
        "outputId": "2150648d-4fa6-487c-a93d-6b8033c647ec"
      },
      "source": [
        "arr = np.arange(12).reshape((3, 4))\n",
        "print(arr)\n",
        "print(np.concatenate([arr, arr], axis=1))\n",
        "np.concatenate([arr, arr], axis=0)"
      ],
      "execution_count": null,
      "outputs": [
        {
          "output_type": "stream",
          "text": [
            "[[ 0  1  2  3]\n",
            " [ 4  5  6  7]\n",
            " [ 8  9 10 11]]\n",
            "[[ 0  1  2  3  0  1  2  3]\n",
            " [ 4  5  6  7  4  5  6  7]\n",
            " [ 8  9 10 11  8  9 10 11]]\n"
          ],
          "name": "stdout"
        },
        {
          "output_type": "execute_result",
          "data": {
            "text/plain": [
              "array([[ 0,  1,  2,  3],\n",
              "       [ 4,  5,  6,  7],\n",
              "       [ 8,  9, 10, 11],\n",
              "       [ 0,  1,  2,  3],\n",
              "       [ 4,  5,  6,  7],\n",
              "       [ 8,  9, 10, 11]])"
            ]
          },
          "metadata": {
            "tags": []
          },
          "execution_count": 30
        }
      ]
    },
    {
      "cell_type": "code",
      "metadata": {
        "deletable": true,
        "editable": true,
        "id": "NtfOHZqzLbYB"
      },
      "source": [
        "#three Series with no index overlap:\n",
        "s1 = pd.Series([0, 1], index=['a', 'b'])\n",
        "s2 = pd.Series([2, 3, 4], index=['c', 'd', 'e'])\n",
        "s3 = pd.Series([5, 6], index=['f', 'g'])"
      ],
      "execution_count": null,
      "outputs": []
    },
    {
      "cell_type": "code",
      "metadata": {
        "deletable": true,
        "editable": true,
        "id": "I_XuiV-9LbYG",
        "colab": {
          "base_uri": "https://localhost:8080/"
        },
        "outputId": "4cc81180-2625-4992-fe6f-bb71cbf17798"
      },
      "source": [
        "#Calling concat with these objects in a list glues together the values & indexes:\n",
        "pd.concat([s1, s2, s3])"
      ],
      "execution_count": null,
      "outputs": [
        {
          "output_type": "execute_result",
          "data": {
            "text/plain": [
              "a    0\n",
              "b    1\n",
              "c    2\n",
              "d    3\n",
              "e    4\n",
              "f    5\n",
              "g    6\n",
              "dtype: int64"
            ]
          },
          "metadata": {
            "tags": []
          },
          "execution_count": 35
        }
      ]
    },
    {
      "cell_type": "code",
      "metadata": {
        "deletable": true,
        "editable": true,
        "id": "Q1rlAtScLbYM",
        "colab": {
          "base_uri": "https://localhost:8080/",
          "height": 258
        },
        "outputId": "e6ec96dd-0e3d-4648-fe73-398b118b0b6a"
      },
      "source": [
        "#By default concat works along axis=0, producing another Series. \n",
        "#If you pass axis=1, the result will instead be a DataFrame (axis=1 is columns):\n",
        "pd.concat([s1, s2, s3], axis=1)\n",
        "\n",
        "#In this case there is no overlap on the other axis, which as you can see is \n",
        "#the sorted union (the 'outer' join) of the indexes."
      ],
      "execution_count": null,
      "outputs": [
        {
          "output_type": "execute_result",
          "data": {
            "text/html": [
              "<div>\n",
              "<style scoped>\n",
              "    .dataframe tbody tr th:only-of-type {\n",
              "        vertical-align: middle;\n",
              "    }\n",
              "\n",
              "    .dataframe tbody tr th {\n",
              "        vertical-align: top;\n",
              "    }\n",
              "\n",
              "    .dataframe thead th {\n",
              "        text-align: right;\n",
              "    }\n",
              "</style>\n",
              "<table border=\"1\" class=\"dataframe\">\n",
              "  <thead>\n",
              "    <tr style=\"text-align: right;\">\n",
              "      <th></th>\n",
              "      <th>0</th>\n",
              "      <th>1</th>\n",
              "      <th>2</th>\n",
              "    </tr>\n",
              "  </thead>\n",
              "  <tbody>\n",
              "    <tr>\n",
              "      <th>a</th>\n",
              "      <td>0.0</td>\n",
              "      <td>NaN</td>\n",
              "      <td>NaN</td>\n",
              "    </tr>\n",
              "    <tr>\n",
              "      <th>b</th>\n",
              "      <td>1.0</td>\n",
              "      <td>NaN</td>\n",
              "      <td>NaN</td>\n",
              "    </tr>\n",
              "    <tr>\n",
              "      <th>c</th>\n",
              "      <td>NaN</td>\n",
              "      <td>2.0</td>\n",
              "      <td>NaN</td>\n",
              "    </tr>\n",
              "    <tr>\n",
              "      <th>d</th>\n",
              "      <td>NaN</td>\n",
              "      <td>3.0</td>\n",
              "      <td>NaN</td>\n",
              "    </tr>\n",
              "    <tr>\n",
              "      <th>e</th>\n",
              "      <td>NaN</td>\n",
              "      <td>4.0</td>\n",
              "      <td>NaN</td>\n",
              "    </tr>\n",
              "    <tr>\n",
              "      <th>f</th>\n",
              "      <td>NaN</td>\n",
              "      <td>NaN</td>\n",
              "      <td>5.0</td>\n",
              "    </tr>\n",
              "    <tr>\n",
              "      <th>g</th>\n",
              "      <td>NaN</td>\n",
              "      <td>NaN</td>\n",
              "      <td>6.0</td>\n",
              "    </tr>\n",
              "  </tbody>\n",
              "</table>\n",
              "</div>"
            ],
            "text/plain": [
              "     0    1    2\n",
              "a  0.0  NaN  NaN\n",
              "b  1.0  NaN  NaN\n",
              "c  NaN  2.0  NaN\n",
              "d  NaN  3.0  NaN\n",
              "e  NaN  4.0  NaN\n",
              "f  NaN  NaN  5.0\n",
              "g  NaN  NaN  6.0"
            ]
          },
          "metadata": {
            "tags": []
          },
          "execution_count": 37
        }
      ]
    },
    {
      "cell_type": "code",
      "metadata": {
        "deletable": true,
        "editable": true,
        "id": "j5JWv7nXLbYT",
        "colab": {
          "base_uri": "https://localhost:8080/",
          "height": 366
        },
        "outputId": "c728ccdb-16b5-42db-c605-51f968cb4788"
      },
      "source": [
        " #You can instead intersect them by passing join='inner':\n",
        "s4 = pd.concat([s1, s3])\n",
        "print(s1,s3)\n",
        "print(s4)\n",
        "type(s4)\n",
        "\n",
        "print(pd.concat([s1, s4], axis=1))\n",
        "pd.concat([s1, s4], axis=1, join='inner')\n",
        "#the 'f' and 'g' labels disappeared because of the join='inner' option."
      ],
      "execution_count": null,
      "outputs": [
        {
          "output_type": "stream",
          "text": [
            "a    0\n",
            "b    1\n",
            "dtype: int64 f    5\n",
            "g    6\n",
            "dtype: int64\n",
            "a    0\n",
            "b    1\n",
            "f    5\n",
            "g    6\n",
            "dtype: int64\n",
            "     0  1\n",
            "a  0.0  0\n",
            "b  1.0  1\n",
            "f  NaN  5\n",
            "g  NaN  6\n"
          ],
          "name": "stdout"
        },
        {
          "output_type": "execute_result",
          "data": {
            "text/html": [
              "<div>\n",
              "<style scoped>\n",
              "    .dataframe tbody tr th:only-of-type {\n",
              "        vertical-align: middle;\n",
              "    }\n",
              "\n",
              "    .dataframe tbody tr th {\n",
              "        vertical-align: top;\n",
              "    }\n",
              "\n",
              "    .dataframe thead th {\n",
              "        text-align: right;\n",
              "    }\n",
              "</style>\n",
              "<table border=\"1\" class=\"dataframe\">\n",
              "  <thead>\n",
              "    <tr style=\"text-align: right;\">\n",
              "      <th></th>\n",
              "      <th>0</th>\n",
              "      <th>1</th>\n",
              "    </tr>\n",
              "  </thead>\n",
              "  <tbody>\n",
              "    <tr>\n",
              "      <th>a</th>\n",
              "      <td>0</td>\n",
              "      <td>0</td>\n",
              "    </tr>\n",
              "    <tr>\n",
              "      <th>b</th>\n",
              "      <td>1</td>\n",
              "      <td>1</td>\n",
              "    </tr>\n",
              "  </tbody>\n",
              "</table>\n",
              "</div>"
            ],
            "text/plain": [
              "   0  1\n",
              "a  0  0\n",
              "b  1  1"
            ]
          },
          "metadata": {
            "tags": []
          },
          "execution_count": 53
        }
      ]
    },
    {
      "cell_type": "code",
      "metadata": {
        "deletable": true,
        "editable": true,
        "id": "RERGaIDWLbYW",
        "colab": {
          "base_uri": "https://localhost:8080/",
          "height": 167
        },
        "outputId": "ecf073db-5415-4e0a-86c4-52d7a4604940"
      },
      "source": [
        "#specify the axes to be used on the other axes with join_axes:\n",
        "pd.concat([s1, s4], axis=1, join_axes=[['a', 'c', 'b', 'e']])\n",
        "#\"TypeError: concat() got an unexpected keyword argument 'join_axes'\" as \n",
        "#join_axes is deprecated starting from Pandas v1.0."
      ],
      "execution_count": null,
      "outputs": [
        {
          "output_type": "error",
          "ename": "TypeError",
          "evalue": "ignored",
          "traceback": [
            "\u001b[0;31m---------------------------------------------------------------------------\u001b[0m",
            "\u001b[0;31mTypeError\u001b[0m                                 Traceback (most recent call last)",
            "\u001b[0;32m<ipython-input-135-d17fc3678106>\u001b[0m in \u001b[0;36m<module>\u001b[0;34m()\u001b[0m\n\u001b[0;32m----> 1\u001b[0;31m \u001b[0mpd\u001b[0m\u001b[0;34m.\u001b[0m\u001b[0mconcat\u001b[0m\u001b[0;34m(\u001b[0m\u001b[0;34m[\u001b[0m\u001b[0ms1\u001b[0m\u001b[0;34m,\u001b[0m \u001b[0ms4\u001b[0m\u001b[0;34m]\u001b[0m\u001b[0;34m,\u001b[0m \u001b[0maxis\u001b[0m\u001b[0;34m=\u001b[0m\u001b[0;36m1\u001b[0m\u001b[0;34m,\u001b[0m \u001b[0mjoin_axes\u001b[0m\u001b[0;34m=\u001b[0m\u001b[0;34m[\u001b[0m\u001b[0ms1\u001b[0m\u001b[0;34m.\u001b[0m\u001b[0mindex\u001b[0m\u001b[0;34m]\u001b[0m\u001b[0;34m)\u001b[0m\u001b[0;31m#[['a', 'c', 'b', 'e']])\u001b[0m\u001b[0;34m\u001b[0m\u001b[0;34m\u001b[0m\u001b[0m\n\u001b[0m",
            "\u001b[0;31mTypeError\u001b[0m: concat() got an unexpected keyword argument 'join_axes'"
          ]
        }
      ]
    },
    {
      "cell_type": "code",
      "metadata": {
        "deletable": true,
        "editable": true,
        "id": "CSWE1nhnLbYb",
        "colab": {
          "base_uri": "https://localhost:8080/",
          "height": 238
        },
        "outputId": "c06fe515-0739-4f44-9249-c2233dea0b6e"
      },
      "source": [
        "#create a hierarchical index on the concatenation axis. \n",
        "#To do this, use the keys argument:\n",
        "result = pd.concat([s1, s1, s3], keys=['one', 'two', 'three'])\n",
        "print(result)\n",
        "print(type(result))\n",
        "print(result.unstack())\n",
        "type(result.unstack())\n",
        "#resukt.unstack().stack()"
      ],
      "execution_count": null,
      "outputs": [
        {
          "output_type": "stream",
          "text": [
            "one    a    0\n",
            "       b    1\n",
            "two    a    0\n",
            "       b    1\n",
            "three  f    5\n",
            "       g    6\n",
            "dtype: int64\n",
            "<class 'pandas.core.series.Series'>\n",
            "         a    b    f    g\n",
            "one    0.0  1.0  NaN  NaN\n",
            "two    0.0  1.0  NaN  NaN\n",
            "three  NaN  NaN  5.0  6.0\n"
          ],
          "name": "stdout"
        },
        {
          "output_type": "execute_result",
          "data": {
            "text/plain": [
              "pandas.core.frame.DataFrame"
            ]
          },
          "metadata": {
            "tags": []
          },
          "execution_count": 57
        }
      ]
    },
    {
      "cell_type": "code",
      "metadata": {
        "deletable": true,
        "editable": true,
        "id": "oiz1yzShLbYg",
        "colab": {
          "base_uri": "https://localhost:8080/",
          "height": 266
        },
        "outputId": "37e0a7b8-4452-4ee8-9b9b-d9e2585ae0a7"
      },
      "source": [
        "#In the case of combining Series along axis=1, the keys become the DataFrame \n",
        "#column headers:\n",
        "pd.concat([s1, s2, s3], axis=1, keys=['one', 'two', 'three'])"
      ],
      "execution_count": null,
      "outputs": [
        {
          "output_type": "execute_result",
          "data": {
            "text/html": [
              "<div>\n",
              "<style scoped>\n",
              "    .dataframe tbody tr th:only-of-type {\n",
              "        vertical-align: middle;\n",
              "    }\n",
              "\n",
              "    .dataframe tbody tr th {\n",
              "        vertical-align: top;\n",
              "    }\n",
              "\n",
              "    .dataframe thead th {\n",
              "        text-align: right;\n",
              "    }\n",
              "</style>\n",
              "<table border=\"1\" class=\"dataframe\">\n",
              "  <thead>\n",
              "    <tr style=\"text-align: right;\">\n",
              "      <th></th>\n",
              "      <th>one</th>\n",
              "      <th>two</th>\n",
              "      <th>three</th>\n",
              "    </tr>\n",
              "  </thead>\n",
              "  <tbody>\n",
              "    <tr>\n",
              "      <th>a</th>\n",
              "      <td>0.0</td>\n",
              "      <td>NaN</td>\n",
              "      <td>NaN</td>\n",
              "    </tr>\n",
              "    <tr>\n",
              "      <th>b</th>\n",
              "      <td>1.0</td>\n",
              "      <td>NaN</td>\n",
              "      <td>NaN</td>\n",
              "    </tr>\n",
              "    <tr>\n",
              "      <th>c</th>\n",
              "      <td>NaN</td>\n",
              "      <td>2.0</td>\n",
              "      <td>NaN</td>\n",
              "    </tr>\n",
              "    <tr>\n",
              "      <th>d</th>\n",
              "      <td>NaN</td>\n",
              "      <td>3.0</td>\n",
              "      <td>NaN</td>\n",
              "    </tr>\n",
              "    <tr>\n",
              "      <th>e</th>\n",
              "      <td>NaN</td>\n",
              "      <td>4.0</td>\n",
              "      <td>NaN</td>\n",
              "    </tr>\n",
              "    <tr>\n",
              "      <th>f</th>\n",
              "      <td>NaN</td>\n",
              "      <td>NaN</td>\n",
              "      <td>5.0</td>\n",
              "    </tr>\n",
              "    <tr>\n",
              "      <th>g</th>\n",
              "      <td>NaN</td>\n",
              "      <td>NaN</td>\n",
              "      <td>6.0</td>\n",
              "    </tr>\n",
              "  </tbody>\n",
              "</table>\n",
              "</div>"
            ],
            "text/plain": [
              "   one  two  three\n",
              "a  0.0  NaN    NaN\n",
              "b  1.0  NaN    NaN\n",
              "c  NaN  2.0    NaN\n",
              "d  NaN  3.0    NaN\n",
              "e  NaN  4.0    NaN\n",
              "f  NaN  NaN    5.0\n",
              "g  NaN  NaN    6.0"
            ]
          },
          "metadata": {
            "tags": []
          },
          "execution_count": 58
        }
      ]
    },
    {
      "cell_type": "code",
      "metadata": {
        "deletable": true,
        "editable": true,
        "id": "ItQWRZLpLbYj",
        "colab": {
          "base_uri": "https://localhost:8080/",
          "height": 292
        },
        "outputId": "fc43a347-16e4-4ecc-adcc-cb26ad0ecf09"
      },
      "source": [
        "#The same logic extends to DataFrame objects:\n",
        "df1 = pd.DataFrame(np.arange(6).reshape(3, 2), index=['a', 'b', 'c'],\n",
        "                   columns=['one', 'two'])\n",
        "df2 = pd.DataFrame(5 + np.arange(4).reshape(2, 2), index=['a', 'c'],\n",
        "                   columns=['three', 'four'])\n",
        "print(df1)\n",
        "print(df2)\n",
        "pd.concat([df1, df2], axis=1, keys=['level1', 'level2'])"
      ],
      "execution_count": null,
      "outputs": [
        {
          "output_type": "stream",
          "text": [
            "   one  two\n",
            "a    0    1\n",
            "b    2    3\n",
            "c    4    5\n",
            "   three  four\n",
            "a      5     6\n",
            "c      7     8\n"
          ],
          "name": "stdout"
        },
        {
          "output_type": "execute_result",
          "data": {
            "text/html": [
              "<div>\n",
              "<style scoped>\n",
              "    .dataframe tbody tr th:only-of-type {\n",
              "        vertical-align: middle;\n",
              "    }\n",
              "\n",
              "    .dataframe tbody tr th {\n",
              "        vertical-align: top;\n",
              "    }\n",
              "\n",
              "    .dataframe thead tr th {\n",
              "        text-align: left;\n",
              "    }\n",
              "</style>\n",
              "<table border=\"1\" class=\"dataframe\">\n",
              "  <thead>\n",
              "    <tr>\n",
              "      <th></th>\n",
              "      <th colspan=\"2\" halign=\"left\">level1</th>\n",
              "      <th colspan=\"2\" halign=\"left\">level2</th>\n",
              "    </tr>\n",
              "    <tr>\n",
              "      <th></th>\n",
              "      <th>one</th>\n",
              "      <th>two</th>\n",
              "      <th>three</th>\n",
              "      <th>four</th>\n",
              "    </tr>\n",
              "  </thead>\n",
              "  <tbody>\n",
              "    <tr>\n",
              "      <th>a</th>\n",
              "      <td>0</td>\n",
              "      <td>1</td>\n",
              "      <td>5.0</td>\n",
              "      <td>6.0</td>\n",
              "    </tr>\n",
              "    <tr>\n",
              "      <th>b</th>\n",
              "      <td>2</td>\n",
              "      <td>3</td>\n",
              "      <td>NaN</td>\n",
              "      <td>NaN</td>\n",
              "    </tr>\n",
              "    <tr>\n",
              "      <th>c</th>\n",
              "      <td>4</td>\n",
              "      <td>5</td>\n",
              "      <td>7.0</td>\n",
              "      <td>8.0</td>\n",
              "    </tr>\n",
              "  </tbody>\n",
              "</table>\n",
              "</div>"
            ],
            "text/plain": [
              "  level1     level2     \n",
              "     one two  three four\n",
              "a      0   1    5.0  6.0\n",
              "b      2   3    NaN  NaN\n",
              "c      4   5    7.0  8.0"
            ]
          },
          "metadata": {
            "tags": []
          },
          "execution_count": 60
        }
      ]
    },
    {
      "cell_type": "code",
      "metadata": {
        "deletable": true,
        "editable": true,
        "id": "3iv3oHDNLbYq",
        "colab": {
          "base_uri": "https://localhost:8080/",
          "height": 173
        },
        "outputId": "4a30c8d3-21f9-440f-f409-ca2a98e11bcd"
      },
      "source": [
        "#If you pass a dict of objects instead of a list, the dict’s keys will be \n",
        "# used for the keys option:\n",
        "pd.concat({'level1': df1, 'level2': df2}, axis=1)"
      ],
      "execution_count": null,
      "outputs": [
        {
          "output_type": "execute_result",
          "data": {
            "text/html": [
              "<div>\n",
              "<style scoped>\n",
              "    .dataframe tbody tr th:only-of-type {\n",
              "        vertical-align: middle;\n",
              "    }\n",
              "\n",
              "    .dataframe tbody tr th {\n",
              "        vertical-align: top;\n",
              "    }\n",
              "\n",
              "    .dataframe thead tr th {\n",
              "        text-align: left;\n",
              "    }\n",
              "</style>\n",
              "<table border=\"1\" class=\"dataframe\">\n",
              "  <thead>\n",
              "    <tr>\n",
              "      <th></th>\n",
              "      <th colspan=\"2\" halign=\"left\">level1</th>\n",
              "      <th colspan=\"2\" halign=\"left\">level2</th>\n",
              "    </tr>\n",
              "    <tr>\n",
              "      <th></th>\n",
              "      <th>one</th>\n",
              "      <th>two</th>\n",
              "      <th>three</th>\n",
              "      <th>four</th>\n",
              "    </tr>\n",
              "  </thead>\n",
              "  <tbody>\n",
              "    <tr>\n",
              "      <th>a</th>\n",
              "      <td>0</td>\n",
              "      <td>1</td>\n",
              "      <td>5.0</td>\n",
              "      <td>6.0</td>\n",
              "    </tr>\n",
              "    <tr>\n",
              "      <th>b</th>\n",
              "      <td>2</td>\n",
              "      <td>3</td>\n",
              "      <td>NaN</td>\n",
              "      <td>NaN</td>\n",
              "    </tr>\n",
              "    <tr>\n",
              "      <th>c</th>\n",
              "      <td>4</td>\n",
              "      <td>5</td>\n",
              "      <td>7.0</td>\n",
              "      <td>8.0</td>\n",
              "    </tr>\n",
              "  </tbody>\n",
              "</table>\n",
              "</div>"
            ],
            "text/plain": [
              "  level1     level2     \n",
              "     one two  three four\n",
              "a      0   1    5.0  6.0\n",
              "b      2   3    NaN  NaN\n",
              "c      4   5    7.0  8.0"
            ]
          },
          "metadata": {
            "tags": []
          },
          "execution_count": 61
        }
      ]
    },
    {
      "cell_type": "code",
      "metadata": {
        "deletable": true,
        "editable": true,
        "id": "Mrf-c3umLbYv",
        "colab": {
          "base_uri": "https://localhost:8080/",
          "height": 173
        },
        "outputId": "364a75da-7668-4c5d-f365-b444c1272429"
      },
      "source": [
        "#name the created axis levels with the names argument:\n",
        "pd.concat([df1, df2], axis=1, keys=['level1', 'level2'],\n",
        "          names=['upper', 'lower'])"
      ],
      "execution_count": null,
      "outputs": [
        {
          "output_type": "execute_result",
          "data": {
            "text/html": [
              "<div>\n",
              "<style scoped>\n",
              "    .dataframe tbody tr th:only-of-type {\n",
              "        vertical-align: middle;\n",
              "    }\n",
              "\n",
              "    .dataframe tbody tr th {\n",
              "        vertical-align: top;\n",
              "    }\n",
              "\n",
              "    .dataframe thead tr th {\n",
              "        text-align: left;\n",
              "    }\n",
              "</style>\n",
              "<table border=\"1\" class=\"dataframe\">\n",
              "  <thead>\n",
              "    <tr>\n",
              "      <th>upper</th>\n",
              "      <th colspan=\"2\" halign=\"left\">level1</th>\n",
              "      <th colspan=\"2\" halign=\"left\">level2</th>\n",
              "    </tr>\n",
              "    <tr>\n",
              "      <th>lower</th>\n",
              "      <th>one</th>\n",
              "      <th>two</th>\n",
              "      <th>three</th>\n",
              "      <th>four</th>\n",
              "    </tr>\n",
              "  </thead>\n",
              "  <tbody>\n",
              "    <tr>\n",
              "      <th>a</th>\n",
              "      <td>0</td>\n",
              "      <td>1</td>\n",
              "      <td>5.0</td>\n",
              "      <td>6.0</td>\n",
              "    </tr>\n",
              "    <tr>\n",
              "      <th>b</th>\n",
              "      <td>2</td>\n",
              "      <td>3</td>\n",
              "      <td>NaN</td>\n",
              "      <td>NaN</td>\n",
              "    </tr>\n",
              "    <tr>\n",
              "      <th>c</th>\n",
              "      <td>4</td>\n",
              "      <td>5</td>\n",
              "      <td>7.0</td>\n",
              "      <td>8.0</td>\n",
              "    </tr>\n",
              "  </tbody>\n",
              "</table>\n",
              "</div>"
            ],
            "text/plain": [
              "upper level1     level2     \n",
              "lower    one two  three four\n",
              "a          0   1    5.0  6.0\n",
              "b          2   3    NaN  NaN\n",
              "c          4   5    7.0  8.0"
            ]
          },
          "metadata": {
            "tags": []
          },
          "execution_count": 62
        }
      ]
    },
    {
      "cell_type": "code",
      "metadata": {
        "deletable": true,
        "editable": true,
        "id": "QH33FhIELbYz",
        "colab": {
          "base_uri": "https://localhost:8080/",
          "height": 181
        },
        "outputId": "3a987dec-85e6-44fe-fd84-06757efbad3d"
      },
      "source": [
        "#A last consideration concerns DataFrames in which the row index does not \n",
        "#contain any relevant data:\n",
        "df1 = pd.DataFrame(np.random.randn(3, 4), columns=['a', 'b', 'c', 'd'])\n",
        "df2 = pd.DataFrame(np.random.randn(2, 3), columns=['b', 'd', 'a'])\n",
        "print(df1)\n",
        "df2"
      ],
      "execution_count": null,
      "outputs": [
        {
          "output_type": "stream",
          "text": [
            "          a         b         c         d\n",
            "0 -0.204708  0.478943 -0.519439 -0.555730\n",
            "1  1.965781  1.393406  0.092908  0.281746\n",
            "2  0.769023  1.246435  1.007189 -1.296221\n"
          ],
          "name": "stdout"
        },
        {
          "output_type": "execute_result",
          "data": {
            "text/html": [
              "<div>\n",
              "<style scoped>\n",
              "    .dataframe tbody tr th:only-of-type {\n",
              "        vertical-align: middle;\n",
              "    }\n",
              "\n",
              "    .dataframe tbody tr th {\n",
              "        vertical-align: top;\n",
              "    }\n",
              "\n",
              "    .dataframe thead th {\n",
              "        text-align: right;\n",
              "    }\n",
              "</style>\n",
              "<table border=\"1\" class=\"dataframe\">\n",
              "  <thead>\n",
              "    <tr style=\"text-align: right;\">\n",
              "      <th></th>\n",
              "      <th>b</th>\n",
              "      <th>d</th>\n",
              "      <th>a</th>\n",
              "    </tr>\n",
              "  </thead>\n",
              "  <tbody>\n",
              "    <tr>\n",
              "      <th>0</th>\n",
              "      <td>0.274992</td>\n",
              "      <td>0.228913</td>\n",
              "      <td>1.352917</td>\n",
              "    </tr>\n",
              "    <tr>\n",
              "      <th>1</th>\n",
              "      <td>0.886429</td>\n",
              "      <td>-2.001637</td>\n",
              "      <td>-0.371843</td>\n",
              "    </tr>\n",
              "  </tbody>\n",
              "</table>\n",
              "</div>"
            ],
            "text/plain": [
              "          b         d         a\n",
              "0  0.274992  0.228913  1.352917\n",
              "1  0.886429 -2.001637 -0.371843"
            ]
          },
          "metadata": {
            "tags": []
          },
          "execution_count": 38
        }
      ]
    },
    {
      "cell_type": "code",
      "metadata": {
        "deletable": true,
        "editable": true,
        "id": "r30y61ZCLbY1",
        "colab": {
          "base_uri": "https://localhost:8080/",
          "height": 307
        },
        "outputId": "ec073a20-1afb-4be8-cc63-9e13779f8328"
      },
      "source": [
        "#you can pass ignore_index=True:\n",
        "print(pd.concat([df1,df2]))\n",
        "pd.concat([df1, df2], ignore_index=True)"
      ],
      "execution_count": null,
      "outputs": [
        {
          "output_type": "stream",
          "text": [
            "          a         b         c         d\n",
            "0 -0.204708  0.478943 -0.519439 -0.555730\n",
            "1  1.965781  1.393406  0.092908  0.281746\n",
            "2  0.769023  1.246435  1.007189 -1.296221\n",
            "0  1.352917  0.274992       NaN  0.228913\n",
            "1 -0.371843  0.886429       NaN -2.001637\n"
          ],
          "name": "stdout"
        },
        {
          "output_type": "execute_result",
          "data": {
            "text/html": [
              "<div>\n",
              "<style scoped>\n",
              "    .dataframe tbody tr th:only-of-type {\n",
              "        vertical-align: middle;\n",
              "    }\n",
              "\n",
              "    .dataframe tbody tr th {\n",
              "        vertical-align: top;\n",
              "    }\n",
              "\n",
              "    .dataframe thead th {\n",
              "        text-align: right;\n",
              "    }\n",
              "</style>\n",
              "<table border=\"1\" class=\"dataframe\">\n",
              "  <thead>\n",
              "    <tr style=\"text-align: right;\">\n",
              "      <th></th>\n",
              "      <th>a</th>\n",
              "      <th>b</th>\n",
              "      <th>c</th>\n",
              "      <th>d</th>\n",
              "    </tr>\n",
              "  </thead>\n",
              "  <tbody>\n",
              "    <tr>\n",
              "      <th>0</th>\n",
              "      <td>-0.204708</td>\n",
              "      <td>0.478943</td>\n",
              "      <td>-0.519439</td>\n",
              "      <td>-0.555730</td>\n",
              "    </tr>\n",
              "    <tr>\n",
              "      <th>1</th>\n",
              "      <td>1.965781</td>\n",
              "      <td>1.393406</td>\n",
              "      <td>0.092908</td>\n",
              "      <td>0.281746</td>\n",
              "    </tr>\n",
              "    <tr>\n",
              "      <th>2</th>\n",
              "      <td>0.769023</td>\n",
              "      <td>1.246435</td>\n",
              "      <td>1.007189</td>\n",
              "      <td>-1.296221</td>\n",
              "    </tr>\n",
              "    <tr>\n",
              "      <th>3</th>\n",
              "      <td>1.352917</td>\n",
              "      <td>0.274992</td>\n",
              "      <td>NaN</td>\n",
              "      <td>0.228913</td>\n",
              "    </tr>\n",
              "    <tr>\n",
              "      <th>4</th>\n",
              "      <td>-0.371843</td>\n",
              "      <td>0.886429</td>\n",
              "      <td>NaN</td>\n",
              "      <td>-2.001637</td>\n",
              "    </tr>\n",
              "  </tbody>\n",
              "</table>\n",
              "</div>"
            ],
            "text/plain": [
              "          a         b         c         d\n",
              "0 -0.204708  0.478943 -0.519439 -0.555730\n",
              "1  1.965781  1.393406  0.092908  0.281746\n",
              "2  0.769023  1.246435  1.007189 -1.296221\n",
              "3  1.352917  0.274992       NaN  0.228913\n",
              "4 -0.371843  0.886429       NaN -2.001637"
            ]
          },
          "metadata": {
            "tags": []
          },
          "execution_count": 39
        }
      ]
    },
    {
      "cell_type": "markdown",
      "metadata": {
        "id": "iMBAhYfDKR-o"
      },
      "source": [
        "![image.png](data:image/png;base64,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)"
      ]
    },
    {
      "cell_type": "markdown",
      "metadata": {
        "deletable": true,
        "editable": true,
        "id": "j5ysIfn1LbY4"
      },
      "source": [
        "### Combining Data with Overlap"
      ]
    },
    {
      "cell_type": "code",
      "metadata": {
        "id": "_whAiaD3KdQ-"
      },
      "source": [
        "#There is another data combination situation that can’t be expressed as either \n",
        "#a merge or concatenation operation. You may have two datasets whose indexes \n",
        "#overlap in full or part. As a motivating example, consider NumPy’s where \n",
        "#function, which performs the array-oriented equivalent of an if-else expression:"
      ],
      "execution_count": null,
      "outputs": []
    },
    {
      "cell_type": "code",
      "metadata": {
        "deletable": true,
        "editable": true,
        "id": "FUbmDjKRLbY5",
        "colab": {
          "base_uri": "https://localhost:8080/",
          "height": 283
        },
        "outputId": "c1b92912-ea0c-4913-b2c0-563863ee13d2"
      },
      "source": [
        "a = pd.Series([np.nan, 2.5, np.nan, 3.5, 4.5, np.nan],\n",
        "              index=['f', 'e', 'd', 'c', 'b', 'a'])\n",
        "b = pd.Series(np.arange(len(a), dtype=np.float64),\n",
        "              index=['f', 'e', 'd', 'c', 'b', 'a'])\n",
        "b[-1] = np.nan\n",
        "print(a)\n",
        "print(b)\n",
        "np.where(pd.isnull(a), b, a)"
      ],
      "execution_count": null,
      "outputs": [
        {
          "output_type": "stream",
          "text": [
            "f    NaN\n",
            "e    2.5\n",
            "d    NaN\n",
            "c    3.5\n",
            "b    4.5\n",
            "a    NaN\n",
            "dtype: float64\n",
            "f    0.0\n",
            "e    1.0\n",
            "d    2.0\n",
            "c    3.0\n",
            "b    4.0\n",
            "a    NaN\n",
            "dtype: float64\n"
          ],
          "name": "stdout"
        },
        {
          "output_type": "execute_result",
          "data": {
            "text/plain": [
              "array([0. , 2.5, 2. , 3.5, 4.5, nan])"
            ]
          },
          "metadata": {
            "tags": []
          },
          "execution_count": 144
        }
      ]
    },
    {
      "cell_type": "code",
      "metadata": {
        "deletable": true,
        "editable": true,
        "id": "zw0Z3fOuLbY8",
        "colab": {
          "base_uri": "https://localhost:8080/",
          "height": 141
        },
        "outputId": "f2a7cc3e-5c4a-4b04-a8ca-67a5e2827d40"
      },
      "source": [
        "#Series has a combine_first method, which performs the equivalent of this \n",
        "#operation along with pandas’s usual data alignment logic:\n",
        "b[:-2].combine_first(a[2:])"
      ],
      "execution_count": null,
      "outputs": [
        {
          "output_type": "execute_result",
          "data": {
            "text/plain": [
              "a    NaN\n",
              "b    4.5\n",
              "c    3.0\n",
              "d    2.0\n",
              "e    1.0\n",
              "f    0.0\n",
              "dtype: float64"
            ]
          },
          "metadata": {
            "tags": []
          },
          "execution_count": 145
        }
      ]
    },
    {
      "cell_type": "code",
      "metadata": {
        "deletable": true,
        "editable": true,
        "id": "wsZ7Xn8uLbY-",
        "colab": {
          "base_uri": "https://localhost:8080/",
          "height": 393
        },
        "outputId": "a358c525-9c8b-4252-800b-7a2b067998c2"
      },
      "source": [
        "#With DataFrames, combine_first does the same thing column by column, so you\n",
        "#can think of it as “patching” missing data in the calling object with data \n",
        "#from the object you pass:\n",
        "df1 = pd.DataFrame({'a': [1., np.nan, 5., np.nan],\n",
        "                    'b': [np.nan, 2., np.nan, 6.],\n",
        "                    'c': range(2, 18, 4)})\n",
        "df2 = pd.DataFrame({'a': [5., 4., np.nan, 3., 7.],\n",
        "                    'b': [np.nan, 3., 4., 6., 8.]})\n",
        "print(df1)\n",
        "print(df2)\n",
        "df1.combine_first(df2)"
      ],
      "execution_count": null,
      "outputs": [
        {
          "output_type": "stream",
          "text": [
            "     a    b   c\n",
            "0  1.0  NaN   2\n",
            "1  NaN  2.0   6\n",
            "2  5.0  NaN  10\n",
            "3  NaN  6.0  14\n",
            "     a    b\n",
            "0  5.0  NaN\n",
            "1  4.0  3.0\n",
            "2  NaN  4.0\n",
            "3  3.0  6.0\n",
            "4  7.0  8.0\n"
          ],
          "name": "stdout"
        },
        {
          "output_type": "execute_result",
          "data": {
            "text/html": [
              "<div>\n",
              "<style scoped>\n",
              "    .dataframe tbody tr th:only-of-type {\n",
              "        vertical-align: middle;\n",
              "    }\n",
              "\n",
              "    .dataframe tbody tr th {\n",
              "        vertical-align: top;\n",
              "    }\n",
              "\n",
              "    .dataframe thead th {\n",
              "        text-align: right;\n",
              "    }\n",
              "</style>\n",
              "<table border=\"1\" class=\"dataframe\">\n",
              "  <thead>\n",
              "    <tr style=\"text-align: right;\">\n",
              "      <th></th>\n",
              "      <th>a</th>\n",
              "      <th>b</th>\n",
              "      <th>c</th>\n",
              "    </tr>\n",
              "  </thead>\n",
              "  <tbody>\n",
              "    <tr>\n",
              "      <th>0</th>\n",
              "      <td>1.0</td>\n",
              "      <td>NaN</td>\n",
              "      <td>2.0</td>\n",
              "    </tr>\n",
              "    <tr>\n",
              "      <th>1</th>\n",
              "      <td>4.0</td>\n",
              "      <td>2.0</td>\n",
              "      <td>6.0</td>\n",
              "    </tr>\n",
              "    <tr>\n",
              "      <th>2</th>\n",
              "      <td>5.0</td>\n",
              "      <td>4.0</td>\n",
              "      <td>10.0</td>\n",
              "    </tr>\n",
              "    <tr>\n",
              "      <th>3</th>\n",
              "      <td>3.0</td>\n",
              "      <td>6.0</td>\n",
              "      <td>14.0</td>\n",
              "    </tr>\n",
              "    <tr>\n",
              "      <th>4</th>\n",
              "      <td>7.0</td>\n",
              "      <td>8.0</td>\n",
              "      <td>NaN</td>\n",
              "    </tr>\n",
              "  </tbody>\n",
              "</table>\n",
              "</div>"
            ],
            "text/plain": [
              "     a    b     c\n",
              "0  1.0  NaN   2.0\n",
              "1  4.0  2.0   6.0\n",
              "2  5.0  4.0  10.0\n",
              "3  3.0  6.0  14.0\n",
              "4  7.0  8.0   NaN"
            ]
          },
          "metadata": {
            "tags": []
          },
          "execution_count": 147
        }
      ]
    },
    {
      "cell_type": "markdown",
      "metadata": {
        "deletable": true,
        "editable": true,
        "id": "ZluKiSrYLbZF"
      },
      "source": [
        "## Reshaping and Pivoting"
      ]
    },
    {
      "cell_type": "code",
      "metadata": {
        "id": "ZDKesNK0Li4k"
      },
      "source": [
        "#There are a number of basic operations for rearranging tabular data. These are \n",
        "#alternatingly referred to as reshape or pivot operations."
      ],
      "execution_count": null,
      "outputs": []
    },
    {
      "cell_type": "markdown",
      "metadata": {
        "deletable": true,
        "editable": true,
        "id": "h-OH6yxMLbZG"
      },
      "source": [
        "### Reshaping with Hierarchical Indexing"
      ]
    },
    {
      "cell_type": "code",
      "metadata": {
        "id": "IfGxV0Jl_3CT"
      },
      "source": [
        "#Hierarchical indexing provides a consistent way to rearrange data in a \n",
        "#DataFrame. There are two primary actions:\n",
        "#stack - This “rotates” or pivots from the columns in the data to the rows\n",
        "#unstack - This pivots from the rows into the columns"
      ],
      "execution_count": null,
      "outputs": []
    },
    {
      "cell_type": "code",
      "metadata": {
        "deletable": true,
        "editable": true,
        "id": "2jPdXrXDLbZG",
        "colab": {
          "base_uri": "https://localhost:8080/",
          "height": 142
        },
        "outputId": "954c051b-9724-436b-ec60-15fb56d7dbd1"
      },
      "source": [
        "#Consider a small Data‐Frame with string arrays as row and column indexes:\n",
        "data = pd.DataFrame(np.arange(6).reshape((2, 3)),\n",
        "                    index=pd.Index(['Ohio', 'Colorado'], name='state'),\n",
        "                    columns=pd.Index(['one', 'two', 'three'],\n",
        "                    name='number'))\n",
        "data"
      ],
      "execution_count": null,
      "outputs": [
        {
          "output_type": "execute_result",
          "data": {
            "text/html": [
              "<div>\n",
              "<style scoped>\n",
              "    .dataframe tbody tr th:only-of-type {\n",
              "        vertical-align: middle;\n",
              "    }\n",
              "\n",
              "    .dataframe tbody tr th {\n",
              "        vertical-align: top;\n",
              "    }\n",
              "\n",
              "    .dataframe thead th {\n",
              "        text-align: right;\n",
              "    }\n",
              "</style>\n",
              "<table border=\"1\" class=\"dataframe\">\n",
              "  <thead>\n",
              "    <tr style=\"text-align: right;\">\n",
              "      <th>number</th>\n",
              "      <th>one</th>\n",
              "      <th>two</th>\n",
              "      <th>three</th>\n",
              "    </tr>\n",
              "    <tr>\n",
              "      <th>state</th>\n",
              "      <th></th>\n",
              "      <th></th>\n",
              "      <th></th>\n",
              "    </tr>\n",
              "  </thead>\n",
              "  <tbody>\n",
              "    <tr>\n",
              "      <th>Ohio</th>\n",
              "      <td>0</td>\n",
              "      <td>1</td>\n",
              "      <td>2</td>\n",
              "    </tr>\n",
              "    <tr>\n",
              "      <th>Colorado</th>\n",
              "      <td>3</td>\n",
              "      <td>4</td>\n",
              "      <td>5</td>\n",
              "    </tr>\n",
              "  </tbody>\n",
              "</table>\n",
              "</div>"
            ],
            "text/plain": [
              "number    one  two  three\n",
              "state                    \n",
              "Ohio        0    1      2\n",
              "Colorado    3    4      5"
            ]
          },
          "metadata": {
            "tags": []
          },
          "execution_count": 8
        }
      ]
    },
    {
      "cell_type": "code",
      "metadata": {
        "deletable": true,
        "editable": true,
        "id": "c7p6ljYeLbZO",
        "colab": {
          "base_uri": "https://localhost:8080/"
        },
        "outputId": "38f5c11a-eb4a-4bce-b403-f527271b7bbe"
      },
      "source": [
        "#Using the stack method on this data pivots the columns into the rows, \n",
        "#producing a Series:\n",
        "result = data.stack()\n",
        "print(type(result))\n",
        "result"
      ],
      "execution_count": null,
      "outputs": [
        {
          "output_type": "stream",
          "text": [
            "<class 'pandas.core.series.Series'>\n"
          ],
          "name": "stdout"
        },
        {
          "output_type": "execute_result",
          "data": {
            "text/plain": [
              "state     number\n",
              "Ohio      one       0\n",
              "          two       1\n",
              "          three     2\n",
              "Colorado  one       3\n",
              "          two       4\n",
              "          three     5\n",
              "dtype: int64"
            ]
          },
          "metadata": {
            "tags": []
          },
          "execution_count": 10
        }
      ]
    },
    {
      "cell_type": "code",
      "metadata": {
        "deletable": true,
        "editable": true,
        "id": "Ze5zhubaLbZR",
        "colab": {
          "base_uri": "https://localhost:8080/",
          "height": 138
        },
        "outputId": "5f790d5e-3f52-45a2-d488-a165d936504b"
      },
      "source": [
        "#From a hierarchically indexed Series, you can rearrange the data back into a \n",
        "#Data‐Frame with unstack:\n",
        "result.unstack()"
      ],
      "execution_count": null,
      "outputs": [
        {
          "output_type": "execute_result",
          "data": {
            "text/html": [
              "<div>\n",
              "<style scoped>\n",
              "    .dataframe tbody tr th:only-of-type {\n",
              "        vertical-align: middle;\n",
              "    }\n",
              "\n",
              "    .dataframe tbody tr th {\n",
              "        vertical-align: top;\n",
              "    }\n",
              "\n",
              "    .dataframe thead th {\n",
              "        text-align: right;\n",
              "    }\n",
              "</style>\n",
              "<table border=\"1\" class=\"dataframe\">\n",
              "  <thead>\n",
              "    <tr style=\"text-align: right;\">\n",
              "      <th>number</th>\n",
              "      <th>one</th>\n",
              "      <th>two</th>\n",
              "      <th>three</th>\n",
              "    </tr>\n",
              "    <tr>\n",
              "      <th>state</th>\n",
              "      <th></th>\n",
              "      <th></th>\n",
              "      <th></th>\n",
              "    </tr>\n",
              "  </thead>\n",
              "  <tbody>\n",
              "    <tr>\n",
              "      <th>Ohio</th>\n",
              "      <td>0</td>\n",
              "      <td>1</td>\n",
              "      <td>2</td>\n",
              "    </tr>\n",
              "    <tr>\n",
              "      <th>Colorado</th>\n",
              "      <td>3</td>\n",
              "      <td>4</td>\n",
              "      <td>5</td>\n",
              "    </tr>\n",
              "  </tbody>\n",
              "</table>\n",
              "</div>"
            ],
            "text/plain": [
              "number    one  two  three\n",
              "state                    \n",
              "Ohio        0    1      2\n",
              "Colorado    3    4      5"
            ]
          },
          "metadata": {
            "tags": []
          },
          "execution_count": 47
        }
      ]
    },
    {
      "cell_type": "code",
      "metadata": {
        "deletable": true,
        "editable": true,
        "id": "ckNUK4vcLbZX",
        "colab": {
          "base_uri": "https://localhost:8080/",
          "height": 514
        },
        "outputId": "504ed99b-7e25-4c75-c6e5-d8ce17a81ec8"
      },
      "source": [
        "#By default the innermost level is unstacked (same with stack). You can unstack \n",
        "#a different level by passing a level number or name:\n",
        "print(result)\n",
        "print(result.unstack(0),\"\\n\")\n",
        "print(result.unstack(1),\"\\n\")\n",
        "result.unstack('state')"
      ],
      "execution_count": null,
      "outputs": [
        {
          "output_type": "stream",
          "text": [
            "state     number\n",
            "Ohio      one       0\n",
            "          two       1\n",
            "          three     2\n",
            "Colorado  one       3\n",
            "          two       4\n",
            "          three     5\n",
            "dtype: int64\n",
            "state   Ohio  Colorado\n",
            "number                \n",
            "one        0         3\n",
            "two        1         4\n",
            "three      2         5 \n",
            "\n",
            "number    one  two  three\n",
            "state                    \n",
            "Ohio        0    1      2\n",
            "Colorado    3    4      5 \n",
            "\n"
          ],
          "name": "stdout"
        },
        {
          "output_type": "execute_result",
          "data": {
            "text/html": [
              "<div>\n",
              "<style scoped>\n",
              "    .dataframe tbody tr th:only-of-type {\n",
              "        vertical-align: middle;\n",
              "    }\n",
              "\n",
              "    .dataframe tbody tr th {\n",
              "        vertical-align: top;\n",
              "    }\n",
              "\n",
              "    .dataframe thead th {\n",
              "        text-align: right;\n",
              "    }\n",
              "</style>\n",
              "<table border=\"1\" class=\"dataframe\">\n",
              "  <thead>\n",
              "    <tr style=\"text-align: right;\">\n",
              "      <th>state</th>\n",
              "      <th>Ohio</th>\n",
              "      <th>Colorado</th>\n",
              "    </tr>\n",
              "    <tr>\n",
              "      <th>number</th>\n",
              "      <th></th>\n",
              "      <th></th>\n",
              "    </tr>\n",
              "  </thead>\n",
              "  <tbody>\n",
              "    <tr>\n",
              "      <th>one</th>\n",
              "      <td>0</td>\n",
              "      <td>3</td>\n",
              "    </tr>\n",
              "    <tr>\n",
              "      <th>two</th>\n",
              "      <td>1</td>\n",
              "      <td>4</td>\n",
              "    </tr>\n",
              "    <tr>\n",
              "      <th>three</th>\n",
              "      <td>2</td>\n",
              "      <td>5</td>\n",
              "    </tr>\n",
              "  </tbody>\n",
              "</table>\n",
              "</div>"
            ],
            "text/plain": [
              "state   Ohio  Colorado\n",
              "number                \n",
              "one        0         3\n",
              "two        1         4\n",
              "three      2         5"
            ]
          },
          "metadata": {
            "tags": []
          },
          "execution_count": 51
        }
      ]
    },
    {
      "cell_type": "code",
      "metadata": {
        "deletable": true,
        "editable": true,
        "id": "yctO1mB5LbZa",
        "colab": {
          "base_uri": "https://localhost:8080/",
          "height": 247
        },
        "outputId": "bc4429a1-04e1-4a09-e7e6-d1b060325085"
      },
      "source": [
        "#Unstacking might introduce missing data if all of the values in the level \n",
        "#aren’t found in each of the subgroups:\n",
        "s1 = pd.Series([0, 1, 2, 3], index=['a', 'b', 'c', 'd'])\n",
        "s2 = pd.Series([4, 5, 6], index=['c', 'd', 'e'])\n",
        "data2 = pd.concat([s1, s2], keys=['one', 'two'])\n",
        "print(data2)\n",
        "data2.unstack()"
      ],
      "execution_count": null,
      "outputs": [
        {
          "output_type": "stream",
          "text": [
            "one  a    0\n",
            "     b    1\n",
            "     c    2\n",
            "     d    3\n",
            "two  c    4\n",
            "     d    5\n",
            "     e    6\n",
            "dtype: int64\n"
          ],
          "name": "stdout"
        },
        {
          "output_type": "execute_result",
          "data": {
            "text/html": [
              "<div>\n",
              "<style scoped>\n",
              "    .dataframe tbody tr th:only-of-type {\n",
              "        vertical-align: middle;\n",
              "    }\n",
              "\n",
              "    .dataframe tbody tr th {\n",
              "        vertical-align: top;\n",
              "    }\n",
              "\n",
              "    .dataframe thead th {\n",
              "        text-align: right;\n",
              "    }\n",
              "</style>\n",
              "<table border=\"1\" class=\"dataframe\">\n",
              "  <thead>\n",
              "    <tr style=\"text-align: right;\">\n",
              "      <th></th>\n",
              "      <th>a</th>\n",
              "      <th>b</th>\n",
              "      <th>c</th>\n",
              "      <th>d</th>\n",
              "      <th>e</th>\n",
              "    </tr>\n",
              "  </thead>\n",
              "  <tbody>\n",
              "    <tr>\n",
              "      <th>one</th>\n",
              "      <td>0.0</td>\n",
              "      <td>1.0</td>\n",
              "      <td>2.0</td>\n",
              "      <td>3.0</td>\n",
              "      <td>NaN</td>\n",
              "    </tr>\n",
              "    <tr>\n",
              "      <th>two</th>\n",
              "      <td>NaN</td>\n",
              "      <td>NaN</td>\n",
              "      <td>4.0</td>\n",
              "      <td>5.0</td>\n",
              "      <td>6.0</td>\n",
              "    </tr>\n",
              "  </tbody>\n",
              "</table>\n",
              "</div>"
            ],
            "text/plain": [
              "       a    b    c    d    e\n",
              "one  0.0  1.0  2.0  3.0  NaN\n",
              "two  NaN  NaN  4.0  5.0  6.0"
            ]
          },
          "metadata": {
            "tags": []
          },
          "execution_count": 12
        }
      ]
    },
    {
      "cell_type": "code",
      "metadata": {
        "deletable": true,
        "editable": true,
        "id": "ZZxzMYe1LbZc",
        "colab": {
          "base_uri": "https://localhost:8080/"
        },
        "outputId": "9f2c3d76-db78-4832-d4ff-e0fb83a59d0b"
      },
      "source": [
        "#Stacking filters out missing data by default, so the operation is more \n",
        "#easily invertible:\n",
        "print(data2.unstack(), \"\\n\")\n",
        "print(data2.unstack().stack(), \"\\n\")\n",
        "data2.unstack().stack(dropna=False)"
      ],
      "execution_count": null,
      "outputs": [
        {
          "output_type": "stream",
          "text": [
            "       a    b    c    d    e\n",
            "one  0.0  1.0  2.0  3.0  NaN\n",
            "two  NaN  NaN  4.0  5.0  6.0 \n",
            "\n",
            "one  a    0.0\n",
            "     b    1.0\n",
            "     c    2.0\n",
            "     d    3.0\n",
            "two  c    4.0\n",
            "     d    5.0\n",
            "     e    6.0\n",
            "dtype: float64 \n",
            "\n"
          ],
          "name": "stdout"
        },
        {
          "output_type": "execute_result",
          "data": {
            "text/plain": [
              "one  a    0.0\n",
              "     b    1.0\n",
              "     c    2.0\n",
              "     d    3.0\n",
              "     e    NaN\n",
              "two  a    NaN\n",
              "     b    NaN\n",
              "     c    4.0\n",
              "     d    5.0\n",
              "     e    6.0\n",
              "dtype: float64"
            ]
          },
          "metadata": {
            "tags": []
          },
          "execution_count": 13
        }
      ]
    },
    {
      "cell_type": "code",
      "metadata": {
        "deletable": true,
        "editable": true,
        "id": "Hd15hc5mLbZh",
        "colab": {
          "base_uri": "https://localhost:8080/",
          "height": 357
        },
        "outputId": "6d0cdc68-a4b8-43b4-8715-f5ebc935ba49"
      },
      "source": [
        "#When you unstack in a DataFrame, the level unstacked becomes the lowest level \n",
        "#in the result:\n",
        "df = pd.DataFrame({'left': result, 'right': result + 5},\n",
        "                  columns=pd.Index(['left', 'right'], name='side'))\n",
        "print(df,\"\\n\")\n",
        "df.unstack('state')"
      ],
      "execution_count": null,
      "outputs": [
        {
          "output_type": "stream",
          "text": [
            "side             left  right\n",
            "state    number             \n",
            "Ohio     one        0      5\n",
            "         two        1      6\n",
            "         three      2      7\n",
            "Colorado one        3      8\n",
            "         two        4      9\n",
            "         three      5     10 \n",
            "\n"
          ],
          "name": "stdout"
        },
        {
          "output_type": "execute_result",
          "data": {
            "text/html": [
              "<div>\n",
              "<style scoped>\n",
              "    .dataframe tbody tr th:only-of-type {\n",
              "        vertical-align: middle;\n",
              "    }\n",
              "\n",
              "    .dataframe tbody tr th {\n",
              "        vertical-align: top;\n",
              "    }\n",
              "\n",
              "    .dataframe thead tr th {\n",
              "        text-align: left;\n",
              "    }\n",
              "\n",
              "    .dataframe thead tr:last-of-type th {\n",
              "        text-align: right;\n",
              "    }\n",
              "</style>\n",
              "<table border=\"1\" class=\"dataframe\">\n",
              "  <thead>\n",
              "    <tr>\n",
              "      <th>side</th>\n",
              "      <th colspan=\"2\" halign=\"left\">left</th>\n",
              "      <th colspan=\"2\" halign=\"left\">right</th>\n",
              "    </tr>\n",
              "    <tr>\n",
              "      <th>state</th>\n",
              "      <th>Ohio</th>\n",
              "      <th>Colorado</th>\n",
              "      <th>Ohio</th>\n",
              "      <th>Colorado</th>\n",
              "    </tr>\n",
              "    <tr>\n",
              "      <th>number</th>\n",
              "      <th></th>\n",
              "      <th></th>\n",
              "      <th></th>\n",
              "      <th></th>\n",
              "    </tr>\n",
              "  </thead>\n",
              "  <tbody>\n",
              "    <tr>\n",
              "      <th>one</th>\n",
              "      <td>0</td>\n",
              "      <td>3</td>\n",
              "      <td>5</td>\n",
              "      <td>8</td>\n",
              "    </tr>\n",
              "    <tr>\n",
              "      <th>two</th>\n",
              "      <td>1</td>\n",
              "      <td>4</td>\n",
              "      <td>6</td>\n",
              "      <td>9</td>\n",
              "    </tr>\n",
              "    <tr>\n",
              "      <th>three</th>\n",
              "      <td>2</td>\n",
              "      <td>5</td>\n",
              "      <td>7</td>\n",
              "      <td>10</td>\n",
              "    </tr>\n",
              "  </tbody>\n",
              "</table>\n",
              "</div>"
            ],
            "text/plain": [
              "side   left          right         \n",
              "state  Ohio Colorado  Ohio Colorado\n",
              "number                             \n",
              "one       0        3     5        8\n",
              "two       1        4     6        9\n",
              "three     2        5     7       10"
            ]
          },
          "metadata": {
            "tags": []
          },
          "execution_count": 14
        }
      ]
    },
    {
      "cell_type": "code",
      "metadata": {
        "deletable": true,
        "editable": true,
        "id": "h-P3ktyTLbZm",
        "colab": {
          "base_uri": "https://localhost:8080/",
          "height": 263
        },
        "outputId": "beabae7e-88cc-4bd6-bda8-243f1d5e01ed"
      },
      "source": [
        "#When calling stack, we can indicate the name of the axis to stack:\n",
        "df.unstack('state').stack('side')"
      ],
      "execution_count": null,
      "outputs": [
        {
          "output_type": "execute_result",
          "data": {
            "text/html": [
              "<div>\n",
              "<style scoped>\n",
              "    .dataframe tbody tr th:only-of-type {\n",
              "        vertical-align: middle;\n",
              "    }\n",
              "\n",
              "    .dataframe tbody tr th {\n",
              "        vertical-align: top;\n",
              "    }\n",
              "\n",
              "    .dataframe thead th {\n",
              "        text-align: right;\n",
              "    }\n",
              "</style>\n",
              "<table border=\"1\" class=\"dataframe\">\n",
              "  <thead>\n",
              "    <tr style=\"text-align: right;\">\n",
              "      <th></th>\n",
              "      <th>state</th>\n",
              "      <th>Colorado</th>\n",
              "      <th>Ohio</th>\n",
              "    </tr>\n",
              "    <tr>\n",
              "      <th>number</th>\n",
              "      <th>side</th>\n",
              "      <th></th>\n",
              "      <th></th>\n",
              "    </tr>\n",
              "  </thead>\n",
              "  <tbody>\n",
              "    <tr>\n",
              "      <th rowspan=\"2\" valign=\"top\">one</th>\n",
              "      <th>left</th>\n",
              "      <td>3</td>\n",
              "      <td>0</td>\n",
              "    </tr>\n",
              "    <tr>\n",
              "      <th>right</th>\n",
              "      <td>8</td>\n",
              "      <td>5</td>\n",
              "    </tr>\n",
              "    <tr>\n",
              "      <th rowspan=\"2\" valign=\"top\">two</th>\n",
              "      <th>left</th>\n",
              "      <td>4</td>\n",
              "      <td>1</td>\n",
              "    </tr>\n",
              "    <tr>\n",
              "      <th>right</th>\n",
              "      <td>9</td>\n",
              "      <td>6</td>\n",
              "    </tr>\n",
              "    <tr>\n",
              "      <th rowspan=\"2\" valign=\"top\">three</th>\n",
              "      <th>left</th>\n",
              "      <td>5</td>\n",
              "      <td>2</td>\n",
              "    </tr>\n",
              "    <tr>\n",
              "      <th>right</th>\n",
              "      <td>10</td>\n",
              "      <td>7</td>\n",
              "    </tr>\n",
              "  </tbody>\n",
              "</table>\n",
              "</div>"
            ],
            "text/plain": [
              "state         Colorado  Ohio\n",
              "number side                 \n",
              "one    left          3     0\n",
              "       right         8     5\n",
              "two    left          4     1\n",
              "       right         9     6\n",
              "three  left          5     2\n",
              "       right        10     7"
            ]
          },
          "metadata": {
            "tags": []
          },
          "execution_count": 18
        }
      ]
    },
    {
      "cell_type": "markdown",
      "metadata": {
        "deletable": true,
        "editable": true,
        "id": "32OyTDDDLbZx"
      },
      "source": [
        "### Pivoting “Long” to “Wide” Format"
      ]
    },
    {
      "cell_type": "code",
      "metadata": {
        "id": "rx8wQPBiCiv-"
      },
      "source": [
        "#A common way to store multiple time series in databases and CSV is in so-called \n",
        "#long or stacked format. Let’s load some example data and do a small amount of \n",
        "#time series wrangling and other data cleaning:"
      ],
      "execution_count": null,
      "outputs": []
    },
    {
      "cell_type": "code",
      "metadata": {
        "id": "sdGId4iG-ReO",
        "colab": {
          "base_uri": "https://localhost:8080/"
        },
        "outputId": "b28fee69-73c1-4ff2-db2c-50083f538fe7"
      },
      "source": [
        "prg = pd.period_range('2010', '2015', freq='A')\n",
        "prg\n",
        "type(prg)\n",
        "#The PeriodIndex class stores a sequence of periods and can serve as an axis \n",
        "#index in any pandas data structure:"
      ],
      "execution_count": null,
      "outputs": [
        {
          "output_type": "execute_result",
          "data": {
            "text/plain": [
              "pandas.core.indexes.period.PeriodIndex"
            ]
          },
          "metadata": {
            "tags": []
          },
          "execution_count": 5
        }
      ]
    },
    {
      "cell_type": "code",
      "metadata": {
        "deletable": true,
        "editable": true,
        "id": "jY1z2aIDLbZy",
        "colab": {
          "base_uri": "https://localhost:8080/"
        },
        "outputId": "279d33f0-91fd-45d0-875b-a1c73ed5ea96"
      },
      "source": [
        "#PeriodIndex combines the year and quarter columns to create a kind of time \n",
        "#interval type.\n",
        "data = pd.read_csv('macrodata.csv')\n",
        "print(data.head())\n",
        "periods = pd.PeriodIndex(year=data.year, quarter=data.quarter,\n",
        "                         name='date')\n",
        "#PeriodIndex combines the year & quarter columns to create time interval type.\n",
        "columns = pd.Index(['realgdp', 'infl', 'unemp'], name='item')\n",
        "data = data.reindex(columns=columns)\n",
        "print(data)\n",
        "data.index = periods.to_timestamp('D', 'end')\n",
        "print(data.index)\n",
        "#ldata = data.stack().reset_index()\n",
        "#print(ldata)\n",
        "ldata = data.stack().reset_index().rename(columns={0: 'value'})"
      ],
      "execution_count": null,
      "outputs": [
        {
          "output_type": "stream",
          "text": [
            "     year  quarter   realgdp  realcons  ...  unemp      pop  infl  realint\n",
            "0  1959.0      1.0  2710.349    1707.4  ...    5.8  177.146  0.00     0.00\n",
            "1  1959.0      2.0  2778.801    1733.7  ...    5.1  177.830  2.34     0.74\n",
            "2  1959.0      3.0  2775.488    1751.8  ...    5.3  178.657  2.74     1.09\n",
            "3  1959.0      4.0  2785.204    1753.7  ...    5.6  179.386  0.27     4.06\n",
            "4  1960.0      1.0  2847.699    1770.5  ...    5.2  180.007  2.31     1.19\n",
            "\n",
            "[5 rows x 14 columns]\n",
            "item    realgdp  infl  unemp\n",
            "0      2710.349  0.00    5.8\n",
            "1      2778.801  2.34    5.1\n",
            "2      2775.488  2.74    5.3\n",
            "3      2785.204  0.27    5.6\n",
            "4      2847.699  2.31    5.2\n",
            "..          ...   ...    ...\n",
            "198   13324.600 -3.16    6.0\n",
            "199   13141.920 -8.79    6.9\n",
            "200   12925.410  0.94    8.1\n",
            "201   12901.504  3.37    9.2\n",
            "202   12990.341  3.56    9.6\n",
            "\n",
            "[203 rows x 3 columns]\n",
            "DatetimeIndex(['1959-03-31 23:59:59.999999999',\n",
            "               '1959-06-30 23:59:59.999999999',\n",
            "               '1959-09-30 23:59:59.999999999',\n",
            "               '1959-12-31 23:59:59.999999999',\n",
            "               '1960-03-31 23:59:59.999999999',\n",
            "               '1960-06-30 23:59:59.999999999',\n",
            "               '1960-09-30 23:59:59.999999999',\n",
            "               '1960-12-31 23:59:59.999999999',\n",
            "               '1961-03-31 23:59:59.999999999',\n",
            "               '1961-06-30 23:59:59.999999999',\n",
            "               ...\n",
            "               '2007-06-30 23:59:59.999999999',\n",
            "               '2007-09-30 23:59:59.999999999',\n",
            "               '2007-12-31 23:59:59.999999999',\n",
            "               '2008-03-31 23:59:59.999999999',\n",
            "               '2008-06-30 23:59:59.999999999',\n",
            "               '2008-09-30 23:59:59.999999999',\n",
            "               '2008-12-31 23:59:59.999999999',\n",
            "               '2009-03-31 23:59:59.999999999',\n",
            "               '2009-06-30 23:59:59.999999999',\n",
            "               '2009-09-30 23:59:59.999999999'],\n",
            "              dtype='datetime64[ns]', name='date', length=203, freq=None)\n"
          ],
          "name": "stdout"
        }
      ]
    },
    {
      "cell_type": "code",
      "metadata": {
        "deletable": true,
        "editable": true,
        "id": "FHbSjcCGLbZ0",
        "colab": {
          "base_uri": "https://localhost:8080/",
          "height": 343
        },
        "outputId": "43b1f11a-c1f5-430c-ed42-29d07318c0ba"
      },
      "source": [
        "#This is the so-called long format for multiple time series, or other \n",
        "#observational data with two or more keys (here, our keys are date and item). \n",
        "#Each row in the table represents a single observation.\n",
        "ldata[:10]"
      ],
      "execution_count": null,
      "outputs": [
        {
          "output_type": "execute_result",
          "data": {
            "text/html": [
              "<div>\n",
              "<style scoped>\n",
              "    .dataframe tbody tr th:only-of-type {\n",
              "        vertical-align: middle;\n",
              "    }\n",
              "\n",
              "    .dataframe tbody tr th {\n",
              "        vertical-align: top;\n",
              "    }\n",
              "\n",
              "    .dataframe thead th {\n",
              "        text-align: right;\n",
              "    }\n",
              "</style>\n",
              "<table border=\"1\" class=\"dataframe\">\n",
              "  <thead>\n",
              "    <tr style=\"text-align: right;\">\n",
              "      <th></th>\n",
              "      <th>date</th>\n",
              "      <th>item</th>\n",
              "      <th>value</th>\n",
              "    </tr>\n",
              "  </thead>\n",
              "  <tbody>\n",
              "    <tr>\n",
              "      <th>0</th>\n",
              "      <td>1959-03-31 23:59:59.999999999</td>\n",
              "      <td>realgdp</td>\n",
              "      <td>2710.349</td>\n",
              "    </tr>\n",
              "    <tr>\n",
              "      <th>1</th>\n",
              "      <td>1959-03-31 23:59:59.999999999</td>\n",
              "      <td>infl</td>\n",
              "      <td>0.000</td>\n",
              "    </tr>\n",
              "    <tr>\n",
              "      <th>2</th>\n",
              "      <td>1959-03-31 23:59:59.999999999</td>\n",
              "      <td>unemp</td>\n",
              "      <td>5.800</td>\n",
              "    </tr>\n",
              "    <tr>\n",
              "      <th>3</th>\n",
              "      <td>1959-06-30 23:59:59.999999999</td>\n",
              "      <td>realgdp</td>\n",
              "      <td>2778.801</td>\n",
              "    </tr>\n",
              "    <tr>\n",
              "      <th>4</th>\n",
              "      <td>1959-06-30 23:59:59.999999999</td>\n",
              "      <td>infl</td>\n",
              "      <td>2.340</td>\n",
              "    </tr>\n",
              "    <tr>\n",
              "      <th>5</th>\n",
              "      <td>1959-06-30 23:59:59.999999999</td>\n",
              "      <td>unemp</td>\n",
              "      <td>5.100</td>\n",
              "    </tr>\n",
              "    <tr>\n",
              "      <th>6</th>\n",
              "      <td>1959-09-30 23:59:59.999999999</td>\n",
              "      <td>realgdp</td>\n",
              "      <td>2775.488</td>\n",
              "    </tr>\n",
              "    <tr>\n",
              "      <th>7</th>\n",
              "      <td>1959-09-30 23:59:59.999999999</td>\n",
              "      <td>infl</td>\n",
              "      <td>2.740</td>\n",
              "    </tr>\n",
              "    <tr>\n",
              "      <th>8</th>\n",
              "      <td>1959-09-30 23:59:59.999999999</td>\n",
              "      <td>unemp</td>\n",
              "      <td>5.300</td>\n",
              "    </tr>\n",
              "    <tr>\n",
              "      <th>9</th>\n",
              "      <td>1959-12-31 23:59:59.999999999</td>\n",
              "      <td>realgdp</td>\n",
              "      <td>2785.204</td>\n",
              "    </tr>\n",
              "  </tbody>\n",
              "</table>\n",
              "</div>"
            ],
            "text/plain": [
              "                           date     item     value\n",
              "0 1959-03-31 23:59:59.999999999  realgdp  2710.349\n",
              "1 1959-03-31 23:59:59.999999999     infl     0.000\n",
              "2 1959-03-31 23:59:59.999999999    unemp     5.800\n",
              "3 1959-06-30 23:59:59.999999999  realgdp  2778.801\n",
              "4 1959-06-30 23:59:59.999999999     infl     2.340\n",
              "5 1959-06-30 23:59:59.999999999    unemp     5.100\n",
              "6 1959-09-30 23:59:59.999999999  realgdp  2775.488\n",
              "7 1959-09-30 23:59:59.999999999     infl     2.740\n",
              "8 1959-09-30 23:59:59.999999999    unemp     5.300\n",
              "9 1959-12-31 23:59:59.999999999  realgdp  2785.204"
            ]
          },
          "metadata": {
            "tags": []
          },
          "execution_count": 62
        }
      ]
    },
    {
      "cell_type": "code",
      "metadata": {
        "id": "f8DSc4RuEkvC"
      },
      "source": [
        "#Data is frequently stored this way in relational databases like MySQL, as a \n",
        "#fixed schema (column names and data types) allows the number of distinct values \n",
        "#in the item column to change as data is added to the table. In the previous \n",
        "#example, date and item would usually be the primary keys (in relational \n",
        "#database parlance), offering both relational integrity and easier joins. In \n",
        "#some cases, the data may be more difficult to work with in this format; you \n",
        "#might prefer to have a DataFrame containing one column per distinct item value \n",
        "#indexed by timestamps in the date column."
      ],
      "execution_count": null,
      "outputs": []
    },
    {
      "cell_type": "code",
      "metadata": {
        "deletable": true,
        "editable": true,
        "id": "f7PLGOO6LbZ3",
        "colab": {
          "base_uri": "https://localhost:8080/",
          "height": 431
        },
        "outputId": "c2f5b65c-55cb-474a-b4e1-23fb31782350"
      },
      "source": [
        "#Data‐Frame’s pivot method performs exactly this transformation:\n",
        "pivoted = ldata.pivot('date', 'item', 'value')\n",
        "pivoted"
      ],
      "execution_count": null,
      "outputs": [
        {
          "output_type": "execute_result",
          "data": {
            "text/html": [
              "<div>\n",
              "<style scoped>\n",
              "    .dataframe tbody tr th:only-of-type {\n",
              "        vertical-align: middle;\n",
              "    }\n",
              "\n",
              "    .dataframe tbody tr th {\n",
              "        vertical-align: top;\n",
              "    }\n",
              "\n",
              "    .dataframe thead th {\n",
              "        text-align: right;\n",
              "    }\n",
              "</style>\n",
              "<table border=\"1\" class=\"dataframe\">\n",
              "  <thead>\n",
              "    <tr style=\"text-align: right;\">\n",
              "      <th>item</th>\n",
              "      <th>infl</th>\n",
              "      <th>realgdp</th>\n",
              "      <th>unemp</th>\n",
              "    </tr>\n",
              "    <tr>\n",
              "      <th>date</th>\n",
              "      <th></th>\n",
              "      <th></th>\n",
              "      <th></th>\n",
              "    </tr>\n",
              "  </thead>\n",
              "  <tbody>\n",
              "    <tr>\n",
              "      <th>1959-03-31 23:59:59.999999999</th>\n",
              "      <td>0.00</td>\n",
              "      <td>2710.349</td>\n",
              "      <td>5.8</td>\n",
              "    </tr>\n",
              "    <tr>\n",
              "      <th>1959-06-30 23:59:59.999999999</th>\n",
              "      <td>2.34</td>\n",
              "      <td>2778.801</td>\n",
              "      <td>5.1</td>\n",
              "    </tr>\n",
              "    <tr>\n",
              "      <th>1959-09-30 23:59:59.999999999</th>\n",
              "      <td>2.74</td>\n",
              "      <td>2775.488</td>\n",
              "      <td>5.3</td>\n",
              "    </tr>\n",
              "    <tr>\n",
              "      <th>1959-12-31 23:59:59.999999999</th>\n",
              "      <td>0.27</td>\n",
              "      <td>2785.204</td>\n",
              "      <td>5.6</td>\n",
              "    </tr>\n",
              "    <tr>\n",
              "      <th>1960-03-31 23:59:59.999999999</th>\n",
              "      <td>2.31</td>\n",
              "      <td>2847.699</td>\n",
              "      <td>5.2</td>\n",
              "    </tr>\n",
              "    <tr>\n",
              "      <th>...</th>\n",
              "      <td>...</td>\n",
              "      <td>...</td>\n",
              "      <td>...</td>\n",
              "    </tr>\n",
              "    <tr>\n",
              "      <th>2008-09-30 23:59:59.999999999</th>\n",
              "      <td>-3.16</td>\n",
              "      <td>13324.600</td>\n",
              "      <td>6.0</td>\n",
              "    </tr>\n",
              "    <tr>\n",
              "      <th>2008-12-31 23:59:59.999999999</th>\n",
              "      <td>-8.79</td>\n",
              "      <td>13141.920</td>\n",
              "      <td>6.9</td>\n",
              "    </tr>\n",
              "    <tr>\n",
              "      <th>2009-03-31 23:59:59.999999999</th>\n",
              "      <td>0.94</td>\n",
              "      <td>12925.410</td>\n",
              "      <td>8.1</td>\n",
              "    </tr>\n",
              "    <tr>\n",
              "      <th>2009-06-30 23:59:59.999999999</th>\n",
              "      <td>3.37</td>\n",
              "      <td>12901.504</td>\n",
              "      <td>9.2</td>\n",
              "    </tr>\n",
              "    <tr>\n",
              "      <th>2009-09-30 23:59:59.999999999</th>\n",
              "      <td>3.56</td>\n",
              "      <td>12990.341</td>\n",
              "      <td>9.6</td>\n",
              "    </tr>\n",
              "  </tbody>\n",
              "</table>\n",
              "<p>203 rows × 3 columns</p>\n",
              "</div>"
            ],
            "text/plain": [
              "item                           infl    realgdp  unemp\n",
              "date                                                 \n",
              "1959-03-31 23:59:59.999999999  0.00   2710.349    5.8\n",
              "1959-06-30 23:59:59.999999999  2.34   2778.801    5.1\n",
              "1959-09-30 23:59:59.999999999  2.74   2775.488    5.3\n",
              "1959-12-31 23:59:59.999999999  0.27   2785.204    5.6\n",
              "1960-03-31 23:59:59.999999999  2.31   2847.699    5.2\n",
              "...                             ...        ...    ...\n",
              "2008-09-30 23:59:59.999999999 -3.16  13324.600    6.0\n",
              "2008-12-31 23:59:59.999999999 -8.79  13141.920    6.9\n",
              "2009-03-31 23:59:59.999999999  0.94  12925.410    8.1\n",
              "2009-06-30 23:59:59.999999999  3.37  12901.504    9.2\n",
              "2009-09-30 23:59:59.999999999  3.56  12990.341    9.6\n",
              "\n",
              "[203 rows x 3 columns]"
            ]
          },
          "metadata": {
            "tags": []
          },
          "execution_count": 63
        }
      ]
    },
    {
      "cell_type": "code",
      "metadata": {
        "deletable": true,
        "editable": true,
        "id": "NbXc9f0oLbZ6",
        "colab": {
          "base_uri": "https://localhost:8080/",
          "height": 348
        },
        "outputId": "f661bcd2-35c6-4f9f-b521-334ceed1471f"
      },
      "source": [
        "#The first two values passed are the columns to be used respectively as the row \n",
        "#and column index, then finally an optional value column to fill the DataFrame. \n",
        "#Suppose you had two value columns that you wanted to reshape simultaneously:\n",
        "ldata['value2'] = np.random.randn(len(ldata))\n",
        "ldata[:10]"
      ],
      "execution_count": null,
      "outputs": [
        {
          "output_type": "execute_result",
          "data": {
            "text/html": [
              "<div>\n",
              "<style scoped>\n",
              "    .dataframe tbody tr th:only-of-type {\n",
              "        vertical-align: middle;\n",
              "    }\n",
              "\n",
              "    .dataframe tbody tr th {\n",
              "        vertical-align: top;\n",
              "    }\n",
              "\n",
              "    .dataframe thead th {\n",
              "        text-align: right;\n",
              "    }\n",
              "</style>\n",
              "<table border=\"1\" class=\"dataframe\">\n",
              "  <thead>\n",
              "    <tr style=\"text-align: right;\">\n",
              "      <th></th>\n",
              "      <th>date</th>\n",
              "      <th>item</th>\n",
              "      <th>value</th>\n",
              "      <th>value2</th>\n",
              "    </tr>\n",
              "  </thead>\n",
              "  <tbody>\n",
              "    <tr>\n",
              "      <th>0</th>\n",
              "      <td>1959-03-31 23:59:59.999999999</td>\n",
              "      <td>realgdp</td>\n",
              "      <td>2710.349</td>\n",
              "      <td>-0.204708</td>\n",
              "    </tr>\n",
              "    <tr>\n",
              "      <th>1</th>\n",
              "      <td>1959-03-31 23:59:59.999999999</td>\n",
              "      <td>infl</td>\n",
              "      <td>0.000</td>\n",
              "      <td>0.478943</td>\n",
              "    </tr>\n",
              "    <tr>\n",
              "      <th>2</th>\n",
              "      <td>1959-03-31 23:59:59.999999999</td>\n",
              "      <td>unemp</td>\n",
              "      <td>5.800</td>\n",
              "      <td>-0.519439</td>\n",
              "    </tr>\n",
              "    <tr>\n",
              "      <th>3</th>\n",
              "      <td>1959-06-30 23:59:59.999999999</td>\n",
              "      <td>realgdp</td>\n",
              "      <td>2778.801</td>\n",
              "      <td>-0.555730</td>\n",
              "    </tr>\n",
              "    <tr>\n",
              "      <th>4</th>\n",
              "      <td>1959-06-30 23:59:59.999999999</td>\n",
              "      <td>infl</td>\n",
              "      <td>2.340</td>\n",
              "      <td>1.965781</td>\n",
              "    </tr>\n",
              "    <tr>\n",
              "      <th>5</th>\n",
              "      <td>1959-06-30 23:59:59.999999999</td>\n",
              "      <td>unemp</td>\n",
              "      <td>5.100</td>\n",
              "      <td>1.393406</td>\n",
              "    </tr>\n",
              "    <tr>\n",
              "      <th>6</th>\n",
              "      <td>1959-09-30 23:59:59.999999999</td>\n",
              "      <td>realgdp</td>\n",
              "      <td>2775.488</td>\n",
              "      <td>0.092908</td>\n",
              "    </tr>\n",
              "    <tr>\n",
              "      <th>7</th>\n",
              "      <td>1959-09-30 23:59:59.999999999</td>\n",
              "      <td>infl</td>\n",
              "      <td>2.740</td>\n",
              "      <td>0.281746</td>\n",
              "    </tr>\n",
              "    <tr>\n",
              "      <th>8</th>\n",
              "      <td>1959-09-30 23:59:59.999999999</td>\n",
              "      <td>unemp</td>\n",
              "      <td>5.300</td>\n",
              "      <td>0.769023</td>\n",
              "    </tr>\n",
              "    <tr>\n",
              "      <th>9</th>\n",
              "      <td>1959-12-31 23:59:59.999999999</td>\n",
              "      <td>realgdp</td>\n",
              "      <td>2785.204</td>\n",
              "      <td>1.246435</td>\n",
              "    </tr>\n",
              "  </tbody>\n",
              "</table>\n",
              "</div>"
            ],
            "text/plain": [
              "                           date     item     value    value2\n",
              "0 1959-03-31 23:59:59.999999999  realgdp  2710.349 -0.204708\n",
              "1 1959-03-31 23:59:59.999999999     infl     0.000  0.478943\n",
              "2 1959-03-31 23:59:59.999999999    unemp     5.800 -0.519439\n",
              "3 1959-06-30 23:59:59.999999999  realgdp  2778.801 -0.555730\n",
              "4 1959-06-30 23:59:59.999999999     infl     2.340  1.965781\n",
              "5 1959-06-30 23:59:59.999999999    unemp     5.100  1.393406\n",
              "6 1959-09-30 23:59:59.999999999  realgdp  2775.488  0.092908\n",
              "7 1959-09-30 23:59:59.999999999     infl     2.740  0.281746\n",
              "8 1959-09-30 23:59:59.999999999    unemp     5.300  0.769023\n",
              "9 1959-12-31 23:59:59.999999999  realgdp  2785.204  1.246435"
            ]
          },
          "metadata": {
            "tags": []
          },
          "execution_count": 33
        }
      ]
    },
    {
      "cell_type": "code",
      "metadata": {
        "deletable": true,
        "editable": true,
        "id": "ZeNXTFE3LbZ8",
        "colab": {
          "base_uri": "https://localhost:8080/",
          "height": 410
        },
        "outputId": "388e2944-3efb-4efa-f8d5-0b51cafbaa5a"
      },
      "source": [
        "#By omitting the last argument, you obtain a DataFrame with hierarchical columns:\n",
        "pivoted = ldata.pivot('date', 'item')\n",
        "print(pivoted[:5])\n",
        "pivoted['value'][:5]"
      ],
      "execution_count": null,
      "outputs": [
        {
          "output_type": "stream",
          "text": [
            "                              value            ...    value2          \n",
            "item                           infl   realgdp  ...   realgdp     unemp\n",
            "date                                           ...                    \n",
            "1959-03-31 23:59:59.999999999  0.00  2710.349  ... -0.204708 -0.519439\n",
            "1959-06-30 23:59:59.999999999  2.34  2778.801  ... -0.555730  1.393406\n",
            "1959-09-30 23:59:59.999999999  2.74  2775.488  ...  0.092908  0.769023\n",
            "1959-12-31 23:59:59.999999999  0.27  2785.204  ...  1.246435 -1.296221\n",
            "1960-03-31 23:59:59.999999999  2.31  2847.699  ...  0.274992  1.352917\n",
            "\n",
            "[5 rows x 6 columns]\n"
          ],
          "name": "stdout"
        },
        {
          "output_type": "execute_result",
          "data": {
            "text/html": [
              "<div>\n",
              "<style scoped>\n",
              "    .dataframe tbody tr th:only-of-type {\n",
              "        vertical-align: middle;\n",
              "    }\n",
              "\n",
              "    .dataframe tbody tr th {\n",
              "        vertical-align: top;\n",
              "    }\n",
              "\n",
              "    .dataframe thead th {\n",
              "        text-align: right;\n",
              "    }\n",
              "</style>\n",
              "<table border=\"1\" class=\"dataframe\">\n",
              "  <thead>\n",
              "    <tr style=\"text-align: right;\">\n",
              "      <th>item</th>\n",
              "      <th>infl</th>\n",
              "      <th>realgdp</th>\n",
              "      <th>unemp</th>\n",
              "    </tr>\n",
              "    <tr>\n",
              "      <th>date</th>\n",
              "      <th></th>\n",
              "      <th></th>\n",
              "      <th></th>\n",
              "    </tr>\n",
              "  </thead>\n",
              "  <tbody>\n",
              "    <tr>\n",
              "      <th>1959-03-31 23:59:59.999999999</th>\n",
              "      <td>0.00</td>\n",
              "      <td>2710.349</td>\n",
              "      <td>5.8</td>\n",
              "    </tr>\n",
              "    <tr>\n",
              "      <th>1959-06-30 23:59:59.999999999</th>\n",
              "      <td>2.34</td>\n",
              "      <td>2778.801</td>\n",
              "      <td>5.1</td>\n",
              "    </tr>\n",
              "    <tr>\n",
              "      <th>1959-09-30 23:59:59.999999999</th>\n",
              "      <td>2.74</td>\n",
              "      <td>2775.488</td>\n",
              "      <td>5.3</td>\n",
              "    </tr>\n",
              "    <tr>\n",
              "      <th>1959-12-31 23:59:59.999999999</th>\n",
              "      <td>0.27</td>\n",
              "      <td>2785.204</td>\n",
              "      <td>5.6</td>\n",
              "    </tr>\n",
              "    <tr>\n",
              "      <th>1960-03-31 23:59:59.999999999</th>\n",
              "      <td>2.31</td>\n",
              "      <td>2847.699</td>\n",
              "      <td>5.2</td>\n",
              "    </tr>\n",
              "  </tbody>\n",
              "</table>\n",
              "</div>"
            ],
            "text/plain": [
              "item                           infl   realgdp  unemp\n",
              "date                                                \n",
              "1959-03-31 23:59:59.999999999  0.00  2710.349    5.8\n",
              "1959-06-30 23:59:59.999999999  2.34  2778.801    5.1\n",
              "1959-09-30 23:59:59.999999999  2.74  2775.488    5.3\n",
              "1959-12-31 23:59:59.999999999  0.27  2785.204    5.6\n",
              "1960-03-31 23:59:59.999999999  2.31  2847.699    5.2"
            ]
          },
          "metadata": {
            "tags": []
          },
          "execution_count": 35
        }
      ]
    },
    {
      "cell_type": "code",
      "metadata": {
        "deletable": true,
        "editable": true,
        "id": "FIBqBeccLbZ_",
        "colab": {
          "base_uri": "https://localhost:8080/",
          "height": 314
        },
        "outputId": "a47398a4-0c86-4dcc-b722-e424b3af0903"
      },
      "source": [
        "#Note that pivot is equivalent to creating a hierarchical index using set_index \n",
        "#followed by a call to unstack:\n",
        "unstacked = ldata.set_index(['date', 'item']).unstack('item')\n",
        "unstacked[:7]"
      ],
      "execution_count": null,
      "outputs": [
        {
          "output_type": "execute_result",
          "data": {
            "text/html": [
              "<div>\n",
              "<style scoped>\n",
              "    .dataframe tbody tr th:only-of-type {\n",
              "        vertical-align: middle;\n",
              "    }\n",
              "\n",
              "    .dataframe tbody tr th {\n",
              "        vertical-align: top;\n",
              "    }\n",
              "\n",
              "    .dataframe thead tr th {\n",
              "        text-align: left;\n",
              "    }\n",
              "\n",
              "    .dataframe thead tr:last-of-type th {\n",
              "        text-align: right;\n",
              "    }\n",
              "</style>\n",
              "<table border=\"1\" class=\"dataframe\">\n",
              "  <thead>\n",
              "    <tr>\n",
              "      <th></th>\n",
              "      <th colspan=\"3\" halign=\"left\">value</th>\n",
              "    </tr>\n",
              "    <tr>\n",
              "      <th>item</th>\n",
              "      <th>infl</th>\n",
              "      <th>realgdp</th>\n",
              "      <th>unemp</th>\n",
              "    </tr>\n",
              "    <tr>\n",
              "      <th>date</th>\n",
              "      <th></th>\n",
              "      <th></th>\n",
              "      <th></th>\n",
              "    </tr>\n",
              "  </thead>\n",
              "  <tbody>\n",
              "    <tr>\n",
              "      <th>1959-03-31 23:59:59.999999999</th>\n",
              "      <td>0.00</td>\n",
              "      <td>2710.349</td>\n",
              "      <td>5.8</td>\n",
              "    </tr>\n",
              "    <tr>\n",
              "      <th>1959-06-30 23:59:59.999999999</th>\n",
              "      <td>2.34</td>\n",
              "      <td>2778.801</td>\n",
              "      <td>5.1</td>\n",
              "    </tr>\n",
              "    <tr>\n",
              "      <th>1959-09-30 23:59:59.999999999</th>\n",
              "      <td>2.74</td>\n",
              "      <td>2775.488</td>\n",
              "      <td>5.3</td>\n",
              "    </tr>\n",
              "    <tr>\n",
              "      <th>1959-12-31 23:59:59.999999999</th>\n",
              "      <td>0.27</td>\n",
              "      <td>2785.204</td>\n",
              "      <td>5.6</td>\n",
              "    </tr>\n",
              "    <tr>\n",
              "      <th>1960-03-31 23:59:59.999999999</th>\n",
              "      <td>2.31</td>\n",
              "      <td>2847.699</td>\n",
              "      <td>5.2</td>\n",
              "    </tr>\n",
              "    <tr>\n",
              "      <th>1960-06-30 23:59:59.999999999</th>\n",
              "      <td>0.14</td>\n",
              "      <td>2834.390</td>\n",
              "      <td>5.2</td>\n",
              "    </tr>\n",
              "    <tr>\n",
              "      <th>1960-09-30 23:59:59.999999999</th>\n",
              "      <td>2.70</td>\n",
              "      <td>2839.022</td>\n",
              "      <td>5.6</td>\n",
              "    </tr>\n",
              "  </tbody>\n",
              "</table>\n",
              "</div>"
            ],
            "text/plain": [
              "                              value                \n",
              "item                           infl   realgdp unemp\n",
              "date                                               \n",
              "1959-03-31 23:59:59.999999999  0.00  2710.349   5.8\n",
              "1959-06-30 23:59:59.999999999  2.34  2778.801   5.1\n",
              "1959-09-30 23:59:59.999999999  2.74  2775.488   5.3\n",
              "1959-12-31 23:59:59.999999999  0.27  2785.204   5.6\n",
              "1960-03-31 23:59:59.999999999  2.31  2847.699   5.2\n",
              "1960-06-30 23:59:59.999999999  0.14  2834.390   5.2\n",
              "1960-09-30 23:59:59.999999999  2.70  2839.022   5.6"
            ]
          },
          "metadata": {
            "tags": []
          },
          "execution_count": 64
        }
      ]
    },
    {
      "cell_type": "markdown",
      "metadata": {
        "deletable": true,
        "editable": true,
        "id": "UfyCMqVaLbaC"
      },
      "source": [
        "### Pivoting “Wide” to “Long” Format"
      ]
    },
    {
      "cell_type": "code",
      "metadata": {
        "id": "59Cpvae_FbE6"
      },
      "source": [
        "#An inverse operation to pivot for DataFrames is pandas.melt. Rather than \n",
        "#transforming one column into many in a new DataFrame, it merges multiple \n",
        "#columns into one, producing a DataFrame that is longer than the input. \n",
        "#Let’s look at an example:"
      ],
      "execution_count": null,
      "outputs": []
    },
    {
      "cell_type": "code",
      "metadata": {
        "deletable": true,
        "editable": true,
        "id": "8xPZvOH0LbaD",
        "colab": {
          "base_uri": "https://localhost:8080/",
          "height": 136
        },
        "outputId": "2a0e4a99-f779-4cdc-bcd5-3755d86a520d"
      },
      "source": [
        "df = pd.DataFrame({'key': ['foo', 'bar', 'baz'],\n",
        "                   'A': [1, 2, 3],\n",
        "                   'B': [4, 5, 6],\n",
        "                   'C': [7, 8, 9]})\n",
        "df"
      ],
      "execution_count": null,
      "outputs": [
        {
          "output_type": "execute_result",
          "data": {
            "text/html": [
              "<div>\n",
              "<style scoped>\n",
              "    .dataframe tbody tr th:only-of-type {\n",
              "        vertical-align: middle;\n",
              "    }\n",
              "\n",
              "    .dataframe tbody tr th {\n",
              "        vertical-align: top;\n",
              "    }\n",
              "\n",
              "    .dataframe thead th {\n",
              "        text-align: right;\n",
              "    }\n",
              "</style>\n",
              "<table border=\"1\" class=\"dataframe\">\n",
              "  <thead>\n",
              "    <tr style=\"text-align: right;\">\n",
              "      <th></th>\n",
              "      <th>key</th>\n",
              "      <th>A</th>\n",
              "      <th>B</th>\n",
              "      <th>C</th>\n",
              "    </tr>\n",
              "  </thead>\n",
              "  <tbody>\n",
              "    <tr>\n",
              "      <th>0</th>\n",
              "      <td>foo</td>\n",
              "      <td>1</td>\n",
              "      <td>4</td>\n",
              "      <td>7</td>\n",
              "    </tr>\n",
              "    <tr>\n",
              "      <th>1</th>\n",
              "      <td>bar</td>\n",
              "      <td>2</td>\n",
              "      <td>5</td>\n",
              "      <td>8</td>\n",
              "    </tr>\n",
              "    <tr>\n",
              "      <th>2</th>\n",
              "      <td>baz</td>\n",
              "      <td>3</td>\n",
              "      <td>6</td>\n",
              "      <td>9</td>\n",
              "    </tr>\n",
              "  </tbody>\n",
              "</table>\n",
              "</div>"
            ],
            "text/plain": [
              "   key  A  B  C\n",
              "0  foo  1  4  7\n",
              "1  bar  2  5  8\n",
              "2  baz  3  6  9"
            ]
          },
          "metadata": {
            "tags": []
          },
          "execution_count": 65
        }
      ]
    },
    {
      "cell_type": "code",
      "metadata": {
        "deletable": true,
        "editable": true,
        "id": "QPmLqm76LbaF",
        "colab": {
          "base_uri": "https://localhost:8080/",
          "height": 314
        },
        "outputId": "c1c67346-c638-4cf0-fa8a-61c23958fd09"
      },
      "source": [
        "#The 'key' column may be a group indicator, and the other columns are data \n",
        "#values. When using pandas.melt, we must indicate which columns (if any) are \n",
        "#group indicators. Let’s use 'key' as the only group indicator here:\n",
        "melted = pd.melt(df, ['key'])\n",
        "melted"
      ],
      "execution_count": null,
      "outputs": [
        {
          "output_type": "execute_result",
          "data": {
            "text/html": [
              "<div>\n",
              "<style scoped>\n",
              "    .dataframe tbody tr th:only-of-type {\n",
              "        vertical-align: middle;\n",
              "    }\n",
              "\n",
              "    .dataframe tbody tr th {\n",
              "        vertical-align: top;\n",
              "    }\n",
              "\n",
              "    .dataframe thead th {\n",
              "        text-align: right;\n",
              "    }\n",
              "</style>\n",
              "<table border=\"1\" class=\"dataframe\">\n",
              "  <thead>\n",
              "    <tr style=\"text-align: right;\">\n",
              "      <th></th>\n",
              "      <th>key</th>\n",
              "      <th>variable</th>\n",
              "      <th>value</th>\n",
              "    </tr>\n",
              "  </thead>\n",
              "  <tbody>\n",
              "    <tr>\n",
              "      <th>0</th>\n",
              "      <td>foo</td>\n",
              "      <td>A</td>\n",
              "      <td>1</td>\n",
              "    </tr>\n",
              "    <tr>\n",
              "      <th>1</th>\n",
              "      <td>bar</td>\n",
              "      <td>A</td>\n",
              "      <td>2</td>\n",
              "    </tr>\n",
              "    <tr>\n",
              "      <th>2</th>\n",
              "      <td>baz</td>\n",
              "      <td>A</td>\n",
              "      <td>3</td>\n",
              "    </tr>\n",
              "    <tr>\n",
              "      <th>3</th>\n",
              "      <td>foo</td>\n",
              "      <td>B</td>\n",
              "      <td>4</td>\n",
              "    </tr>\n",
              "    <tr>\n",
              "      <th>4</th>\n",
              "      <td>bar</td>\n",
              "      <td>B</td>\n",
              "      <td>5</td>\n",
              "    </tr>\n",
              "    <tr>\n",
              "      <th>5</th>\n",
              "      <td>baz</td>\n",
              "      <td>B</td>\n",
              "      <td>6</td>\n",
              "    </tr>\n",
              "    <tr>\n",
              "      <th>6</th>\n",
              "      <td>foo</td>\n",
              "      <td>C</td>\n",
              "      <td>7</td>\n",
              "    </tr>\n",
              "    <tr>\n",
              "      <th>7</th>\n",
              "      <td>bar</td>\n",
              "      <td>C</td>\n",
              "      <td>8</td>\n",
              "    </tr>\n",
              "    <tr>\n",
              "      <th>8</th>\n",
              "      <td>baz</td>\n",
              "      <td>C</td>\n",
              "      <td>9</td>\n",
              "    </tr>\n",
              "  </tbody>\n",
              "</table>\n",
              "</div>"
            ],
            "text/plain": [
              "   key variable  value\n",
              "0  foo        A      1\n",
              "1  bar        A      2\n",
              "2  baz        A      3\n",
              "3  foo        B      4\n",
              "4  bar        B      5\n",
              "5  baz        B      6\n",
              "6  foo        C      7\n",
              "7  bar        C      8\n",
              "8  baz        C      9"
            ]
          },
          "metadata": {
            "tags": []
          },
          "execution_count": 66
        }
      ]
    },
    {
      "cell_type": "code",
      "metadata": {
        "deletable": true,
        "editable": true,
        "id": "JBjmSewoLbaH",
        "colab": {
          "base_uri": "https://localhost:8080/",
          "height": 166
        },
        "outputId": "b4d76bd6-5636-4630-b14c-498dbcb2ffff"
      },
      "source": [
        "#Using pivot, we can reshape back to the original layout:\n",
        "reshaped = melted.pivot('key', 'variable', 'value')\n",
        "reshaped"
      ],
      "execution_count": null,
      "outputs": [
        {
          "output_type": "execute_result",
          "data": {
            "text/html": [
              "<div>\n",
              "<style scoped>\n",
              "    .dataframe tbody tr th:only-of-type {\n",
              "        vertical-align: middle;\n",
              "    }\n",
              "\n",
              "    .dataframe tbody tr th {\n",
              "        vertical-align: top;\n",
              "    }\n",
              "\n",
              "    .dataframe thead th {\n",
              "        text-align: right;\n",
              "    }\n",
              "</style>\n",
              "<table border=\"1\" class=\"dataframe\">\n",
              "  <thead>\n",
              "    <tr style=\"text-align: right;\">\n",
              "      <th>variable</th>\n",
              "      <th>A</th>\n",
              "      <th>B</th>\n",
              "      <th>C</th>\n",
              "    </tr>\n",
              "    <tr>\n",
              "      <th>key</th>\n",
              "      <th></th>\n",
              "      <th></th>\n",
              "      <th></th>\n",
              "    </tr>\n",
              "  </thead>\n",
              "  <tbody>\n",
              "    <tr>\n",
              "      <th>bar</th>\n",
              "      <td>2</td>\n",
              "      <td>5</td>\n",
              "      <td>8</td>\n",
              "    </tr>\n",
              "    <tr>\n",
              "      <th>baz</th>\n",
              "      <td>3</td>\n",
              "      <td>6</td>\n",
              "      <td>9</td>\n",
              "    </tr>\n",
              "    <tr>\n",
              "      <th>foo</th>\n",
              "      <td>1</td>\n",
              "      <td>4</td>\n",
              "      <td>7</td>\n",
              "    </tr>\n",
              "  </tbody>\n",
              "</table>\n",
              "</div>"
            ],
            "text/plain": [
              "variable  A  B  C\n",
              "key              \n",
              "bar       2  5  8\n",
              "baz       3  6  9\n",
              "foo       1  4  7"
            ]
          },
          "metadata": {
            "tags": []
          },
          "execution_count": 67
        }
      ]
    },
    {
      "cell_type": "code",
      "metadata": {
        "deletable": true,
        "editable": true,
        "id": "C26E6i96LbaN",
        "colab": {
          "base_uri": "https://localhost:8080/",
          "height": 138
        },
        "outputId": "a6495e39-9c79-4005-baa2-31b363efa80a"
      },
      "source": [
        "#Since the result of pivot creates an index from the column used as the row \n",
        "#labels, we may want to use reset_index to move the data back into a column:\n",
        "reshaped.reset_index()"
      ],
      "execution_count": null,
      "outputs": [
        {
          "output_type": "execute_result",
          "data": {
            "text/html": [
              "<div>\n",
              "<style scoped>\n",
              "    .dataframe tbody tr th:only-of-type {\n",
              "        vertical-align: middle;\n",
              "    }\n",
              "\n",
              "    .dataframe tbody tr th {\n",
              "        vertical-align: top;\n",
              "    }\n",
              "\n",
              "    .dataframe thead th {\n",
              "        text-align: right;\n",
              "    }\n",
              "</style>\n",
              "<table border=\"1\" class=\"dataframe\">\n",
              "  <thead>\n",
              "    <tr style=\"text-align: right;\">\n",
              "      <th>variable</th>\n",
              "      <th>key</th>\n",
              "      <th>A</th>\n",
              "      <th>B</th>\n",
              "      <th>C</th>\n",
              "    </tr>\n",
              "  </thead>\n",
              "  <tbody>\n",
              "    <tr>\n",
              "      <th>0</th>\n",
              "      <td>bar</td>\n",
              "      <td>2</td>\n",
              "      <td>5</td>\n",
              "      <td>8</td>\n",
              "    </tr>\n",
              "    <tr>\n",
              "      <th>1</th>\n",
              "      <td>baz</td>\n",
              "      <td>3</td>\n",
              "      <td>6</td>\n",
              "      <td>9</td>\n",
              "    </tr>\n",
              "    <tr>\n",
              "      <th>2</th>\n",
              "      <td>foo</td>\n",
              "      <td>1</td>\n",
              "      <td>4</td>\n",
              "      <td>7</td>\n",
              "    </tr>\n",
              "  </tbody>\n",
              "</table>\n",
              "</div>"
            ],
            "text/plain": [
              "variable  key  A  B  C\n",
              "0         bar  2  5  8\n",
              "1         baz  3  6  9\n",
              "2         foo  1  4  7"
            ]
          },
          "metadata": {
            "tags": []
          },
          "execution_count": 41
        }
      ]
    },
    {
      "cell_type": "code",
      "metadata": {
        "deletable": true,
        "editable": true,
        "id": "NP6S_GKmLbaQ",
        "colab": {
          "base_uri": "https://localhost:8080/",
          "height": 225
        },
        "outputId": "53c49763-2a15-4108-f9ec-66431e0af583"
      },
      "source": [
        "#You can also specify a subset of columns to use as value columns:\n",
        "pd.melt(df, id_vars=['key'], value_vars=['A', 'B'])"
      ],
      "execution_count": null,
      "outputs": [
        {
          "output_type": "execute_result",
          "data": {
            "text/html": [
              "<div>\n",
              "<style scoped>\n",
              "    .dataframe tbody tr th:only-of-type {\n",
              "        vertical-align: middle;\n",
              "    }\n",
              "\n",
              "    .dataframe tbody tr th {\n",
              "        vertical-align: top;\n",
              "    }\n",
              "\n",
              "    .dataframe thead th {\n",
              "        text-align: right;\n",
              "    }\n",
              "</style>\n",
              "<table border=\"1\" class=\"dataframe\">\n",
              "  <thead>\n",
              "    <tr style=\"text-align: right;\">\n",
              "      <th></th>\n",
              "      <th>key</th>\n",
              "      <th>variable</th>\n",
              "      <th>value</th>\n",
              "    </tr>\n",
              "  </thead>\n",
              "  <tbody>\n",
              "    <tr>\n",
              "      <th>0</th>\n",
              "      <td>foo</td>\n",
              "      <td>A</td>\n",
              "      <td>1</td>\n",
              "    </tr>\n",
              "    <tr>\n",
              "      <th>1</th>\n",
              "      <td>bar</td>\n",
              "      <td>A</td>\n",
              "      <td>2</td>\n",
              "    </tr>\n",
              "    <tr>\n",
              "      <th>2</th>\n",
              "      <td>baz</td>\n",
              "      <td>A</td>\n",
              "      <td>3</td>\n",
              "    </tr>\n",
              "    <tr>\n",
              "      <th>3</th>\n",
              "      <td>foo</td>\n",
              "      <td>B</td>\n",
              "      <td>4</td>\n",
              "    </tr>\n",
              "    <tr>\n",
              "      <th>4</th>\n",
              "      <td>bar</td>\n",
              "      <td>B</td>\n",
              "      <td>5</td>\n",
              "    </tr>\n",
              "    <tr>\n",
              "      <th>5</th>\n",
              "      <td>baz</td>\n",
              "      <td>B</td>\n",
              "      <td>6</td>\n",
              "    </tr>\n",
              "  </tbody>\n",
              "</table>\n",
              "</div>"
            ],
            "text/plain": [
              "   key variable  value\n",
              "0  foo        A      1\n",
              "1  bar        A      2\n",
              "2  baz        A      3\n",
              "3  foo        B      4\n",
              "4  bar        B      5\n",
              "5  baz        B      6"
            ]
          },
          "metadata": {
            "tags": []
          },
          "execution_count": 68
        }
      ]
    },
    {
      "cell_type": "code",
      "metadata": {
        "deletable": true,
        "editable": true,
        "id": "cUfem3pvLbaT",
        "colab": {
          "base_uri": "https://localhost:8080/",
          "height": 482
        },
        "outputId": "a525a032-8ced-4e8f-9a4e-7a415cbf858e"
      },
      "source": [
        "print(pd.melt(df, value_vars=['A', 'B', 'C']))\n",
        "pd.melt(df, value_vars=['key', 'A', 'B'])"
      ],
      "execution_count": null,
      "outputs": [
        {
          "output_type": "stream",
          "text": [
            "  variable  value\n",
            "0        A      1\n",
            "1        A      2\n",
            "2        A      3\n",
            "3        B      4\n",
            "4        B      5\n",
            "5        B      6\n",
            "6        C      7\n",
            "7        C      8\n",
            "8        C      9\n"
          ],
          "name": "stdout"
        },
        {
          "output_type": "execute_result",
          "data": {
            "text/html": [
              "<div>\n",
              "<style scoped>\n",
              "    .dataframe tbody tr th:only-of-type {\n",
              "        vertical-align: middle;\n",
              "    }\n",
              "\n",
              "    .dataframe tbody tr th {\n",
              "        vertical-align: top;\n",
              "    }\n",
              "\n",
              "    .dataframe thead th {\n",
              "        text-align: right;\n",
              "    }\n",
              "</style>\n",
              "<table border=\"1\" class=\"dataframe\">\n",
              "  <thead>\n",
              "    <tr style=\"text-align: right;\">\n",
              "      <th></th>\n",
              "      <th>variable</th>\n",
              "      <th>value</th>\n",
              "    </tr>\n",
              "  </thead>\n",
              "  <tbody>\n",
              "    <tr>\n",
              "      <th>0</th>\n",
              "      <td>key</td>\n",
              "      <td>foo</td>\n",
              "    </tr>\n",
              "    <tr>\n",
              "      <th>1</th>\n",
              "      <td>key</td>\n",
              "      <td>bar</td>\n",
              "    </tr>\n",
              "    <tr>\n",
              "      <th>2</th>\n",
              "      <td>key</td>\n",
              "      <td>baz</td>\n",
              "    </tr>\n",
              "    <tr>\n",
              "      <th>3</th>\n",
              "      <td>A</td>\n",
              "      <td>1</td>\n",
              "    </tr>\n",
              "    <tr>\n",
              "      <th>4</th>\n",
              "      <td>A</td>\n",
              "      <td>2</td>\n",
              "    </tr>\n",
              "    <tr>\n",
              "      <th>5</th>\n",
              "      <td>A</td>\n",
              "      <td>3</td>\n",
              "    </tr>\n",
              "    <tr>\n",
              "      <th>6</th>\n",
              "      <td>B</td>\n",
              "      <td>4</td>\n",
              "    </tr>\n",
              "    <tr>\n",
              "      <th>7</th>\n",
              "      <td>B</td>\n",
              "      <td>5</td>\n",
              "    </tr>\n",
              "    <tr>\n",
              "      <th>8</th>\n",
              "      <td>B</td>\n",
              "      <td>6</td>\n",
              "    </tr>\n",
              "  </tbody>\n",
              "</table>\n",
              "</div>"
            ],
            "text/plain": [
              "  variable value\n",
              "0      key   foo\n",
              "1      key   bar\n",
              "2      key   baz\n",
              "3        A     1\n",
              "4        A     2\n",
              "5        A     3\n",
              "6        B     4\n",
              "7        B     5\n",
              "8        B     6"
            ]
          },
          "metadata": {
            "tags": []
          },
          "execution_count": 69
        }
      ]
    },
    {
      "cell_type": "markdown",
      "metadata": {
        "deletable": true,
        "editable": true,
        "id": "xrADRTlzLbaX"
      },
      "source": [
        "## References"
      ]
    },
    {
      "cell_type": "markdown",
      "metadata": {
        "id": "_9lk2d9Q-fo8"
      },
      "source": [
        "http://queirozf.com/entries/pandas-time-series-examples-datetimeindex-periodindex-and-timedeltaindex#plot-distribution-per-unit-time\n",
        "\n",
        "https://pandasguide.readthedocs.io/en/latest/Pandas/timeseries.html"
      ]
    },
    {
      "cell_type": "code",
      "metadata": {
        "id": "EgmpQMsZDz_p",
        "colab": {
          "base_uri": "https://localhost:8080/",
          "height": 262
        },
        "outputId": "e74c509c-7490-4c70-d336-ac8aa6147c2c"
      },
      "source": [
        "#Content Beyond the curriculum\n",
        "# this is the original dataframe\n",
        "df = pd.DataFrame({\n",
        "    'name':['john','mary','peter','jeff','bill'],\n",
        "    'date_of_birth':[\n",
        "        '2000-01-01', '1999-12-20', '2000-11-01', '1995-02-25', '1992-06-30',\n",
        "    ],\n",
        "})\n",
        "\n",
        "print(df.index)\n",
        "# RangeIndex(start=0, stop=5, step=1)\n",
        "\n",
        "# convert the column (it's a string) to datetime type\n",
        "datetime_series = pd.to_datetime(df['date_of_birth'])\n",
        "\n",
        "# create datetime index passing the datetime series\n",
        "datetime_index = pd.DatetimeIndex(datetime_series.values)\n",
        "\n",
        "df2=df.set_index(datetime_index)\n",
        "\n",
        "# we don't need the column anymore\n",
        "df2.drop('date_of_birth',axis=1,inplace=True)\n",
        "\n",
        "print(df2.index)\n",
        "df2\n"
      ],
      "execution_count": null,
      "outputs": [
        {
          "output_type": "stream",
          "text": [
            "RangeIndex(start=0, stop=5, step=1)\n",
            "DatetimeIndex(['2000-01-01', '1999-12-20', '2000-11-01', '1995-02-25',\n",
            "               '1992-06-30'],\n",
            "              dtype='datetime64[ns]', freq=None)\n"
          ],
          "name": "stdout"
        },
        {
          "output_type": "execute_result",
          "data": {
            "text/html": [
              "<div>\n",
              "<style scoped>\n",
              "    .dataframe tbody tr th:only-of-type {\n",
              "        vertical-align: middle;\n",
              "    }\n",
              "\n",
              "    .dataframe tbody tr th {\n",
              "        vertical-align: top;\n",
              "    }\n",
              "\n",
              "    .dataframe thead th {\n",
              "        text-align: right;\n",
              "    }\n",
              "</style>\n",
              "<table border=\"1\" class=\"dataframe\">\n",
              "  <thead>\n",
              "    <tr style=\"text-align: right;\">\n",
              "      <th></th>\n",
              "      <th>name</th>\n",
              "    </tr>\n",
              "  </thead>\n",
              "  <tbody>\n",
              "    <tr>\n",
              "      <th>2000-01-01</th>\n",
              "      <td>john</td>\n",
              "    </tr>\n",
              "    <tr>\n",
              "      <th>1999-12-20</th>\n",
              "      <td>mary</td>\n",
              "    </tr>\n",
              "    <tr>\n",
              "      <th>2000-11-01</th>\n",
              "      <td>peter</td>\n",
              "    </tr>\n",
              "    <tr>\n",
              "      <th>1995-02-25</th>\n",
              "      <td>jeff</td>\n",
              "    </tr>\n",
              "    <tr>\n",
              "      <th>1992-06-30</th>\n",
              "      <td>bill</td>\n",
              "    </tr>\n",
              "  </tbody>\n",
              "</table>\n",
              "</div>"
            ],
            "text/plain": [
              "             name\n",
              "2000-01-01   john\n",
              "1999-12-20   mary\n",
              "2000-11-01  peter\n",
              "1995-02-25   jeff\n",
              "1992-06-30   bill"
            ]
          },
          "metadata": {
            "tags": []
          },
          "execution_count": 70
        }
      ]
    },
    {
      "cell_type": "code",
      "metadata": {
        "id": "bFTakEKhD1dt"
      },
      "source": [
        ""
      ],
      "execution_count": null,
      "outputs": []
    }
  ]
}